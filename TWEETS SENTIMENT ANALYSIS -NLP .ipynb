{
 "cells": [
  {
   "cell_type": "markdown",
   "metadata": {},
   "source": [
    "# Assignment 1\n",
    "## Student Name: REVATHY SIVASANKARAN\n",
    "## Student Number: 1004622269\n",
    "\n",
    "\n",
    "# Data Cleaning"
   ]
  },
  {
   "cell_type": "markdown",
   "metadata": {},
   "source": [
    "importing pandas and numpy"
   ]
  },
  {
   "cell_type": "code",
   "execution_count": 1,
   "metadata": {},
   "outputs": [
    {
     "name": "stdout",
     "output_type": "stream",
     "text": [
      "[nltk_data] Downloading package wordnet to\n",
      "[nltk_data]     C:\\Users\\Revathy\\AppData\\Roaming\\nltk_data...\n",
      "[nltk_data]   Package wordnet is already up-to-date!\n"
     ]
    },
    {
     "data": {
      "text/plain": [
       "True"
      ]
     },
     "execution_count": 1,
     "metadata": {},
     "output_type": "execute_result"
    }
   ],
   "source": [
    "import numpy as np\n",
    "import sys\n",
    "%matplotlib inline\n",
    "import nltk\n",
    "import matplotlib.pyplot as plt\n",
    "nltk.download('wordnet')"
   ]
  },
  {
   "cell_type": "code",
   "execution_count": 2,
   "metadata": {},
   "outputs": [
    {
     "data": {
      "text/plain": [
       "['\"class\",\"id\",\"date\",\"query\",\"user\",\"text\"',\n",
       " '\"0\",\"1467810369\",\"Mon Apr 06 22:19:45 PDT 2009\",\"NO_QUERY\",\"_TheSpecialOne_\",\"@switchfoot http://twitpic.com/2y1zl - Awww, that\\'s a bummer.  You shoulda got David Carr of Third Day to do it. ;D\"',\n",
       " '\"0\",\"1467810672\",\"Mon Apr 06 22:19:49 PDT 2009\",\"NO_QUERY\",\"scotthamilton\",\"is upset that he can\\'t update his Facebook by texting it... and might cry as a result  School today also. Blah!\"',\n",
       " '\"0\",\"1467810917\",\"Mon Apr 06 22:19:53 PDT 2009\",\"NO_QUERY\",\"mattycus\",\"@Kenichan I dived many times for the ball. Managed to save 50%  The rest go out of bounds\"',\n",
       " '\"0\",\"1467811184\",\"Mon Apr 06 22:19:57 PDT 2009\",\"NO_QUERY\",\"ElleCTF\",\"my whole body feels itchy and like its on fire \"',\n",
       " '\"0\",\"1467811193\",\"Mon Apr 06 22:19:57 PDT 2009\",\"NO_QUERY\",\"Karoli\",\"@nationwideclass no, it\\'s not behaving at all. i\\'m mad. why am i here? because I can\\'t see you all over there. \"',\n",
       " '\"0\",\"1467811372\",\"Mon Apr 06 22:20:00 PDT 2009\",\"NO_QUERY\",\"joy_wolf\",\"@Kwesidei not the whole crew \"',\n",
       " '\"0\",\"1467811592\",\"Mon Apr 06 22:20:03 PDT 2009\",\"NO_QUERY\",\"mybirch\",\"Need a hug \"',\n",
       " '\"0\",\"1467811594\",\"Mon Apr 06 22:20:03 PDT 2009\",\"NO_QUERY\",\"coZZ\",\"@LOLTrish hey  long time no see! Yes.. Rains a bit ,only a bit  LOL , I\\'m fine thanks , how\\'s you ?\"',\n",
       " '\"0\",\"1467811795\",\"Mon Apr 06 22:20:05 PDT 2009\",\"NO_QUERY\",\"2Hood4Hollywood\",\"@Tatiana_K nope they didn\\'t have it \"',\n",
       " '\"0\",\"1467812025\",\"Mon Apr 06 22:20:09 PDT 2009\",\"NO_QUERY\",\"mimismo\",\"@twittera que me muera ? \"',\n",
       " '\"0\",\"1467812416\",\"Mon Apr 06 22:20:16 PDT 2009\",\"NO_QUERY\",\"erinx3leannexo\",\"spring break in plain city... it\\'s snowing \"',\n",
       " '\"0\",\"1467812579\",\"Mon Apr 06 22:20:17 PDT 2009\",\"NO_QUERY\",\"pardonlauren\",\"I just re-pierced my ears \"',\n",
       " '\"0\",\"1467812723\",\"Mon Apr 06 22:20:19 PDT 2009\",\"NO_QUERY\",\"TLeC\",\"@caregiving I couldn\\'t bear to watch it.  And I thought the UA loss was embarrassing . . . . .\"',\n",
       " '\"0\",\"1467812771\",\"Mon Apr 06 22:20:19 PDT 2009\",\"NO_QUERY\",\"robrobbierobert\",\"@octolinz16 It it counts, idk why I did either. you never talk to me anymore \"',\n",
       " '\"0\",\"1467812784\",\"Mon Apr 06 22:20:20 PDT 2009\",\"NO_QUERY\",\"bayofwolves\",\"@smarrison i would\\'ve been the first, but i didn\\'t have a gun.    not really though, zac snyder\\'s just a doucheclown.\"',\n",
       " '\"0\",\"1467812799\",\"Mon Apr 06 22:20:20 PDT 2009\",\"NO_QUERY\",\"HairByJess\",\"@iamjazzyfizzle I wish I got to watch it with you!! I miss you and @iamlilnicki  how was the premiere?!\"',\n",
       " '\"0\",\"1467812964\",\"Mon Apr 06 22:20:22 PDT 2009\",\"NO_QUERY\",\"lovesongwriter\",\"Hollis\\' death scene will hurt me severely to watch on film  wry is directors cut not out now?\"',\n",
       " '\"0\",\"1467813137\",\"Mon Apr 06 22:20:25 PDT 2009\",\"NO_QUERY\",\"armotley\",\"about to file taxes \"',\n",
       " '\"0\",\"1467813579\",\"Mon Apr 06 22:20:31 PDT 2009\",\"NO_QUERY\",\"starkissed\",\"@LettyA ahh ive always wanted to see rent  love the soundtrack!!\"',\n",
       " '\"0\",\"1467813782\",\"Mon Apr 06 22:20:34 PDT 2009\",\"NO_QUERY\",\"gi_gi_bee\",\"@FakerPattyPattz Oh dear. Were you drinking out of the forgotten table drinks? \"',\n",
       " '\"0\",\"1467813985\",\"Mon Apr 06 22:20:37 PDT 2009\",\"NO_QUERY\",\"quanvu\",\"@alydesigns i was out most of the day so didn\\'t get much done \"',\n",
       " '\"0\",\"1467813992\",\"Mon Apr 06 22:20:38 PDT 2009\",\"NO_QUERY\",\"swinspeedx\",\"one of my friend called me, and asked to meet with her at Mid Valley today...but i\\'ve no time *sigh* \"',\n",
       " '\"0\",\"1467814119\",\"Mon Apr 06 22:20:40 PDT 2009\",\"NO_QUERY\",\"cooliodoc\",\"@angry_barista I baked you a cake but I ated it \"',\n",
       " '\"0\",\"1467814180\",\"Mon Apr 06 22:20:40 PDT 2009\",\"NO_QUERY\",\"viJILLante\",\"this week is not going as i had hoped \"',\n",
       " '\"0\",\"1467814192\",\"Mon Apr 06 22:20:41 PDT 2009\",\"NO_QUERY\",\"Ljelli3166\",\"blagh class at 8 tomorrow \"',\n",
       " '\"0\",\"1467814438\",\"Mon Apr 06 22:20:44 PDT 2009\",\"NO_QUERY\",\"ChicagoCubbie\",\"I hate when I have to call and wake people up \"',\n",
       " '\"0\",\"1467814783\",\"Mon Apr 06 22:20:50 PDT 2009\",\"NO_QUERY\",\"KatieAngell\",\"Just going to cry myself to sleep after watching Marley and Me.  \"',\n",
       " '\"0\",\"1467814883\",\"Mon Apr 06 22:20:52 PDT 2009\",\"NO_QUERY\",\"gagoo\",\"im sad now  Miss.Lilly\"',\n",
       " '\"0\",\"1467815199\",\"Mon Apr 06 22:20:56 PDT 2009\",\"NO_QUERY\",\"abel209\",\"ooooh.... LOL  that leslie.... and ok I won\\'t do it again so leslie won\\'t  get mad again \"',\n",
       " '\"0\",\"1467815753\",\"Mon Apr 06 22:21:04 PDT 2009\",\"NO_QUERY\",\"BaptisteTheFool\",\"Meh... Almost Lover is the exception... this track gets me depressed every time. \"',\n",
       " '\"0\",\"1467815923\",\"Mon Apr 06 22:21:07 PDT 2009\",\"NO_QUERY\",\"fatkat309\",\"some1 hacked my account on aim  now i have to make a new one\"',\n",
       " '\"0\",\"1467815924\",\"Mon Apr 06 22:21:07 PDT 2009\",\"NO_QUERY\",\"EmCDL\",\"@alielayus I want to go to promote GEAR AND GROOVE but unfornately no ride there  I may b going to the one in Anaheim in May though\"',\n",
       " '\"0\",\"1467815988\",\"Mon Apr 06 22:21:09 PDT 2009\",\"NO_QUERY\",\"merisssa\",\"thought sleeping in was an option tomorrow but realizing that it now is not. evaluations in the morning and work in the afternoon! \"',\n",
       " '\"0\",\"1467816149\",\"Mon Apr 06 22:21:11 PDT 2009\",\"NO_QUERY\",\"Pbearfox\",\"@julieebaby awe i love you too!!!! 1 am here  i miss you\"',\n",
       " '\"0\",\"1467816665\",\"Mon Apr 06 22:21:21 PDT 2009\",\"NO_QUERY\",\"jsoo\",\"@HumpNinja I cry my asian eyes to sleep at night \"',\n",
       " '\"0\",\"1467816749\",\"Mon Apr 06 22:21:20 PDT 2009\",\"NO_QUERY\",\"scarletletterm\",\"ok I\\'m sick and spent an hour sitting in the shower cause I was too sick to stand and held back the puke like a champ. BED now \"',\n",
       " '\"0\",\"1467817225\",\"Mon Apr 06 22:21:27 PDT 2009\",\"NO_QUERY\",\"crosland_12\",\"@cocomix04 ill tell ya the story later  not a good day and ill be workin for like three more hours...\"',\n",
       " '\"0\",\"1467817374\",\"Mon Apr 06 22:21:30 PDT 2009\",\"NO_QUERY\",\"ajaxpro\",\"@MissXu sorry! bed time came here (GMT+1)   http://is.gd/fNge\"',\n",
       " '\"0\",\"1467817502\",\"Mon Apr 06 22:21:32 PDT 2009\",\"NO_QUERY\",\"Tmttq86\",\"@fleurylis I don\\'t either. Its depressing. I don\\'t think I even want to know about the kids in suitcases. \"',\n",
       " '\"0\",\"1467818007\",\"Mon Apr 06 22:21:39 PDT 2009\",\"NO_QUERY\",\"Anthony_Nguyen\",\"Bed. Class 8-12. Work 12-3. Gym 3-5 or 6. Then class 6-10. Another day that\\'s gonna fly by. I miss my girlfriend \"',\n",
       " '\"0\",\"1467818020\",\"Mon Apr 06 22:21:39 PDT 2009\",\"NO_QUERY\",\"itsanimesh\",\"really don\\'t feel like getting up today... but got to study to for tomorrows practical exam... \"',\n",
       " '\"0\",\"1467818481\",\"Mon Apr 06 22:21:46 PDT 2009\",\"NO_QUERY\",\"lionslamb\",\"He\\'s the reason for the teardrops on my guitar the only one who has enough of me to break my heart \"',\n",
       " '\"0\",\"1467818603\",\"Mon Apr 06 22:21:49 PDT 2009\",\"NO_QUERY\",\"kennypham\",\"Sad, sad, sad. I don\\'t know why but I hate this feeling  I wanna sleep and I still can\\'t!\"',\n",
       " '\"0\",\"1467818900\",\"Mon Apr 06 22:21:53 PDT 2009\",\"NO_QUERY\",\"DdubsShellBell\",\"@JonathanRKnight Awww I soo wish I was there to see you finally comfortable! Im sad that I missed it \"',\n",
       " '\"0\",\"1467819022\",\"Mon Apr 06 22:21:56 PDT 2009\",\"NO_QUERY\",\"hpfangirl94\",\"Falling asleep. Just heard about that Tracy girl\\'s body being found. How sad  My heart breaks for that family.\"',\n",
       " '\"0\",\"1467819650\",\"Mon Apr 06 22:22:05 PDT 2009\",\"NO_QUERY\",\"antzpantz\",\"@Viennah Yay! I\\'m happy for you with your job! But that also means less time for me and you... \"',\n",
       " '\"0\",\"1467819712\",\"Mon Apr 06 22:22:06 PDT 2009\",\"NO_QUERY\",\"labrt2004\",\"Just checked my user timeline on my blackberry, it looks like the twanking is still happening  Are ppl still having probs w/ BGs and UIDs?\"',\n",
       " '\"0\",\"1467819812\",\"Mon Apr 06 22:22:07 PDT 2009\",\"NO_QUERY\",\"IrisJumbe\",\"Oh man...was ironing @jeancjumbe\\'s fave top to wear to a meeting. Burnt it \"',\n",
       " '\"0\",\"1467820206\",\"Mon Apr 06 22:22:13 PDT 2009\",\"NO_QUERY\",\"peacoats\",\"is strangely sad about LiLo and SamRo breaking up. \"',\n",
       " '\"0\",\"1467820835\",\"Mon Apr 06 22:22:25 PDT 2009\",\"NO_QUERY\",\"cyantist\",\"@tea oh! i\\'m so sorry  i didn\\'t think about that before retweeting.\"',\n",
       " '\"0\",\"1467820863\",\"Mon Apr 06 22:22:23 PDT 2009\",\"NO_QUERY\",\"tautao\",\"Broadband plan \\'a massive broken promise\\' http://tinyurl.com/dcuc33 via www.diigo.com/~tautao Still waiting for broadband we are \"',\n",
       " '\"0\",\"1467820906\",\"Mon Apr 06 22:22:24 PDT 2009\",\"NO_QUERY\",\"voyage2k\",\"@localtweeps Wow, tons of replies from you, may have to unfollow so I can see my friends\\' tweets, you\\'re scrolling the feed a lot. \"',\n",
       " '\"0\",\"1467821085\",\"Mon Apr 06 22:22:26 PDT 2009\",\"NO_QUERY\",\"crzy_cdn_bulas\",\"our duck and chicken are taking wayyy too long to hatch \"',\n",
       " '\"0\",\"1467821338\",\"Mon Apr 06 22:22:30 PDT 2009\",\"NO_QUERY\",\"justnetgirl\",\"Put vacation photos online a few yrs ago. PC crashed, and now I forget the name of the site. \"',\n",
       " '\"0\",\"1467821455\",\"Mon Apr 06 22:22:32 PDT 2009\",\"NO_QUERY\",\"CiaraRenee\",\"I need a hug \"',\n",
       " '\"0\",\"1467821715\",\"Mon Apr 06 22:22:37 PDT 2009\",\"NO_QUERY\",\"deelau\",\"@andywana Not sure what they are, only that they are PoS! As much as I want to, I dont think can trade away company assets sorry andy! \"',\n",
       " '\"0\",\"1467822384\",\"Mon Apr 06 22:22:47 PDT 2009\",\"NO_QUERY\",\"Lindsey0920\",\"@oanhLove I hate when that happens... \"',\n",
       " '\"0\",\"1467822389\",\"Mon Apr 06 22:22:47 PDT 2009\",\"NO_QUERY\",\"HybridMink\",\"I have a sad feeling that Dallas is not going to show up  I gotta say though, you\\'d think more shows would use music from the game. mmm\"',\n",
       " '\"0\",\"1467822519\",\"Mon Apr 06 22:22:49 PDT 2009\",\"NO_QUERY\",\"gzacher\",\"Ugh....92 degrees tomorrow \"',\n",
       " '\"0\",\"1467822522\",\"Mon Apr 06 22:22:49 PDT 2009\",\"NO_QUERY\",\"Jenn_L\",\"Where did u move to?  I thought u were already in sd. ?? Hmmm. Random u found me. Glad to hear yer doing well.\"',\n",
       " '\"0\",\"1467822687\",\"Mon Apr 06 22:22:52 PDT 2009\",\"NO_QUERY\",\"xVivaLaJuicyx\",\"@BatManYNG I miss my ps3, it\\'s out of commission  Wutcha playing? Have you copped \\'Blood On The Sand\\'?\"',\n",
       " '\"0\",\"1467822918\",\"Mon Apr 06 22:22:55 PDT 2009\",\"NO_QUERY\",\"krbleyle\",\"just leaving the parking lot of work! \"',\n",
       " '\"0\",\"1467823437\",\"Mon Apr 06 22:23:03 PDT 2009\",\"NO_QUERY\",\"xpika\",\"The Life is cool. But not for Me. \"',\n",
       " '\"0\",\"1467823770\",\"Mon Apr 06 22:23:08 PDT 2009\",\"NO_QUERY\",\"Henkuyinepu\",\"Sadly though, I\\'ve never gotten to experience the post coitus cigarette before, and now I never will. \"',\n",
       " '\"0\",\"1467823851\",\"Mon Apr 06 22:23:09 PDT 2009\",\"NO_QUERY\",\"ericg622\",\"I had such a nice day. Too bad the rain comes in tomorrow at 5am \"',\n",
       " '\"0\",\"1467824199\",\"Mon Apr 06 22:23:15 PDT 2009\",\"NO_QUERY\",\"adri_mane\",\"@Starrbby too bad I won\\'t be around I lost my job and can\\'t even pay my phone bill lmao aw shucks \"',\n",
       " '\"0\",\"1467824664\",\"Mon Apr 06 22:23:23 PDT 2009\",\"NO_QUERY\",\"a_mariepyt\",\"Damm back to school tomorrow \"',\n",
       " '\"0\",\"1467824967\",\"Mon Apr 06 22:23:28 PDT 2009\",\"NO_QUERY\",\"playboybacon\",\"Mo jobs, no money.  how in the hell is min wage here 4 f\\'n clams an hour?\"',\n",
       " '\"0\",\"1467825003\",\"Mon Apr 06 22:23:28 PDT 2009\",\"NO_QUERY\",\"leslierosales\",\"@katortiz  Not forever... See you soon!\"',\n",
       " '\"0\",\"1467825084\",\"Mon Apr 06 22:23:30 PDT 2009\",\"NO_QUERY\",\"PresidentSnow\",\"@Lt_Algonquin agreed, I saw the failwhale allllll day today. \"',\n",
       " '\"0\",\"1467825411\",\"Mon Apr 06 22:23:35 PDT 2009\",\"NO_QUERY\",\"michrod\",\"@jdarter Oh! Haha... dude I dont really look at em unless someone says HEY I ADDED YOU. Sorry  I\\'m so terrible at that. I need a pop up!\"',\n",
       " '\"0\",\"1467825642\",\"Mon Apr 06 22:23:39 PDT 2009\",\"NO_QUERY\",\"timmelko\",\"@ninjen I\\'m sure you\\'re right...    I need to start working out with you and the Nikster... Or Jared at least!\"',\n",
       " '\"0\",\"1467825863\",\"Mon Apr 06 22:23:43 PDT 2009\",\"NO_QUERY\",\"BrookeAmanda\",\"i really hate how people diss my bands!  Trace is clearly NOT ugly!\"',\n",
       " '\"0\",\"1467825883\",\"Mon Apr 06 22:23:43 PDT 2009\",\"NO_QUERY\",\"deelau\",\"Gym attire today was: Puma singlet, Adidas shorts.......and black business socks and leather shoes  Lucky did not run into any cute girls.\"',\n",
       " '\"0\",\"1467826052\",\"Mon Apr 06 22:23:45 PDT 2009\",\"NO_QUERY\",\"paulseverio\",\"Why won\\'t you show my location?!   http://twitpic.com/2y2es\"',\n",
       " '\"0\",\"1467833672\",\"Mon Apr 06 22:25:44 PDT 2009\",\"NO_QUERY\",\"iv3tte\",\"No picnic  my phone smells like citrus.\"',\n",
       " '\"0\",\"1467833690\",\"Mon Apr 06 22:25:44 PDT 2009\",\"NO_QUERY\",\"fedunska\",\"@ashleyac My donkey is sensitive about such comments. Nevertheless, he\\'d (and me\\'d) be glad to see your mug asap. Charger is still awol. \"',\n",
       " '\"0\",\"1467833736\",\"Mon Apr 06 22:25:45 PDT 2009\",\"NO_QUERY\",\"MagicalMason\",\"No new csi tonight.  FML\"',\n",
       " '\"0\",\"1467833799\",\"Mon Apr 06 22:25:46 PDT 2009\",\"NO_QUERY\",\"kaelaaa\",\"i think my arms are sore from tennis \"',\n",
       " '\"0\",\"1467834001\",\"Mon Apr 06 22:25:49 PDT 2009\",\"NO_QUERY\",\"emo_holic\",\"wonders why someone that u like so much can make you so unhappy in a split seccond . depressed . \"',\n",
       " '\"0\",\"1467834053\",\"Mon Apr 06 22:25:52 PDT 2009\",\"NO_QUERY\",\"thelazyboy\",\"sleep soon... i just hate saying bye and see you tomorrow for the night. \"',\n",
       " '\"0\",\"1467834227\",\"Mon Apr 06 22:25:53 PDT 2009\",\"NO_QUERY\",\"driveaway2008\",\"@statravelAU just got ur newsletter, those fares really are unbelievable, shame I already booked and paid for mine \"',\n",
       " '\"0\",\"1467834239\",\"Mon Apr 06 22:25:53 PDT 2009\",\"NO_QUERY\",\"mscha\",\"missin\\' the boo \"',\n",
       " '\"0\",\"1467834265\",\"Mon Apr 06 22:25:54 PDT 2009\",\"NO_QUERY\",\"mike_webster_au\",\"@markhardy1974 Me too  #itm\"',\n",
       " '\"0\",\"1467834284\",\"Mon Apr 06 22:25:54 PDT 2009\",\"NO_QUERY\",\"basiabeans\",\"Damn... I don\\'t have any chalk! MY CHALKBOARD IS USELESS \"',\n",
       " '\"0\",\"1467834400\",\"Mon Apr 06 22:25:56 PDT 2009\",\"NO_QUERY\",\"calihonda2001\",\"had a blast at the Getty Villa, but hates that she\\'s had a sore throat all day. It\\'s just getting worse too \"',\n",
       " '\"0\",\"1467834817\",\"Mon Apr 06 22:26:02 PDT 2009\",\"NO_QUERY\",\"djwayneski\",\"@msdrama hey missed ya at the meeting  sup mama\"',\n",
       " '\"0\",\"1467835085\",\"Mon Apr 06 22:26:06 PDT 2009\",\"NO_QUERY\",\"Ceejison\",\"My tummy hurts.  I wonder if the hypnosis has anything to do with it? If so, it\\'s working, I get it, STOP SMOKING!!!\"',\n",
       " '\"0\",\"1467835198\",\"Mon Apr 06 22:26:08 PDT 2009\",\"NO_QUERY\",\"ItsBrigittaYo\",\"why is it always the fat ones?! \"',\n",
       " '\"0\",\"1467835305\",\"Mon Apr 06 22:26:10 PDT 2009\",\"NO_QUERY\",\"MissLaura317\",\"@januarycrimson Sorry, babe!!  My fam annoys me too. Thankfully, they\\'re asleep right now. Muahaha. *evil laugh*\"',\n",
       " '\"0\",\"1467835345\",\"Mon Apr 06 22:26:10 PDT 2009\",\"NO_QUERY\",\"RU_it_girl\",\"@Hollywoodheat I should have paid more attention when we covered photoshop in my webpage design class in undergrad \"',\n",
       " '\"0\",\"1467835577\",\"Mon Apr 06 22:26:14 PDT 2009\",\"NO_QUERY\",\"viviana09\",\"wednesday my b-day! don\\'t know what 2 do!! \"',\n",
       " '\"0\",\"1467835880\",\"Mon Apr 06 22:26:18 PDT 2009\",\"NO_QUERY\",\"disneyfan4eva\",\"Poor cameron (the hills) \"',\n",
       " '\"0\",\"1467836024\",\"Mon Apr 06 22:26:21 PDT 2009\",\"NO_QUERY\",\"RoseMaryK\",\"pray for me please, the ex is threatening to start sh** at my/our babies 1st Birthday party. what a jerk. and I still have a headache \"',\n",
       " '\"0\",\"1467836111\",\"Mon Apr 06 22:26:22 PDT 2009\",\"NO_QUERY\",\"perrohunter\",\"@makeherfamous hmm  , do u really enjoy being with him ? if the problems are too constants u should think things more , find someone ulike\"',\n",
       " '\"0\",\"1467836448\",\"Mon Apr 06 22:26:27 PDT 2009\",\"NO_QUERY\",\"Dogbook\",\"Strider is a sick little puppy  http://apps.facebook.com/dogbook/profile/view/5248435\"',\n",
       " '\"0\",\"1467836500\",\"Mon Apr 06 22:26:28 PDT 2009\",\"NO_QUERY\",\"natalieantipas\",\"so rylee,grace...wana go steve\\'s party or not?? SADLY SINCE ITS EASTER I WNT B ABLE 2 DO MUCH  BUT OHH WELL.....\"',\n",
       " '\"0\",\"1467836576\",\"Mon Apr 06 22:26:29 PDT 2009\",\"NO_QUERY\",\"timdonnelly\",\"hey, I actually won one of my bracket pools! Too bad it wasn\\'t the one for money \"',\n",
       " '\"0\",\"1467836583\",\"Mon Apr 06 22:26:29 PDT 2009\",\"NO_QUERY\",\"homeworld\",\"@stark YOU don\\'t follow me, either  and i work for you!\"',\n",
       " '\"0\",\"1467836859\",\"Mon Apr 06 22:26:33 PDT 2009\",\"NO_QUERY\",\"willy_chaz\",\"A bad nite for the favorite teams: Astros and Spartans lose.  The nite out with T.W. was good.\"',\n",
       " '\"0\",\"1467836873\",\"Mon Apr 06 22:26:33 PDT 2009\",\"NO_QUERY\",\"LeakySpoon\",\" Body Of Missing Northern Calif. Girl Found: Police have found the remains of a missing Northern California girl .. http://tr.im/imji\"',\n",
       " '\"0\",\"1467837189\",\"Mon Apr 06 22:26:38 PDT 2009\",\"NO_QUERY\",\"cityrat59\",\"@mangaaa I hope they will increase the capacity fast, yesterday was such a pain. Got the fail whale +15 times in 2 hours.... \"',\n",
       " '\"0\",\"1467837384\",\"Mon Apr 06 22:26:42 PDT 2009\",\"NO_QUERY\",\"kenandise\",\"Behind on my classes for work \"',\n",
       " '\"0\",\"1467837470\",\"Mon Apr 06 22:26:43 PDT 2009\",\"NO_QUERY\",\"annette414\",\"watching &quot;House&quot; \"',\n",
       " '\"0\",\"1467837579\",\"Mon Apr 06 22:26:45 PDT 2009\",\"NO_QUERY\",\"blackheartbunny\",\"@kpreyes Remember my bum leg? Strikes back this time its serious \"',\n",
       " '\"0\",\"1467837602\",\"Mon Apr 06 22:26:45 PDT 2009\",\"NO_QUERY\",\"GetGary\",\"@paradisej cool, i will. their are all kinds of complaints about this laptop online about overheating, but no recalls \"',\n",
       " '\"0\",\"1467837762\",\"Mon Apr 06 22:26:48 PDT 2009\",\"NO_QUERY\",\"Dogbook\",\"Emily will be glad when Mommy is done training at her new job. She misses her.  http://apps.facebook.com/dogbook/profile/view/6176014\"',\n",
       " '\"0\",\"1467837819\",\"Mon Apr 06 22:26:49 PDT 2009\",\"NO_QUERY\",\"SimoniNicole\",\"would rather the first party send bad messages than the 3rd party send mixed ones  Sophmore year all over again?\"',\n",
       " '\"0\",\"1467837888\",\"Mon Apr 06 22:26:52 PDT 2009\",\"NO_QUERY\",\"wireandroses\",\"@Henkuyinepu it\\'s overrated \"',\n",
       " '\"0\",\"1467838188\",\"Mon Apr 06 22:26:54 PDT 2009\",\"NO_QUERY\",\"jess_higley\",\"@marykatherine_q i know! I heard it this afternoon and wondered the same thing. Moscow is so behind the times \"',\n",
       " '\"0\",\"1467838189\",\"Mon Apr 06 22:26:54 PDT 2009\",\"NO_QUERY\",\"missannabanana\",\"laying in bed with no voice.. \"',\n",
       " '\"0\",\"1467838362\",\"Mon Apr 06 22:26:57 PDT 2009\",\"NO_QUERY\",\"Zella17\",\"I\\'m sooo sad!!! they killed off Kutner on House  whyyyyyyyy\"',\n",
       " '\"0\",\"1467838419\",\"Mon Apr 06 22:27:00 PDT 2009\",\"NO_QUERY\",\"polarna10\",\"@jacobsummers Sorry  tell them mea culpa from me and that I really am sorry.\"',\n",
       " '\"0\",\"1467838433\",\"Mon Apr 06 22:26:58 PDT 2009\",\"NO_QUERY\",\"megan_rice\",\"@Alliana07 it didn\\'t make any sense to me, the suicide thing. I refuse to believe that that is actually what happened. \"',\n",
       " '\"0\",\"1467838630\",\"Mon Apr 06 22:27:02 PDT 2009\",\"NO_QUERY\",\"ashleyirvin\",\"@salancaster  hope your ok.\"',\n",
       " '\"0\",\"1467839007\",\"Mon Apr 06 22:27:08 PDT 2009\",\"NO_QUERY\",\"eyezup\",\"@mercedesashley Damn! The grind is inspirational and saddening at the same time.  Don\\'t want you to stop cuz I like what u do! Much love\"',\n",
       " '\"0\",\"1467839405\",\"Mon Apr 06 22:27:15 PDT 2009\",\"NO_QUERY\",\"Jonas_Dreamgirl\",\"@HibaNick yeah aw but i know i wudnt stand a chance \"',\n",
       " '\"0\",\"1467839450\",\"Mon Apr 06 22:27:16 PDT 2009\",\"NO_QUERY\",\"BreannaBonana\",\"ugh. cant sleep. its 1:30am. \"',\n",
       " '\"0\",\"1467839477\",\"Mon Apr 06 22:27:16 PDT 2009\",\"NO_QUERY\",\"becklyn13\",\"Hanging in Crooners. Wanna sing. Can\\'t. Sucks. \"',\n",
       " '\"0\",\"1467839586\",\"Mon Apr 06 22:27:18 PDT 2009\",\"NO_QUERY\",\"sonyolmos\",\"@eRRe_sC aaw i miss ya all too.. im leaving to BH tomorrow &quot;morning&quot; i think.. aww i wanna go to the beach w u girls!! \"',\n",
       " '\"0\",\"1467839737\",\"Mon Apr 06 22:27:21 PDT 2009\",\"NO_QUERY\",\"JenBah\",\"Is pissed off that there\\'s no ASBA\\'s for a radio station. \"',\n",
       " '\"0\",\"1467839816\",\"Mon Apr 06 22:27:22 PDT 2009\",\"NO_QUERY\",\"viviana09\",\"wednesday my b-day n don\\'t know what 2 do!  \"',\n",
       " '\"0\",\"1467840016\",\"Mon Apr 06 22:27:25 PDT 2009\",\"NO_QUERY\",\"BustaBusta\",\"I know my life has been flipped upside down when I just thought in my head that some Ramen sounds good. \"',\n",
       " '\"0\",\"1467840386\",\"Mon Apr 06 22:27:31 PDT 2009\",\"NO_QUERY\",\"MadameCrow\",\"I am in pain. My back and sides hurt. Not to mention crying is made of fail. \"',\n",
       " '\"0\",\"1467840552\",\"Mon Apr 06 22:27:34 PDT 2009\",\"NO_QUERY\",\"weefranniev\",\"Late night snack, glass of OJ b/c I\\'m &quot;down with the sickness&quot;, then back to sleep...ugh I hate getting sick... \"',\n",
       " '\"0\",\"1467840629\",\"Mon Apr 06 22:27:35 PDT 2009\",\"NO_QUERY\",\"ikimmyy\",\"@allyheman but.. but.. but.. I\\'m not a big fan on camilla belle \"',\n",
       " '\"0\",\"1467841189\",\"Mon Apr 06 22:27:45 PDT 2009\",\"NO_QUERY\",\"yolie81\",\"@grum WAH I can\\'t see clip, must be el-stupido work filters. Can\\'t wait \\'till I get a \\'puter. Something else 2 blame ex 4. He broke mine \"',\n",
       " '\"0\",\"1467841204\",\"Mon Apr 06 22:27:45 PDT 2009\",\"NO_QUERY\",\"spacks\",\"This week just seems to get longer and longer in terms of how much I need to do.. and how much I\\'m actually going to get done \"',\n",
       " '\"0\",\"1467841832\",\"Mon Apr 06 22:27:55 PDT 2009\",\"NO_QUERY\",\"bgoers\",\"I\\'m so cold \"',\n",
       " '\"0\",\"1467841885\",\"Mon Apr 06 22:27:56 PDT 2009\",\"NO_QUERY\",\"MissPassion\",\"@thecoolestout Ehhh don\\'t. Weather\\'s gonna take a turn for the ugly tomorrow \"',\n",
       " '\"0\",\"1467841897\",\"Mon Apr 06 22:27:56 PDT 2009\",\"NO_QUERY\",\"aaronrothe\",\"@chelserlynn haha its so cooooold in the d! and no  but you should still go to the show. they do some incredible stuff\"',\n",
       " '\"0\",\"1467841969\",\"Mon Apr 06 22:27:57 PDT 2009\",\"NO_QUERY\",\"ilikeoreos\",\"Hoping the tummy rumbles go away soon \"',\n",
       " '\"0\",\"1467842107\",\"Mon Apr 06 22:28:02 PDT 2009\",\"NO_QUERY\",\"wiccabuffy\",\"@Knights_ No, no notice. They told me I\\'d be working tomorrow, and then I called the agency to follow up and they said it was over. \"',\n",
       " '\"0\",\"1467842299\",\"Mon Apr 06 22:28:03 PDT 2009\",\"NO_QUERY\",\"HiKeri\",\"almost bedtime \"',\n",
       " '\"0\",\"1467842377\",\"Mon Apr 06 22:28:04 PDT 2009\",\"NO_QUERY\",\"bnr0201\",\"I\\'m missing you babe..  but as long as your alive I\\'m happy.. Yawwwnn.. I\\'m tired my love imma try to sleep hopefully you had a headstart\"',\n",
       " '\"0\",\"1467842448\",\"Mon Apr 06 22:28:05 PDT 2009\",\"NO_QUERY\",\"R_Boucher\",\"Agh...snow!!! \"',\n",
       " '\"0\",\"1467842568\",\"Mon Apr 06 22:28:07 PDT 2009\",\"NO_QUERY\",\"josiahmcdermott\",\"i miss kenny powers \"',\n",
       " '\"0\",\"1467842607\",\"Mon Apr 06 22:28:09 PDT 2009\",\"NO_QUERY\",\"VanessaSingline\",\"@BridgetsBeaches Thank you for letting people know, but now I\\'m sad that the direct message I got wasn\\'t actually from Bridget \"',\n",
       " '\"0\",\"1467842832\",\"Mon Apr 06 22:28:11 PDT 2009\",\"NO_QUERY\",\"varunkumar\",\"...and, India missed out its 100th Test victory n 10th consecutive win without a loss. \"',\n",
       " '\"0\",\"1467842837\",\"Mon Apr 06 22:28:11 PDT 2009\",\"NO_QUERY\",\"JenniOnTheBlock\",\"@JonathanRKnight I guess that\\'s a no then. \"',\n",
       " '\"0\",\"1467843075\",\"Mon Apr 06 22:28:15 PDT 2009\",\"NO_QUERY\",\"darkninja757\",\"sadly is going to bed. \"',\n",
       " '\"0\",\"1467843215\",\"Mon Apr 06 22:28:18 PDT 2009\",\"NO_QUERY\",\"mikecogh\",\"@ozesteph1992 Shame to hear this Stephan \"',\n",
       " '\"0\",\"1467843470\",\"Mon Apr 06 22:28:21 PDT 2009\",\"NO_QUERY\",\"KandiConnection\",\"@mrsaintnick hey! i\\'m leavin in the morning... \"',\n",
       " '\"0\",\"1467843568\",\"Mon Apr 06 22:28:23 PDT 2009\",\"NO_QUERY\",\"joechummer\",\"Was intending to finish editing my 536-page novel manuscript tonight, but that will probably not happen. And only 12 pages are left \"',\n",
       " '\"0\",\"1467843624\",\"Mon Apr 06 22:28:24 PDT 2009\",\"NO_QUERY\",\"kellireneez\",\"laid around too much today... now my head hurts \"',\n",
       " '\"0\",\"1467843647\",\"Mon Apr 06 22:28:24 PDT 2009\",\"NO_QUERY\",\"treehugger25\",\"@twista202 I still haven\\'t read the 9th&amp;10th Princess diaries  Saving Francesca made me cry at the end. Hmm those are easy books.\"',\n",
       " '\"0\",\"1467843734\",\"Mon Apr 06 22:28:26 PDT 2009\",\"NO_QUERY\",\"chatpataa\",\"my nokia 1110 died..  \"',\n",
       " '\"0\",\"1467843740\",\"Mon Apr 06 22:28:26 PDT 2009\",\"NO_QUERY\",\"ThisStoutjunt\",\"My mom might have breast cancer won\\'t find out anything for. Like a week I\\'m so worried! \"',\n",
       " '\"0\",\"1467844097\",\"Mon Apr 06 22:28:33 PDT 2009\",\"NO_QUERY\",\"sew_cute\",\"Going to sleep. Hoping tomorrow is a better day. \"',\n",
       " '\"0\",\"1467844140\",\"Mon Apr 06 22:28:32 PDT 2009\",\"NO_QUERY\",\"Twokids1\",\"@rumblepurr lol.. wish they understood daylight savings has ended though and breakfast is an hour later  They keep waking the kids up too\"',\n",
       " '\"0\",\"1467844157\",\"Mon Apr 06 22:28:32 PDT 2009\",\"NO_QUERY\",\"AKyarnie\",\"@onemoreproject that is lame \"',\n",
       " '\"0\",\"1467844505\",\"Mon Apr 06 22:28:38 PDT 2009\",\"NO_QUERY\",\"luimoral85\",\"I don\\'t understand... I really don\\'t \"',\n",
       " '\"0\",\"1467844540\",\"Mon Apr 06 22:28:38 PDT 2009\",\"NO_QUERY\",\"ceironous\",\"HEROES just isn\\'t doing it for me this season... \"',\n",
       " '\"0\",\"1467844907\",\"Mon Apr 06 22:28:45 PDT 2009\",\"NO_QUERY\",\"brandonmcb\",\"Living not downtown sure isn\\'t much fun.  \"',\n",
       " '\"0\",\"1467845095\",\"Mon Apr 06 22:28:48 PDT 2009\",\"NO_QUERY\",\"mannyrique\",\"@jonathanchard Not calorie wise   I wish junk food was calorie free! I ate a thing of sour skittles and a big ass cherry coke!\"',\n",
       " '\"0\",\"1467845157\",\"Mon Apr 06 22:28:51 PDT 2009\",\"NO_QUERY\",\"styletrain\",\"Man Work is Hard \"',\n",
       " '\"0\",\"1467852031\",\"Mon Apr 06 22:30:34 PDT 2009\",\"NO_QUERY\",\"kscud\",\"getting sick  time for some hot tea, studying, and then sleeeep\"',\n",
       " '\"0\",\"1467852067\",\"Mon Apr 06 22:30:34 PDT 2009\",\"NO_QUERY\",\"kirstenj0y\",\"Getting eyebrows waxed. More pain \"',\n",
       " '\"0\",\"1467852789\",\"Mon Apr 06 22:30:45 PDT 2009\",\"NO_QUERY\",\"marculus\",\"No phantasy star yesterday  going to work...\"',\n",
       " '\"0\",\"1467853135\",\"Mon Apr 06 22:30:50 PDT 2009\",\"NO_QUERY\",\"andrewofthediaz\",\"Oh - Just got all my MacHeist 3.0 apps - sweet. Didn\\'t get the Espresso serial no though although they said they sent it - oh well \"',\n",
       " '\"0\",\"1467853356\",\"Mon Apr 06 22:30:54 PDT 2009\",\"NO_QUERY\",\"dbmendel\",\"Picked Mich St to win it all from the get go.  Was feeling pretty good about that pick all the way up until......tonight.  A\\'s lost too \"',\n",
       " '\"0\",\"1467853431\",\"Mon Apr 06 22:30:55 PDT 2009\",\"NO_QUERY\",\"erks\",\"is alone downstairs...working \"',\n",
       " '\"0\",\"1467853479\",\"Mon Apr 06 22:30:56 PDT 2009\",\"NO_QUERY\",\"ringleaderkanon\",\"I feel bad for doing it \"',\n",
       " '\"0\",\"1467854062\",\"Mon Apr 06 22:31:05 PDT 2009\",\"NO_QUERY\",\"babibabs\",\"@RyanSeacrest is it just me, or she hates anoop. i mean seriously, she\\'s kinda mean to him. \"',\n",
       " '\"0\",\"1467854345\",\"Mon Apr 06 22:31:09 PDT 2009\",\"NO_QUERY\",\"ace587\",\"@pinkserendipity yes sprint has 4g only in baltimore and chicago so far \"',\n",
       " '\"0\",\"1467854706\",\"Mon Apr 06 22:31:15 PDT 2009\",\"NO_QUERY\",\"ktribb80\",\"I\\'m stuck awake in the middle of the night for the second day in a row. And I felt terrible yesterday. \"',\n",
       " '\"0\",\"1467854917\",\"Mon Apr 06 22:31:18 PDT 2009\",\"NO_QUERY\",\"OliviaFox\",\"Thanks for bursting my bubble \"',\n",
       " '\"0\",\"1467855673\",\"Mon Apr 06 22:31:29 PDT 2009\",\"NO_QUERY\",\"IluvJoelMadden\",\"Going to school soon... can\\'t find anything to wear!! gosh it\\'s so hard \"',\n",
       " '\"0\",\"1467855812\",\"Mon Apr 06 22:31:31 PDT 2009\",\"NO_QUERY\",\"easyausguy\",\"@marieclr I was serious  LOL\"',\n",
       " '\"0\",\"1467855981\",\"Mon Apr 06 22:31:37 PDT 2009\",\"NO_QUERY\",\"Hollywood_Trey\",\"@naughtyhaughty I had on my page for sooooo long!!! Until it got deleted  Sad day in history\"',\n",
       " '\"0\",\"1467856044\",\"Mon Apr 06 22:31:35 PDT 2009\",\"NO_QUERY\",\"EcoTravelTV\",\"Crazy wind today = no birding  http://ff.im/1XTTi\"',\n",
       " '\"0\",\"1467856352\",\"Mon Apr 06 22:31:40 PDT 2009\",\"NO_QUERY\",\"AshaleaMay\",\"currently at work.. \"',\n",
       " '\"0\",\"1467856426\",\"Mon Apr 06 22:31:41 PDT 2009\",\"NO_QUERY\",\"AthenaA42\",\"Grrr.. my ipods acting weird too! Jai ho and thinking of you aren\\'t playing the full songs.. ughh. \"',\n",
       " '\"0\",\"1467856497\",\"Mon Apr 06 22:31:43 PDT 2009\",\"NO_QUERY\",\"Missy__\",\"@penndbad send me the DVD cos I have missed out on heaps  NOT happy about that!\"',\n",
       " '\"0\",\"1467856632\",\"Mon Apr 06 22:31:45 PDT 2009\",\"NO_QUERY\",\"BrettFair\",\"i don\\'t see the big deal with this website \"',\n",
       " '\"0\",\"1467856821\",\"Mon Apr 06 22:31:48 PDT 2009\",\"NO_QUERY\",\"mydwynter\",\"@machineplay I\\'m so sorry you\\'re having to go through this. Again.  #therapyfail\"',\n",
       " '\"0\",\"1467856919\",\"Mon Apr 06 22:31:50 PDT 2009\",\"NO_QUERY\",\"jhenkens\",\"@ColinDeMar Far too out of the way for rail.  any other tips?\"',\n",
       " '\"0\",\"1467857221\",\"Mon Apr 06 22:31:54 PDT 2009\",\"NO_QUERY\",\"sarah_katie\",\"I\\'m not still up I swear. Why do I keep losing. gaining. losing. gaining. tweeps?  So heart wrenching.\"',\n",
       " '\"0\",\"1467857297\",\"Mon Apr 06 22:31:56 PDT 2009\",\"NO_QUERY\",\"amanda5280\",\"Today I realized I am too good at hiding things, even I can\\'t find it \"',\n",
       " '\"0\",\"1467857378\",\"Mon Apr 06 22:31:57 PDT 2009\",\"NO_QUERY\",\"Shabbybebe\",\"Staying at a friends house...house sitting, neighbors are SO loud-having a party \"',\n",
       " '\"0\",\"1467857511\",\"Mon Apr 06 22:31:59 PDT 2009\",\"NO_QUERY\",\"fatkat309\",\"@dannyvegasbaby danny im upset that i wasnt here to watch the live chat  i was in a car. for 3 hours on a trip im soooo upset!!\"',\n",
       " '\"0\",\"1467857722\",\"Mon Apr 06 22:32:02 PDT 2009\",\"NO_QUERY\",\"blackheartbunny\",\"Check out my mug  http://www.erika-obscura.blogspot.com\"',\n",
       " '\"0\",\"1467857975\",\"Mon Apr 06 22:32:06 PDT 2009\",\"NO_QUERY\",\"szrhnds602\",\"Borders closed at 10 \"',\n",
       " '\"0\",\"1467858363\",\"Mon Apr 06 22:32:12 PDT 2009\",\"NO_QUERY\",\"schammy\",\"Downloading NIN\\'s new album &quot;the slip&quot; - when the hell did this come out? I\\'m so behind the times these days \"',\n",
       " '\"0\",\"1467858627\",\"Mon Apr 06 22:32:16 PDT 2009\",\"NO_QUERY\",\"mariotani\",\"Just woke up an already have written some e-mail... I\\'ve to go early at University today as I have to teach at 8:30 AM! \"',\n",
       " '\"0\",\"1467858869\",\"Mon Apr 06 22:32:20 PDT 2009\",\"NO_QUERY\",\"Jaderade14\",\"is watching the hill . . .and its making me sad \"',\n",
       " '\"0\",\"1467859025\",\"Mon Apr 06 22:32:22 PDT 2009\",\"NO_QUERY\",\"LeeseEllen\",\"So many channels.... yet so so boring... lazy day again  may have to find a hobby\"',\n",
       " '\"0\",\"1467859066\",\"Mon Apr 06 22:32:23 PDT 2009\",\"NO_QUERY\",\"FNFKayCee\",\"@supersport I miss my buddy  ill be in NY on the 25th\"',\n",
       " '\"0\",\"1467859408\",\"Mon Apr 06 22:32:28 PDT 2009\",\"NO_QUERY\",\"CaddyStage\",\"@robluketic  love the french. I tell people here in the south i\\'m qtr. french and they snarl at me.  french are beautiful people\"',\n",
       " '\"0\",\"1467859436\",\"Mon Apr 06 22:32:28 PDT 2009\",\"NO_QUERY\",\"ha_nobita\",\"Opps.. As I said.. I still got one day remain and now problem come \"',\n",
       " '\"0\",\"1467859558\",\"Mon Apr 06 22:32:30 PDT 2009\",\"NO_QUERY\",\"tchviolin\",\"I activated my Selfcontrol block early, meaning I can\\'t check out the new QC.  Regularizing my internal clock is might be difficult. #fb\"',\n",
       " '\"0\",\"1467859666\",\"Mon Apr 06 22:32:31 PDT 2009\",\"NO_QUERY\",\"DreamActivist23\",\"@HillyDoP  oH NO\"',\n",
       " '\"0\",\"1467859820\",\"Mon Apr 06 22:32:36 PDT 2009\",\"NO_QUERY\",\"msbutt3rfly14\",\"spencer is not a good guy. \"',\n",
       " '\"0\",\"1467859922\",\"Mon Apr 06 22:32:35 PDT 2009\",\"NO_QUERY\",\"Karmatical\",\"@goodlaura What about Reese dying on #TTSC? And season finale next week.  #24 boring, Madame President is a crazy woman.\"',\n",
       " '\"0\",\"1467860144\",\"Mon Apr 06 22:32:38 PDT 2009\",\"NO_QUERY\",\"Jana1976\",\"@JonathanRKnight I hate the limited letters,too.Hope you and the guys are fine?I pray for my dog,sheï¿½s not well \"',\n",
       " '\"0\",\"1467860268\",\"Mon Apr 06 22:32:40 PDT 2009\",\"NO_QUERY\",\"AmyJade\",\"didn\\'t get shit done today ~ i\\'m so screwed \"',\n",
       " '\"0\",\"1467860895\",\"Mon Apr 06 22:32:50 PDT 2009\",\"NO_QUERY\",\"tantrixie\",\"wanttss to go out \"',\n",
       " '\"0\",\"1467860904\",\"Mon Apr 06 22:32:51 PDT 2009\",\"NO_QUERY\",\"supersharayah\",\"Is not going to sleep tonite. \"',\n",
       " '\"0\",\"1467861095\",\"Mon Apr 06 22:32:54 PDT 2009\",\"NO_QUERY\",\"bluepaintred\",\"too worried and tired to post tonight \"',\n",
       " '\"0\",\"1467861413\",\"Mon Apr 06 22:32:58 PDT 2009\",\"NO_QUERY\",\"AmyJade\",\"couldn\\'t get shit done today ~ i\\'m so screwed \"',\n",
       " '\"0\",\"1467861522\",\"Mon Apr 06 22:33:00 PDT 2009\",\"NO_QUERY\",\"bovinemammal\",\"Job Interview in Cardiff today, wish me luck! Got about 3 hours sleep \"',\n",
       " '\"0\",\"1467861571\",\"Mon Apr 06 22:33:01 PDT 2009\",\"NO_QUERY\",\"jessejoseph\",\"@stustone Your show is whack. Way worse than whack, it\\'s wiggety-whack.    :*(:*(:*(\"',\n",
       " '\"0\",\"1467862213\",\"Mon Apr 06 22:33:11 PDT 2009\",\"NO_QUERY\",\"lennytoups\",\"@DjAlizay I really don\\'t think people choose to be that way. But I think he chose not to accept my family\\'s help   He might be dead by now\"',\n",
       " '\"0\",\"1467862313\",\"Mon Apr 06 22:33:13 PDT 2009\",\"NO_QUERY\",\"paulverhoeven\",\"@eloquentembrace You\\'re going to kill me, but I\\'ve not seen DS9. I\\'ve been waiting till I can do it in one solid week sitting. \"',\n",
       " '\"0\",\"1467862355\",\"Mon Apr 06 22:33:13 PDT 2009\",\"NO_QUERY\",\"Britty88\",\"@cheechbud i think ur right!! hahaha!! 4.5 hrs now!! \"',\n",
       " '\"0\",\"1467862411\",\"Mon Apr 06 22:33:16 PDT 2009\",\"NO_QUERY\",\"stephaniekmusic\",\"i hate to see the spartans so sad \"',\n",
       " '\"0\",\"1467862710\",\"Mon Apr 06 22:33:20 PDT 2009\",\"NO_QUERY\",\"Jemimus\",\"My mind and body are severely protesting this &quot;getting up&quot;  thing. Had nightmares to boot \"',\n",
       " '\"0\",\"1467862806\",\"Mon Apr 06 22:33:21 PDT 2009\",\"NO_QUERY\",\"Sweetpineapple\",\"@MySteezRadio I\\'m goin\\' to follow u, since u didn\\'t  LOL  GO ANGELS!\"',\n",
       " '\"0\",\"1467863072\",\"Mon Apr 06 22:33:25 PDT 2009\",\"NO_QUERY\",\"Artiel87\",\"@mandayyy \"',\n",
       " '\"0\",\"1467863415\",\"Mon Apr 06 22:33:31 PDT 2009\",\"NO_QUERY\",\"treehugger25\",\"@twista202 I think I want to read some books but the library doesn\\'t have them \"',\n",
       " '\"0\",\"1467863507\",\"Mon Apr 06 22:33:32 PDT 2009\",\"NO_QUERY\",\"Mirlina\",\"My nap was interrupted so many times today  Going out for Japanese with the \\'rents again...\"',\n",
       " '\"0\",\"1467863508\",\"Mon Apr 06 22:33:32 PDT 2009\",\"NO_QUERY\",\"g_rose86\",\"Kind of longs for the bus that shows up at the end of Ghost World right now. Ugh. \"',\n",
       " '\"0\",\"1467863633\",\"Mon Apr 06 22:33:34 PDT 2009\",\"NO_QUERY\",\"omgseriouslywtf\",\"@GuruMN but this is canada  canada is weird. we\\'re supposed to get snow through wednesday. ugh.\"',\n",
       " '\"0\",\"1467863684\",\"Mon Apr 06 22:33:35 PDT 2009\",\"NO_QUERY\",\"DjGundam\",\"Awwh babs... you look so sad underneith that shop entrance of &quot;Yesterday\\'s Musik&quot;  O-: I like the look of the new transformer movie \"',\n",
       " '\"0\",\"1467863716\",\"Mon Apr 06 22:33:35 PDT 2009\",\"NO_QUERY\",\"stacyc37\",\"sad that the \\'feet\\' of my macbook just fell off \"',\n",
       " '\"0\",\"1467864250\",\"Mon Apr 06 22:33:44 PDT 2009\",\"NO_QUERY\",\"Alp0\",\"I\\'m gonna get up late tomorrow and it\\'s 132am here. I gonna get tipsy by my lonesome. That\\'s...that\\'s just sad \"',\n",
       " '\"0\",\"1467870864\",\"Mon Apr 06 22:35:29 PDT 2009\",\"NO_QUERY\",\"TheDCD\",\"I\\'m sweating my forthcoming trip to E3.  If I can\\'t find someone to crash with while I\\'m out there, I may be screwed.  \"',\n",
       " '\"0\",\"1467870866\",\"Mon Apr 06 22:35:29 PDT 2009\",\"NO_QUERY\",\"DrewKatavich\",\"Has now gotten somebody to read his tweets, but cant get them to make an account. \"',\n",
       " '\"0\",\"1467871007\",\"Mon Apr 06 22:35:31 PDT 2009\",\"NO_QUERY\",\"tinyvamp\",\"@infinitydefines  omgawd i couldnt handle my cat being in heat all the time D: D:\"',\n",
       " '\"0\",\"1467871040\",\"Mon Apr 06 22:35:31 PDT 2009\",\"NO_QUERY\",\"MTLarson1224\",\"@DonnieWahlberg I hope i can make it to the auburn show. but its not looking good for me \"',\n",
       " '\"0\",\"1467871223\",\"Mon Apr 06 22:35:35 PDT 2009\",\"NO_QUERY\",\"vcf2\",\"@David_Henrie *thats people mag haha i couldnt fit it all in.. i dont think those pictures ever made it in the magazine tho!  haha\"',\n",
       " '\"0\",\"1467871226\",\"Mon Apr 06 22:35:36 PDT 2009\",\"NO_QUERY\",\"thinkingmama\",\"@breadandbadger Congrats!!  i totally forgot to submit photos \"',\n",
       " '\"0\",\"1467871545\",\"Mon Apr 06 22:35:40 PDT 2009\",\"NO_QUERY\",\"Cherye101\",\"@PaulaAbdul awww, Good luck Paula!! Please don\\'t work too hard  but I hope you have fun  Your new album is gonna be amazing!  xxx\"',\n",
       " '\"0\",\"1467871552\",\"Mon Apr 06 22:35:40 PDT 2009\",\"NO_QUERY\",\"nataleyritter\",\"@imaginarypeach now your leaving me  .... -gets sad-\"',\n",
       " '\"0\",\"1467871661\",\"Mon Apr 06 22:35:41 PDT 2009\",\"NO_QUERY\",\"ciairuhh\",\"I miss you twitter. My phone broke, now I\\'m using a stupid Nokia phone. Ughhh, I miss my advance phone. \"',\n",
       " '\"0\",\"1467871754\",\"Mon Apr 06 22:35:43 PDT 2009\",\"NO_QUERY\",\"sarahdesjardins\",\"SHOOTING OUTSIDE MY HOUSE :O NOT KIDDING! So SCARED \"',\n",
       " '\"0\",\"1467871844\",\"Mon Apr 06 22:35:44 PDT 2009\",\"NO_QUERY\",\"larsgunnarf\",\"Tuesdayï¿½ll start with reflection ï¿½n then a lecture in Stress reducing techniques. That sure might become very useful for us accompaniers \"',\n",
       " '\"0\",\"1467871917\",\"Mon Apr 06 22:35:46 PDT 2009\",\"NO_QUERY\",\"Lvonhusen\",\"What tragedy and disaster in the news this week \"',\n",
       " '\"0\",\"1467871956\",\"Mon Apr 06 22:35:46 PDT 2009\",\"NO_QUERY\",\"TimelessAKA\",\"yes yes still trying to find a picture that will upload correclty.. \"',\n",
       " '\"0\",\"1467872136\",\"Mon Apr 06 22:35:51 PDT 2009\",\"NO_QUERY\",\"jinnah\",\"Why oh why was the Red Sox game rained out? I was so looking forward to opening day \"',\n",
       " '\"0\",\"1467872175\",\"Mon Apr 06 22:35:50 PDT 2009\",\"NO_QUERY\",\"edsed\",\"I still can\\'t find my keys. \"',\n",
       " '\"0\",\"1467872181\",\"Mon Apr 06 22:35:50 PDT 2009\",\"NO_QUERY\",\"admdrw\",\"@charlietm I know right. I dunno what is going on with twitter. \"',\n",
       " '\"0\",\"1467872218\",\"Mon Apr 06 22:35:50 PDT 2009\",\"NO_QUERY\",\"Loreinski\",\"might be getting a sore throat again \"',\n",
       " '\"0\",\"1467872247\",\"Mon Apr 06 22:35:51 PDT 2009\",\"NO_QUERY\",\"OhShayLaVie\",\"@labelsnotlove   my home town. My mammy called all depressd.  Pls explain y a parent let their 8yr old child walk alone? Hello? Its 2009!\"',\n",
       " '\"0\",\"1467872309\",\"Mon Apr 06 22:35:51 PDT 2009\",\"NO_QUERY\",\"dossy\",\"@ircmaxell - I think I need to find better anti-depressants.  I think this Paxil/Wellbutrin combo is losing its efficacy.  \"',\n",
       " '\"0\",\"1467872355\",\"Mon Apr 06 22:35:52 PDT 2009\",\"NO_QUERY\",\"bigwillthechamp\",\"@MyConnecticut Restaurant called WoodNTap has competitive eating tourney round tourney time. We place 2nd \"',\n",
       " '\"0\",\"1467872594\",\"Mon Apr 06 22:35:56 PDT 2009\",\"NO_QUERY\",\"MalloryLe\",\"is in the bathroom... wake up lakin. \"',\n",
       " '\"0\",\"1467872638\",\"Mon Apr 06 22:35:59 PDT 2009\",\"NO_QUERY\",\"courtosullivan\",\"@CaitlinOConnor i want tacos and margarhitas  telll gay i say hello&lt;3\"',\n",
       " '\"0\",\"1467872759\",\"Mon Apr 06 22:35:59 PDT 2009\",\"NO_QUERY\",\"Augustina22CA\",\"im lonely  keep me company! 22 female, california\"',\n",
       " '\"0\",\"1467872940\",\"Mon Apr 06 22:36:02 PDT 2009\",\"NO_QUERY\",\"sdcoyle\",\"bad day at the betfair office \"',\n",
       " '\"0\",\"1467873004\",\"Mon Apr 06 22:36:03 PDT 2009\",\"NO_QUERY\",\"omgitsjo\",\"I miss him.  Can\\'t wait to celebrate the Tar Heel win this weekend though!!\"',\n",
       " '\"0\",\"1467873227\",\"Mon Apr 06 22:36:06 PDT 2009\",\"NO_QUERY\",\"catrienmaxwell\",\"I\\'m really cold. I don\\'t want to go to sleep yet but there\\'s nothing to do \"',\n",
       " '\"0\",\"1467873256\",\"Mon Apr 06 22:36:06 PDT 2009\",\"NO_QUERY\",\"nicci718\",\"@kristencampisi is this it 4 u? Its \\' officially over \\' 4 me this go round! \"',\n",
       " '\"0\",\"1467873467\",\"Mon Apr 06 22:36:10 PDT 2009\",\"NO_QUERY\",\"meganminesinger\",\"monkeys??? i just found out you my twin and you wont even write back.  i\\'m heartbroken\"',\n",
       " '\"0\",\"1467873592\",\"Mon Apr 06 22:36:15 PDT 2009\",\"NO_QUERY\",\"nicole___\",\"@miss_om Aww  I know I felt like that yesterday at work \"',\n",
       " '\"0\",\"1467873828\",\"Mon Apr 06 22:36:16 PDT 2009\",\"NO_QUERY\",\"JBarrick\",\"@SarahReedSC treaty isn\\'t defined \"',\n",
       " '\"0\",\"1467873980\",\"Mon Apr 06 22:36:19 PDT 2009\",\"NO_QUERY\",\"gregcronin\",\"missed Brent at praise band.   No fun to not have the your lead guitarist.  &lt;pout&gt;\"',\n",
       " '\"0\",\"1467874103\",\"Mon Apr 06 22:36:20 PDT 2009\",\"NO_QUERY\",\"Lisaherrity\",\"@jpfurry poor john  this is what happens when you play with fruit and a microwave! Seriously though HAVE you seen a doctor?? Xxx\"',\n",
       " '\"0\",\"1467874479\",\"Mon Apr 06 22:36:26 PDT 2009\",\"NO_QUERY\",\"princessseli\",\"Missing My BFF  watching home and away it reminds me of her and me  we &lt;3 It. shout out to u courts\"',\n",
       " '\"0\",\"1467874569\",\"Mon Apr 06 22:36:27 PDT 2009\",\"NO_QUERY\",\"Artiel87\",\"@mandayyy   \"',\n",
       " '\"0\",\"1467874916\",\"Mon Apr 06 22:36:33 PDT 2009\",\"NO_QUERY\",\"jasminpatry\",\"New video card is DOA. \"',\n",
       " '\"0\",\"1467875163\",\"Mon Apr 06 22:36:38 PDT 2009\",\"NO_QUERY\",\"saraguilford12\",\"feeling lost, naked and confused (JK, sort of).....no iphone for me. \"',\n",
       " '\"0\",\"1467875208\",\"Mon Apr 06 22:36:39 PDT 2009\",\"NO_QUERY\",\"realin\",\"Damn i am so late at filling this appraisal form, people have almost sent it .. i was so occupied in work \"',\n",
       " '\"0\",\"1467875930\",\"Mon Apr 06 22:36:51 PDT 2009\",\"NO_QUERY\",\"gregcronin\",\"missed Brent at praise band.  No fun to not have your lead guitarist. &lt;pout&gt;\"',\n",
       " '\"0\",\"1467876016\",\"Mon Apr 06 22:36:52 PDT 2009\",\"NO_QUERY\",\"Steponme2418\",\"i think to much on the past. i cant change it. i deserved so much more then wat i got. ..but why am i still thinking about him  gah\"',\n",
       " '\"0\",\"1467876133\",\"Mon Apr 06 22:36:54 PDT 2009\",\"NO_QUERY\",\"benboarder\",\"has lost his ring. It\\'s no-where to be seen \"',\n",
       " '\"0\",\"1467876652\",\"Mon Apr 06 22:37:03 PDT 2009\",\"NO_QUERY\",\"SupernovaGirl\",\"@burgaw Ooooooh! *sealclap* See, I download shitloads of zip folders off 4chan. I have no internet moneys.  FUCK YEAH ALICIA &amp; MIKEY.\"',\n",
       " '\"0\",\"1467876711\",\"Mon Apr 06 22:37:04 PDT 2009\",\"NO_QUERY\",\"latoyanlegania\",\"Is still nursing my Nile but glad he is feeling better. I hate when my baby is sick \"',\n",
       " '\"0\",\"1467876944\",\"Mon Apr 06 22:37:07 PDT 2009\",\"NO_QUERY\",\"taspence\",\"Is fucked to go back to IC \"',\n",
       " '\"0\",\"1467877496\",\"Mon Apr 06 22:37:16 PDT 2009\",\"NO_QUERY\",\"lizzzzlemon\",\"@Brandizzzle08 yoyoyo. my internet has been rude tonight. it JUST reconnected and I\\'m about to go to bed. \"',\n",
       " '\"0\",\"1467877833\",\"Mon Apr 06 22:37:22 PDT 2009\",\"NO_QUERY\",\"russbaker\",\"@jemcam well i have uni stuff and netball  but after netbal if i\\'ve done uni stuff we can\"',\n",
       " '\"0\",\"1467877865\",\"Mon Apr 06 22:37:23 PDT 2009\",\"NO_QUERY\",\"hypnoticzexy\",\"@kissability Me too I is poor \"',\n",
       " '\"0\",\"1467878057\",\"Mon Apr 06 22:37:26 PDT 2009\",\"NO_QUERY\",\"debbieseraphina\",\"help me forget 8th april &amp; 13th july! \"',\n",
       " '\"0\",\"1467878557\",\"Mon Apr 06 22:37:36 PDT 2009\",\"NO_QUERY\",\"tshamysboo\",\"dierks bentley is comin\\' to columbus, OH!! i wanna go so bad \"',\n",
       " '\"0\",\"1467878633\",\"Mon Apr 06 22:37:35 PDT 2009\",\"NO_QUERY\",\"husqvarna\",\"i have to take my sidekick back. \"',\n",
       " '\"0\",\"1467878929\",\"Mon Apr 06 22:37:40 PDT 2009\",\"NO_QUERY\",\"VirtueIMC\",\"@chriscantore congrats! I\\'m totally jealous! only wish my XM was working \"',\n",
       " '\"0\",\"1467878971\",\"Mon Apr 06 22:37:41 PDT 2009\",\"NO_QUERY\",\"godzgurl\",\"gr8t my face is very itchy \"',\n",
       " '\"0\",\"1467878983\",\"Mon Apr 06 22:37:41 PDT 2009\",\"NO_QUERY\",\"dancingmanikin\",\"poor socks  luvvvvv the golden retriever!! I want one sighhhh\"',\n",
       " '\"0\",\"1467879203\",\"Mon Apr 06 22:37:44 PDT 2009\",\"NO_QUERY\",\"iggyp\",\"I just saw that they found that Tracy girl in a piece of luggage... How fucking terrible \"',\n",
       " '\"0\",\"1467879314\",\"Mon Apr 06 22:37:46 PDT 2009\",\"NO_QUERY\",\"sarochka\",\"Aaaaand the nausea is back. \"',\n",
       " '\"0\",\"1467879328\",\"Mon Apr 06 22:37:46 PDT 2009\",\"NO_QUERY\",\"flowerlilly\",\"@DonnieWahlberg ooh Iï¿½m excited and not even going 2 be there  long love YOUTUBE!\"',\n",
       " '\"0\",\"1467879480\",\"Mon Apr 06 22:37:49 PDT 2009\",\"NO_QUERY\",\"themangoman\",\"spent 1 hour to reach to Axis bank only to find out today is holiday for Mahavir Jayanti  contd..\"',\n",
       " '\"0\",\"1467879984\",\"Mon Apr 06 22:37:57 PDT 2009\",\"NO_QUERY\",\"marybacchus\",\"@mathewsmichael  i agree... the jobros dont update theres very often \"',\n",
       " '\"0\",\"1467880085\",\"Mon Apr 06 22:37:59 PDT 2009\",\"NO_QUERY\",\"bliumchik\",\"@fishmouse it is hilarious and I linked the clip from LJ some time ago but when I went back just now it was a dead link \"',\n",
       " '\"0\",\"1467880431\",\"Mon Apr 06 22:38:04 PDT 2009\",\"NO_QUERY\",\"finnsig\",\"@DiannePulham OOOOOOOO who with? (im not neither but thats because i need to study  )\"',\n",
       " '\"0\",\"1467880442\",\"Mon Apr 06 22:38:04 PDT 2009\",\"NO_QUERY\",\"iCalvin\",\"Haven\\'t tweeted nearly all day  Posted my website tonight, hopefully that goes well  Night time!\"',\n",
       " '\"0\",\"1467880463\",\"Mon Apr 06 22:38:04 PDT 2009\",\"NO_QUERY\",\"sammysokol\",\"@bostongarden I miss bentley \"',\n",
       " '\"0\",\"1467880692\",\"Mon Apr 06 22:38:08 PDT 2009\",\"NO_QUERY\",\"JWard86\",\"seriously needs to finish these job applications \"',\n",
       " '\"0\",\"1467881131\",\"Mon Apr 06 22:38:14 PDT 2009\",\"NO_QUERY\",\"dgvirtual\",\"My son Vincas is sick, so I stay at home  Just three tense days at work, and I am back on holiday with kids\"',\n",
       " '\"0\",\"1467881373\",\"Mon Apr 06 22:38:18 PDT 2009\",\"NO_QUERY\",\"ForzaRagazza\",\"Whinging. My client&amp;boss don\\'t understand English well. Rewrote some text unreadable. It\\'s written by v. good writer&amp;reviewed correctly. \"',\n",
       " '\"0\",\"1467881376\",\"Mon Apr 06 22:38:20 PDT 2009\",\"NO_QUERY\",\"jasminedesiree\",\"@huntermoore I don\\'t want him to ever punch me.  \"',\n",
       " '\"0\",\"1467881457\",\"Mon Apr 06 22:38:20 PDT 2009\",\"NO_QUERY\",\"kortt\",\"sooo sick of the snow  ughh\"',\n",
       " '\"0\",\"1467881474\",\"Mon Apr 06 22:38:20 PDT 2009\",\"NO_QUERY\",\"__Susan__\",\"@ITS_NEMESIS ------- \"',\n",
       " '\"0\",\"1467881686\",\"Mon Apr 06 22:38:24 PDT 2009\",\"NO_QUERY\",\"aoski\",\"@LoveMeagan it doesn\\'t work your fan is upset \"',\n",
       " '\"0\",\"1467881809\",\"Mon Apr 06 22:38:26 PDT 2009\",\"NO_QUERY\",\"wcarss\",\"I would like to apologize for the repeated Video Games Live related tweets. I am going to have a stern discussion with Koodo soon. Stern. \"',\n",
       " '\"0\",\"1467881897\",\"Mon Apr 06 22:38:30 PDT 2009\",\"NO_QUERY\",\"drtaru\",\"@zaydia but i cant figure out how to get there / back / pay for a hotel etc \"',\n",
       " '\"0\",\"1467881920\",\"Mon Apr 06 22:38:28 PDT 2009\",\"NO_QUERY\",\"mumu1210\",\"FML: So much for seniority, bc of technological ineptness, I now have to &quot;register&quot; for classes AGAIN \"',\n",
       " '\"0\",\"1467882140\",\"Mon Apr 06 22:38:32 PDT 2009\",\"NO_QUERY\",\"nyracat\",\"feels like she slept the day away.    Not looking forward to any more bouts with my gallbladder.  At least I have pills now for the pain.\"',\n",
       " '\"0\",\"1467882491\",\"Mon Apr 06 22:38:37 PDT 2009\",\"NO_QUERY\",\"Stereo_Skyline\",\"@ThaStevieG but what I really want is my old bass back \"',\n",
       " '\"0\",\"1467882592\",\"Mon Apr 06 22:38:39 PDT 2009\",\"NO_QUERY\",\"veelishus\",\"Mad tired today... Callin it in early tonight  nighty night twittas\"',\n",
       " '\"0\",\"1467882902\",\"Mon Apr 06 22:38:44 PDT 2009\",\"NO_QUERY\",\"usagiko\",\"@LevenRambin: Take it easy, and be good to you. \"',\n",
       " '\"0\",\"1467888679\",\"Mon Apr 06 22:40:15 PDT 2009\",\"NO_QUERY\",\"weisenly\",\"I\\'m afraid I had bad code. \"',\n",
       " '\"0\",\"1467888732\",\"Mon Apr 06 22:40:18 PDT 2009\",\"NO_QUERY\",\"ChrisJNewman\",\"Think I\\'m going to bed. Goodniight. I hate this \"',\n",
       " '\"0\",\"1467888953\",\"Mon Apr 06 22:40:20 PDT 2009\",\"NO_QUERY\",\"stefanip\",\"@riancurtis  i\\'m here, friend, and i love you.\"',\n",
       " '\"0\",\"1467889231\",\"Mon Apr 06 22:40:24 PDT 2009\",\"NO_QUERY\",\"luannem\",\"@kariajay  All this time you didn\\'t notice I was gone...just needed DB2 is it??\"',\n",
       " '\"0\",\"1467889251\",\"Mon Apr 06 22:40:24 PDT 2009\",\"NO_QUERY\",\"krissivee\",\"@aaronrva is in the bathroom and i have to pee!    \"',\n",
       " '\"0\",\"1467889334\",\"Mon Apr 06 22:40:26 PDT 2009\",\"NO_QUERY\",\"Angela004\",\"@ashleyskyy but I wanted a margarita too! \"',\n",
       " '\"0\",\"1467889574\",\"Mon Apr 06 22:40:30 PDT 2009\",\"NO_QUERY\",\"Nrose09\",\"@KourtneyKardash yup night workouts r the worst but unfortunetly my work schedule only allows me to go at night  its tough!\"',\n",
       " '\"0\",\"1467889791\",\"Mon Apr 06 22:40:33 PDT 2009\",\"NO_QUERY\",\"jennhelvering\",\"Just called Hillsong again - they said they couldn\\'t tell me where I was on the waiting list - I don\\'t know if it\\'s looking so good \"',\n",
       " '\"0\",\"1467889988\",\"Mon Apr 06 22:40:36 PDT 2009\",\"NO_QUERY\",\"FeedMeTrance\",\"has 0g of milky bar left, and around 200ml of coke \"',\n",
       " '\"0\",\"1467890079\",\"Mon Apr 06 22:40:38 PDT 2009\",\"NO_QUERY\",\"BATMANNN\",\"@jokerrrr It stillllll hasn\\'t arrived \"',\n",
       " '\"0\",\"1467890212\",\"Mon Apr 06 22:40:43 PDT 2009\",\"NO_QUERY\",\"MorganWillis\",\"Mraow, I feel like dancing, but first art school wants to rape me some more. \"',\n",
       " '\"0\",\"1467890222\",\"Mon Apr 06 22:40:40 PDT 2009\",\"NO_QUERY\",\"AUSTINMONIQUE\",\"@karenucol ah! I bet it does I\\'ve been like craving to play softball or basketball !!! But I have noo time \"',\n",
       " '\"0\",\"1467890723\",\"Mon Apr 06 22:40:48 PDT 2009\",\"NO_QUERY\",\"Arneenxx\",\"Is terrified she accidentally deleted a reference in her management assignment and hopes she doesnt get in trouble when she gets back \"',\n",
       " '\"0\",\"1467891826\",\"Mon Apr 06 22:41:07 PDT 2009\",\"NO_QUERY\",\"elamparuthi\",\"amazon s3 plugin not worked in my website . it need PHP 5 . but my hosting provider has only PHP 4.4  . very sad.\"',\n",
       " '\"0\",\"1467891880\",\"Mon Apr 06 22:41:06 PDT 2009\",\"NO_QUERY\",\"Ps8612\",\"Argh! I was suuuper sleepy an hour ago, now I\\'m wide awake.  Hope I don\\'t stay up all night. :-/\"',\n",
       " '\"0\",\"1467892075\",\"Mon Apr 06 22:41:09 PDT 2009\",\"NO_QUERY\",\"ARExistence\",\"@austinhill I wish I was!  Sold out   If you have some time let me know, I would love to hear more about what you are up to!\"',\n",
       " '\"0\",\"1467892419\",\"Mon Apr 06 22:41:15 PDT 2009\",\"NO_QUERY\",\"dEnNy_333\",\"Just watched tropic thunder. Dreading tomorrow \"',\n",
       " '\"0\",\"1467892515\",\"Mon Apr 06 22:41:16 PDT 2009\",\"NO_QUERY\",\"Tuhtsqueen\",\"@qweendassah no...he\\'s still miss\\'n... \"',\n",
       " '\"0\",\"1467892667\",\"Mon Apr 06 22:41:19 PDT 2009\",\"NO_QUERY\",\"karlcswanson\",\"ChiefDelphi is down \"',\n",
       " '\"0\",\"1467892720\",\"Mon Apr 06 22:41:20 PDT 2009\",\"NO_QUERY\",\"sarawang\",\"http://twitpic.com/2y2wr - according to my bro, our new puppy had a poo fight and was covered in poop  (picture stolen from him)\"',\n",
       " '\"0\",\"1467892760\",\"Mon Apr 06 22:41:20 PDT 2009\",\"NO_QUERY\",\"voguea\",\"playing game at home! my new boss didn\\'t call me yet... \"',\n",
       " '\"0\",\"1467892889\",\"Mon Apr 06 22:41:22 PDT 2009\",\"NO_QUERY\",\"SPYSG\",\"Su yin Huen tweeted I feel unbearable guilt. I made my staff cry  http://tinyurl.com/cw2l9t\"',\n",
       " '\"0\",\"1467892945\",\"Mon Apr 06 22:41:25 PDT 2009\",\"NO_QUERY\",\"colorful_kelsey\",\"Poor Joshy is sick???   those damn tejanos!\"',\n",
       " '\"0\",\"1467893163\",\"Mon Apr 06 22:41:27 PDT 2009\",\"NO_QUERY\",\"hotrodlopez\",\"My thoughts are with Sandra Cantu\\'s family at this difficult and sad time \"',\n",
       " '\"0\",\"1467893258\",\"Mon Apr 06 22:41:29 PDT 2009\",\"NO_QUERY\",\"wandafay\",\"@FranzGlaus I know, just wanted to let everybody know what was happening  \"',\n",
       " '\"0\",\"1467893275\",\"Mon Apr 06 22:41:29 PDT 2009\",\"NO_QUERY\",\"TiM_Cunningham\",\"Michigan who?  I don\\'t know them.                   *sigh*   Shameful!\"',\n",
       " '\"0\",\"1467893504\",\"Mon Apr 06 22:41:33 PDT 2009\",\"NO_QUERY\",\"cday88\",\"i have to fill two hours \"',\n",
       " '\"0\",\"1467893730\",\"Mon Apr 06 22:41:36 PDT 2009\",\"NO_QUERY\",\"lisha_e\",\"@alicayaba so cuuute! hey, i miss you na!  its not the same not seeing you girls everyday \"',\n",
       " '\"0\",\"1467894593\",\"Mon Apr 06 22:41:52 PDT 2009\",\"NO_QUERY\",\"Tanja71\",\"@JonathanRKnight Oh! Did I mention it? &quot;Gooooood Moooorniiiiiiing&quot;  from Germany! Im back in my cage....or better...my office \"',\n",
       " '\"0\",\"1467894600\",\"Mon Apr 06 22:41:51 PDT 2009\",\"NO_QUERY\",\"dreaaa\",\"throat is closing up and i had some string cheese. not a good idea \"',\n",
       " '\"0\",\"1467894746\",\"Mon Apr 06 22:41:54 PDT 2009\",\"NO_QUERY\",\"jenners101\",\"Aww, Sandra Cantu is found dead in a suitcase  Missing children stories never seem to go good. Poor family.\"',\n",
       " '\"0\",\"1467894749\",\"Mon Apr 06 22:41:54 PDT 2009\",\"NO_QUERY\",\"Fudgey84\",\"wishing i was home underneath my covers \"',\n",
       " '\"0\",\"1467894750\",\"Mon Apr 06 22:41:54 PDT 2009\",\"NO_QUERY\",\"tilleywilly\",\"walking home from school drains all my energy \"',\n",
       " '\"0\",\"1467894786\",\"Mon Apr 06 22:41:55 PDT 2009\",\"NO_QUERY\",\"otherbella\",\"@ridley1013 I agree. The shapeshifting is a copout. I was so excited for Angela\\'s ep, I thought it was this week.  Noah was awesome tho!\"',\n",
       " '\"0\",\"1467894841\",\"Mon Apr 06 22:41:56 PDT 2009\",\"NO_QUERY\",\"JamieMphoto\",\"@SaveTheStrib Dang! I would have done this if I knew it was there earlier.  Any other outings planned?\"',\n",
       " '\"0\",\"1467894898\",\"Mon Apr 06 22:41:57 PDT 2009\",\"NO_QUERY\",\"ylajennytambien\",\"I wish I was better at writing. It\\'s taking me so long to write this paper. \"',\n",
       " '\"0\",\"1467895048\",\"Mon Apr 06 22:41:59 PDT 2009\",\"NO_QUERY\",\"abean2007\",\"..and of course... I have access to my Halo 3 Mythic Map Pack re-download.. but bad news.. not the Legendary Map Pack... ugh.. 600MS... \"',\n",
       " '\"0\",\"1467895109\",\"Mon Apr 06 22:42:00 PDT 2009\",\"NO_QUERY\",\"IncomeDiscovery\",\"@vene2ia ...not yet unfortunately, another few weeks I\\'ve been told  How are you? I\\'ve been a little bit busy with my latest project.\"',\n",
       " '\"0\",\"1467895424\",\"Mon Apr 06 22:42:07 PDT 2009\",\"NO_QUERY\",\"MissPassion\",\"@thecoolestout Ha the sun\\'s already gone \"',\n",
       " '\"0\",\"1467895478\",\"Mon Apr 06 22:42:06 PDT 2009\",\"NO_QUERY\",\"sprtsgrl04\",\"day 2. a lot harder than day 1. let\\'s see how day 3 goes tomorrow. \"',\n",
       " '\"0\",\"1467895481\",\"Mon Apr 06 22:42:08 PDT 2009\",\"NO_QUERY\",\"RedTheTrucker\",\"My man crush Jake Peavy let me down  #gayforpeavy\"',\n",
       " '\"0\",\"1467895712\",\"Mon Apr 06 22:42:10 PDT 2009\",\"NO_QUERY\",\"larabehnert\",\"@trishzw megafast trip, you have time during day tom/weds? Or, you going out tonight? Want to see you bad. Tried to warn you, tech fail \"',\n",
       " '\"0\",\"1467896211\",\"Mon Apr 06 22:42:18 PDT 2009\",\"NO_QUERY\",\"summerseelye\",\"michigan state you make me sad \"',\n",
       " '\"0\",\"1467896253\",\"Mon Apr 06 22:42:19 PDT 2009\",\"NO_QUERY\",\"chimshar\",\"omg. my mouth is in so much pain  i just wanna sleep untill its time to take my braces off.\"',\n",
       " '\"0\",\"1467896463\",\"Mon Apr 06 22:42:22 PDT 2009\",\"NO_QUERY\",\"algaebiofuels\",\"getting annoyed easily today  &gt;&gt;&gt; biofuel proposal: getting annoyed easily today  &gt;&gt;&gt; biof.. http://tinyurl.com/ceprvs\"',\n",
       " '\"0\",\"1467896777\",\"Mon Apr 06 22:42:28 PDT 2009\",\"NO_QUERY\",\"EricaLeigh777\",\"@MizzChievouz Hey girl. The site is back.  Girlyvue is back and they have even more videos. \"',\n",
       " '\"0\",\"1467896778\",\"Mon Apr 06 22:42:28 PDT 2009\",\"NO_QUERY\",\"hellostaci\",\"@a5hleyf i\\'m spending time with my grandma early tomorrow and i can\\'t leave skittles by herself. \"',\n",
       " '\"0\",\"1467896898\",\"Mon Apr 06 22:42:30 PDT 2009\",\"NO_QUERY\",\"alohasassy\",\"just got home from watching Michigan State get tromped!   \"',\n",
       " '\"0\",\"1467896911\",\"Mon Apr 06 22:42:30 PDT 2009\",\"NO_QUERY\",\"diet_lard\",\"Oh jew-bus! Two years worth of classes\\' work is ALOT to organize &gt;_&lt; i\\'m not finishing tonight, it\\'s not possible...my bones ache \"',\n",
       " '\"0\",\"1467896996\",\"Mon Apr 06 22:42:32 PDT 2009\",\"NO_QUERY\",\"aeoth\",\"@griffmiester no exchanging for me, my laptop hasn\\'t arrived \"',\n",
       " '\"0\",\"1467897316\",\"Mon Apr 06 22:42:37 PDT 2009\",\"NO_QUERY\",\"nicolegreen\",\"@hyperbets i hope this doesn\\'t last too long.  i feel miserable!\"',\n",
       " '\"0\",\"1467897981\",\"Mon Apr 06 22:42:47 PDT 2009\",\"NO_QUERY\",\"jcphoto\",\"@rcompo RACHEL! hang outage is neccessary - i was gonna be home this wekend but dumb folk make me work   so im free F and Sat until 4...\"',\n",
       " '\"0\",\"1467898061\",\"Mon Apr 06 22:42:49 PDT 2009\",\"NO_QUERY\",\"Kevin_Lately\",\"@TheLeagueSF Not Fun &amp; Furious? The new mantra for the Bay 2 Breakers? It was getting 2 rambunctious;the city overreacted &amp; clamped down \"',\n",
       " '\"0\",\"1467898076\",\"Mon Apr 06 22:42:51 PDT 2009\",\"NO_QUERY\",\"suze2000\",\"@amber_benson  my hubby (for some reason) thinks it\\'s more important he has a good spot for red carpet for the Trek Movie Premiere. Sod!\"',\n",
       " '\"0\",\"1467898078\",\"Mon Apr 06 22:42:49 PDT 2009\",\"NO_QUERY\",\"paulmoreton1978\",\"I swear no matter how long I\\'ve been getting up at 5am, it never gets any easier. Man my eyes hurts wah \"',\n",
       " '\"0\",\"1467898511\",\"Mon Apr 06 22:42:56 PDT 2009\",\"NO_QUERY\",\"Day_Zee\",\"@Jeffree_Star Jeffree! How do you keep your hair one color? My PERMANENT dye fades within the week \"',\n",
       " '\"0\",\"1467898676\",\"Mon Apr 06 22:42:59 PDT 2009\",\"NO_QUERY\",\"AnimePlanet\",\"@otakusecret my reaction too  whoa, didn\\'t see that coming\"',\n",
       " '\"0\",\"1467899025\",\"Mon Apr 06 22:43:06 PDT 2009\",\"NO_QUERY\",\"oup\",\"still sick. feeling a bit better, got some new medicine.... hope I feel good after a night of sleep. ohh, and it\\'s suppose to snow! WTF! \"',\n",
       " '\"0\",\"1467899451\",\"Mon Apr 06 22:43:12 PDT 2009\",\"NO_QUERY\",\"aileen2u2\",\"@Dangerm0use I think maybe you should get a couple more hours of sleep, hon. How productive can you be right now if ur dog tired? I worry \"',\n",
       " '\"0\",\"1467899605\",\"Mon Apr 06 22:43:15 PDT 2009\",\"NO_QUERY\",\"remzology\",\"@maddyVA Thanks a lot. Learned a lot of new words but didn\\'t find what I was looking for. \"',\n",
       " '\"0\",\"1467899707\",\"Mon Apr 06 22:43:17 PDT 2009\",\"NO_QUERY\",\"abean2007\",\"Wish I had all the XBLM downloads all on the gamertag \\'Hitokyri\\'. This 5 gamertag thing is nonsense... and I\\'m tired of it \"',\n",
       " '\"0\",\"1467899753\",\"Mon Apr 06 22:43:18 PDT 2009\",\"NO_QUERY\",\"Sheezy3380\",\"New Testament Test at 9:30 am   \"',\n",
       " '\"0\",\"1467900033\",\"Mon Apr 06 22:43:23 PDT 2009\",\"NO_QUERY\",\"edlimagno\",\"@ScoutBuck tons no hay Troll? ahhhh \"',\n",
       " '\"0\",\"1467900037\",\"Mon Apr 06 22:43:22 PDT 2009\",\"NO_QUERY\",\"tracious\",\"stupid movies we watched... mirrors ugggggh... stooopeeed!!! rip off! \"',\n",
       " '\"0\",\"1467900244\",\"Mon Apr 06 22:43:26 PDT 2009\",\"NO_QUERY\",\"Mowgli3\",\"http://twitpic.com/2y2yi - I love you, Buck. \"',\n",
       " '\"0\",\"1467900431\",\"Mon Apr 06 22:43:29 PDT 2009\",\"NO_QUERY\",\"cescajo\",\"last one!!! but still not done!!! \"',\n",
       " '\"0\",\"1467900545\",\"Mon Apr 06 22:43:31 PDT 2009\",\"NO_QUERY\",\"brookes4402\",\"homework.... \"',\n",
       " '\"0\",\"1467900898\",\"Mon Apr 06 22:43:38 PDT 2009\",\"NO_QUERY\",\"SullieSullivan\",\"I don\\'t understand why things get taken away. I didn\\'t have enough time with him its unfair. I want him back!! He was like my baby \"',\n",
       " '\"0\",\"1467901135\",\"Mon Apr 06 22:43:42 PDT 2009\",\"NO_QUERY\",\"LaurelieSunny\",\"Scratch that: du in heif (two in a half) cookies. My tum just can\\'t take anymore shoog. Poots \"',\n",
       " '\"0\",\"1467901188\",\"Mon Apr 06 22:43:43 PDT 2009\",\"NO_QUERY\",\"bonerjamz\",\"@cococourtney i was just listening to the sweets for the first time in forever! i miss them so much  can we go to chi town for visits plz?\"',\n",
       " '\"0\",\"1467901250\",\"Mon Apr 06 22:43:44 PDT 2009\",\"NO_QUERY\",\"jiriteach\",\"Geez what a busy afternoon. Meetings, emails, meetings and email and more meetings. 6pm and the day is still going! Ah its dark and \"',\n",
       " '\"0\",\"1467901346\",\"Mon Apr 06 22:43:46 PDT 2009\",\"NO_QUERY\",\"gildardomunoz\",\"DANG!!! ANOTHER SPRING BREAK!!!  HOW COOL IS THAT???  TOO BAD I HAVE TO WORK ALL WEEK  OH WELL, MORE MONEY FOR A PHONE.  ttyl EVERBODY!!!\"',\n",
       " '\"0\",\"1467901437\",\"Mon Apr 06 22:43:48 PDT 2009\",\"NO_QUERY\",\"Arneenxx\",\"@Sara_Kate Im afraid too  ( ur reply about uni from ages ago\"',\n",
       " '\"0\",\"1467901500\",\"Mon Apr 06 22:43:49 PDT 2009\",\"NO_QUERY\",\"thegeach\",\"feeling down \"',\n",
       " '\"0\",\"1467901839\",\"Mon Apr 06 22:43:54 PDT 2009\",\"NO_QUERY\",\"SummerJSanders\",\"@CarVin1 lol they are some emotional ass men!! Omg all this late night eating.. Both of us are broke \"',\n",
       " '\"0\",\"1467904302\",\"Mon Apr 06 22:44:34 PDT 2009\",\"NO_QUERY\",\"bsbnumber1fan\",\"@nick_carter Aww Nick!! I like your hair longer, why did you cut it off?  Break. My. Heart.\"',\n",
       " '\"0\",\"1467905125\",\"Mon Apr 06 22:44:48 PDT 2009\",\"NO_QUERY\",\"veronica78\",\" wonder if Jon lost the net\"',\n",
       " '\"0\",\"1467905378\",\"Mon Apr 06 22:44:52 PDT 2009\",\"NO_QUERY\",\"raymondroman\",\"Wow. The most depressing thing in the world is losing a video that you\\'ve created in a matter of seconds.  #FML\"',\n",
       " '\"0\",\"1467905653\",\"Mon Apr 06 22:44:57 PDT 2009\",\"NO_QUERY\",\"KishoreK\",\"@nchokkan https://www.mycomicshop.com/search?TID=395031 But all says not in stock \"',\n",
       " '\"0\",\"1467906151\",\"Mon Apr 06 22:45:05 PDT 2009\",\"NO_QUERY\",\"julez4\",\"@Poohpot lmao im sorry poohpot i ate it all! \"',\n",
       " '\"0\",\"1467906345\",\"Mon Apr 06 22:45:08 PDT 2009\",\"NO_QUERY\",\"aeoth\",\"Any chance  Softbelly (for @MTUB) isn\\'t loud? \"',\n",
       " '\"0\",\"1467906496\",\"Mon Apr 06 22:45:10 PDT 2009\",\"NO_QUERY\",\"cristiana346\",\"Time to move my posterior  and lose some fat. My articulation are creaking so no more running  but Iï¿½m drool for some swimming\"',\n",
       " '\"0\",\"1467906723\",\"Mon Apr 06 22:45:13 PDT 2009\",\"NO_QUERY\",\"smileygab\",\"listening to nathan cry.... \"',\n",
       " '\"0\",\"1467907298\",\"Mon Apr 06 22:45:22 PDT 2009\",\"NO_QUERY\",\"kyljadeee\",\"today sucked. I\\'m gonna die without chris and callum!  wahhh!\"',\n",
       " '\"0\",\"1467907751\",\"Mon Apr 06 22:45:29 PDT 2009\",\"NO_QUERY\",\"mementototem\",\"STOU site not update, no info about 2/2552 exam, and open course, I must wait for mail notices and doc. um... \"',\n",
       " '\"0\",\"1467907876\",\"Mon Apr 06 22:45:31 PDT 2009\",\"NO_QUERY\",\"jcknox80\",\"@ohsbrat30...I\\'m sorry. I\\'m feeling kinda yucky myself. 5am is going to come too quick \"',\n",
       " '\"0\",\"1467908012\",\"Mon Apr 06 22:45:33 PDT 2009\",\"NO_QUERY\",\"scrappysgirl\",\"is in love with scrappy and is missin him already \"',\n",
       " '\"0\",\"1467908134\",\"Mon Apr 06 22:45:37 PDT 2009\",\"NO_QUERY\",\"lindilej\",\"wants to hear @seblefebvre \\'s song but myspace is messing with me \"',\n",
       " '\"0\",\"1467908456\",\"Mon Apr 06 22:45:40 PDT 2009\",\"NO_QUERY\",\"ArtyGreig\",\"Bad news was Dad has cancer and is dying   Good news new business started and  I am now a life coach practising holistic weight management\"',\n",
       " '\"0\",\"1467908672\",\"Mon Apr 06 22:45:44 PDT 2009\",\"NO_QUERY\",\"collegepolitico\",\"@duchess_rebecca Man... intervention is soo sad \"',\n",
       " '\"0\",\"1467908798\",\"Mon Apr 06 22:45:46 PDT 2009\",\"NO_QUERY\",\"vmethod\",\"HELP! I need a new boyfriend... I\\'m stuck in a rut \"',\n",
       " '\"0\",\"1467908853\",\"Mon Apr 06 22:45:47 PDT 2009\",\"NO_QUERY\",\"ForeverYours__\",\"I feel like a complete idiot. I\\'m the only one who doesn\\'t get how this shit works  help me \"',\n",
       " '\"0\",\"1467909124\",\"Mon Apr 06 22:45:51 PDT 2009\",\"NO_QUERY\",\"SuperSteff\",\"Saw an ad on Craigslist for a casting call for a female host on G4. I was totally psyched! But realized it was a hoax \"',\n",
       " '\"0\",\"1467909222\",\"Mon Apr 06 22:45:53 PDT 2009\",\"NO_QUERY\",\"LAbite\",\"Pepperoni rolls in L.A.?: I called Valentino\\'s - they said that they had sausage rolls but no pepperoni rolls  http://tinyurl.com/cec5ka\"',\n",
       " '\"0\",\"1467909292\",\"Mon Apr 06 22:45:54 PDT 2009\",\"NO_QUERY\",\"satori\",\"@soillodge yes, it will be. it\\'s only Monday \"',\n",
       " '\"0\",\"1467910531\",\"Mon Apr 06 22:46:14 PDT 2009\",\"NO_QUERY\",\"InaVill\",\"i want the new GG episode already \"',\n",
       " '\"0\",\"1467910689\",\"Mon Apr 06 22:46:16 PDT 2009\",\"NO_QUERY\",\"chordsontheline\",\"I miss watching Rocko\\'s Modern Life. \"',\n",
       " '\"0\",\"1467910932\",\"Mon Apr 06 22:46:20 PDT 2009\",\"NO_QUERY\",\"aficure\",\"RIP Sandra....its so sad    how can someone do something like that??\"',\n",
       " '\"0\",\"1467910986\",\"Mon Apr 06 22:46:24 PDT 2009\",\"NO_QUERY\",\"Jesilynj\",\"Keeping my fingers crossed for my buddy    He is not feeling well.\"',\n",
       " '\"0\",\"1467910995\",\"Mon Apr 06 22:46:22 PDT 2009\",\"NO_QUERY\",\"cristinesantos\",\"Wait should I eat?? Or be skinny for vegas!! I\\'m hungry! \"',\n",
       " '\"0\",\"1467911036\",\"Mon Apr 06 22:46:24 PDT 2009\",\"NO_QUERY\",\"marodi\",\"@Marge_Inovera I tried tweetdeck once and I hated it with a passion. Or it hated me, I\\'m not sure... \"',\n",
       " '\"0\",\"1467911302\",\"Mon Apr 06 22:46:27 PDT 2009\",\"NO_QUERY\",\"jeanyah\",\"@benackerman BTW my iPhone is acting funny, dying quickly and freezing and BS.  I\\'m not admitting anything, just sayin \"',\n",
       " '\"0\",\"1467911624\",\"Mon Apr 06 22:46:32 PDT 2009\",\"NO_QUERY\",\"Mati_UOIT\",\"Sitting here wondering why &quot;ED&quot; still has such a strong hold on me \"',\n",
       " '\"0\",\"1467911846\",\"Mon Apr 06 22:46:36 PDT 2009\",\"NO_QUERY\",\"livetosingxo\",\"@bananaface IM SORRY I GOT YOU SICK.  lol. going to bed too. NIGHT!\"',\n",
       " '\"0\",\"1467912100\",\"Mon Apr 06 22:46:40 PDT 2009\",\"NO_QUERY\",\"simaino\",\"@carolrainbow no Internet at home, have to drive into Ox to use Internet because of builders! \"',\n",
       " '\"0\",\"1467912333\",\"Mon Apr 06 22:46:44 PDT 2009\",\"NO_QUERY\",\"Meg_Andruschak\",\"@Steve_Buscemi the weather in Canada is freezing \"',\n",
       " '\"0\",\"1467912572\",\"Mon Apr 06 22:46:48 PDT 2009\",\"NO_QUERY\",\"Amilliemills\",\"twiggassssssss I been out of range all day  I\\'m back now and hopefully for good.\"',\n",
       " '\"0\",\"1467912842\",\"Mon Apr 06 22:46:53 PDT 2009\",\"NO_QUERY\",\"KimberlyKane\",\"@danadearmond \"',\n",
       " '\"0\",\"1467912994\",\"Mon Apr 06 22:46:55 PDT 2009\",\"NO_QUERY\",\"missolivee\",\"anyone who reads this pray for my Grandma. She\\'s in pain \"',\n",
       " '\"0\",\"1467913111\",\"Mon Apr 06 22:46:57 PDT 2009\",\"NO_QUERY\",\"nssmom\",\"#3 woke up and was having an accident - &quot;It\\'s pushing, it\\'s pushing!&quot; he was crying because he couldn\\'t stop from wetting his pants.  \"',\n",
       " '\"0\",\"1467913608\",\"Mon Apr 06 22:47:05 PDT 2009\",\"NO_QUERY\",\"qsexy\",\"Home from Franklin street, I almost jumped over a fire. Someone kicked it before I could.  Jenny lost her shoe.\"',\n",
       " '\"0\",\"1467914434\",\"Mon Apr 06 22:47:22 PDT 2009\",\"NO_QUERY\",\"anaxxx04\",\"@johnnybeane hey! you just changed your default. \"',\n",
       " '\"0\",\"1467914499\",\"Mon Apr 06 22:47:21 PDT 2009\",\"NO_QUERY\",\"yaaritemuna\",\"Finally gave in and was bored enough to start this thing. I think the 140 is going to be a problem for me tho.  its like a myspace status.\"',\n",
       " '\"0\",\"1467914916\",\"Mon Apr 06 22:47:28 PDT 2009\",\"NO_QUERY\",\"silverytides\",\"@ellievolia If oooonly we were really so lucky, eh? And awh  Definitely too early for work.\"',\n",
       " '\"0\",\"1467915140\",\"Mon Apr 06 22:47:32 PDT 2009\",\"NO_QUERY\",\"valthatgal\",\"buttload of homework! \"',\n",
       " '\"0\",\"1467915612\",\"Mon Apr 06 22:47:40 PDT 2009\",\"NO_QUERY\",\"f8al\",\"needs another copy of visual studio 2008 \"',\n",
       " '\"0\",\"1467915670\",\"Mon Apr 06 22:47:41 PDT 2009\",\"NO_QUERY\",\"lizziehalfpenny\",\"why to we, the only school in the world, be in this week.My school is silly  anyway... look on the bright side. When i\\'m off, u will be in\"',\n",
       " '\"0\",\"1467916510\",\"Mon Apr 06 22:47:56 PDT 2009\",\"NO_QUERY\",\"Daniiej\",\"omg i\\'ve an economics test. and i dont know all the things i have to know and omg im gonna fail \"',\n",
       " '\"0\",\"1467916595\",\"Mon Apr 06 22:47:58 PDT 2009\",\"NO_QUERY\",\"LaTtEX\",\"@robcthegeek Once upon a time Hundred Islands was the pride of Philippine tourism, but coral/clam/rare fish poaching did it in. Kinda sad \"',\n",
       " '\"0\",\"1467916695\",\"Mon Apr 06 22:48:00 PDT 2009\",\"NO_QUERY\",\"wireandroses\",\"@Henkuyinepu yeah, apparently i have really bad taste \"',\n",
       " '\"0\",\"1467916700\",\"Mon Apr 06 22:48:00 PDT 2009\",\"NO_QUERY\",\"EricaLeigh777\",\"@hummiemd I KNOW! I was really surprised since everyone recommends them on youtube.  I have to call them tomorrow and figure it all out.\"',\n",
       " '\"0\",\"1467916820\",\"Mon Apr 06 22:48:02 PDT 2009\",\"NO_QUERY\",\"dini123\",\"Waiting at the airport for my ride while I get harassed by 2 men trying to sell me ugly hats.. Why me?!  I just want to sleep..\"',\n",
       " '\"0\",\"1467916841\",\"Mon Apr 06 22:48:02 PDT 2009\",\"NO_QUERY\",\"danadearmond\",\"i left my IDs at the location and now i can not go out to bars  FUCKKKKKKKKKKKKK\"',\n",
       " '\"0\",\"1467916851\",\"Mon Apr 06 22:48:03 PDT 2009\",\"NO_QUERY\",\"digitales\",\"@celycarmo i\\'m sorry I don\\'t understand your last comment \"',\n",
       " '\"0\",\"1467916959\",\"Mon Apr 06 22:48:04 PDT 2009\",\"NO_QUERY\",\"_emmajane_\",\"@OfficialRandL when is the announcement? i stayed up late last night \"',\n",
       " '\"0\",\"1467917177\",\"Mon Apr 06 22:48:08 PDT 2009\",\"NO_QUERY\",\"nchokkan\",\"@KishoreK this is strange, illegal torrents avlbl everywhere, legal DVD not in stock  What do I do now???\"',\n",
       " '\"0\",\"1467917302\",\"Mon Apr 06 22:48:10 PDT 2009\",\"NO_QUERY\",\"dmjc\",\"ITS NOT ENOUGH TO SAY THAT IMISS U \"',\n",
       " '\"0\",\"1467917484\",\"Mon Apr 06 22:48:13 PDT 2009\",\"NO_QUERY\",\"FuzzyPandaButt\",\"This trolley has up packed in like sardines! Padre game and they REMOVE a car?! Good call MTS \"',\n",
       " '\"0\",\"1467917499\",\"Mon Apr 06 22:48:14 PDT 2009\",\"NO_QUERY\",\"VictoriaBahar\",\"@RandomlyNat Jeez, I was just trying to help  Haha.\"',\n",
       " '\"0\",\"1467917718\",\"Mon Apr 06 22:48:17 PDT 2009\",\"NO_QUERY\",\"beccaomgz\",\"@SupaMagg that happened to me saturday night. along with my glittery green lighter! \"',\n",
       " '\"0\",\"1467917800\",\"Mon Apr 06 22:48:19 PDT 2009\",\"NO_QUERY\",\"Sarinluck\",\"trying to reduce the number of cigarettes in each day! \"',\n",
       " '\"0\",\"1467918015\",\"Mon Apr 06 22:48:23 PDT 2009\",\"NO_QUERY\",\"Kayla_Ann09\",\"yea it is so quiet around here cuz everyone has to work im bored to death with nobody to talk to \"',\n",
       " '\"0\",\"1467918552\",\"Mon Apr 06 22:48:32 PDT 2009\",\"NO_QUERY\",\"AimeePonticello\",\"gotta do my cooking assignment  its too hard\"',\n",
       " '\"0\",\"1467918560\",\"Mon Apr 06 22:48:32 PDT 2009\",\"NO_QUERY\",\"jkenneth\",\"@treesahquiche okay, about the applepears, I\\'ve talked to a few people and they\\'ve ALL had them before. No one ever told me, never \"',\n",
       " '\"0\",\"1467918682\",\"Mon Apr 06 22:48:34 PDT 2009\",\"NO_QUERY\",\"Lindsey_\",\"@jennifermf I know!  I\\'m a night owl by nature, hahaha Am I a time zone behind you? It\\'s almost 1 here\"',\n",
       " '\"0\",\"1467918728\",\"Mon Apr 06 22:48:35 PDT 2009\",\"NO_QUERY\",\"TidyCat\",\"@mamasvan lol - nope! but i did have complete #camerafail \"',\n",
       " '\"0\",\"1467918812\",\"Mon Apr 06 22:48:37 PDT 2009\",\"NO_QUERY\",\"FaithfulChosen\",\"@maxime68 @megelder But! I\\'m useless if I don\\'t sleep  It\\'s not fair! I want all the fun as well!!!\"',\n",
       " '\"0\",\"1467918850\",\"Mon Apr 06 22:48:38 PDT 2009\",\"NO_QUERY\",\"sthrn_belle\",\"My Pookie has a UTI.  I have to be Nurse Gabbie and get him back to 100%!!! No more sodas!!!!!!!!!!!!!!\"',\n",
       " '\"0\",\"1467919055\",\"Mon Apr 06 22:48:42 PDT 2009\",\"NO_QUERY\",\"Jeffficus\",\"@jillianfish tweet something damn it!  and hang out with me please? \"',\n",
       " '\"0\",\"1467919452\",\"Mon Apr 06 22:48:48 PDT 2009\",\"NO_QUERY\",\"jtmal0723\",\"@anistorm \"',\n",
       " '\"0\",\"1467919538\",\"Mon Apr 06 22:48:50 PDT 2009\",\"NO_QUERY\",\"ubecupcake\",\"I\\'m SO behind in video games, and everything for that matter. I\\'m yesterday\\'s news \"',\n",
       " '\"0\",\"1467919762\",\"Mon Apr 06 22:48:53 PDT 2009\",\"NO_QUERY\",\"Properteacup\",\"@sleep_til_noon I did, it was the only one left but I got tempted and ate it soon as I got home  I had a chocolate velvet &amp; ate d mocha\"',\n",
       " '\"0\",\"1467919765\",\"Mon Apr 06 22:48:54 PDT 2009\",\"NO_QUERY\",\"aerlyne\",\"Is stressing out because my blackberry keeps flashing a red alert status for no reason!! Its faking me out and I hate it!!! \"',\n",
       " '\"0\",\"1467922983\",\"Mon Apr 06 22:49:51 PDT 2009\",\"NO_QUERY\",\"cinnayum\",\"http://twitpic.com/2y34e - I wanna wear my Doc Martens out! Haven\\'t worn them since December. \"',\n",
       " '\"0\",\"1467923235\",\"Mon Apr 06 22:49:55 PDT 2009\",\"NO_QUERY\",\"Bunkermeister\",\"When to the shoe repair shop and the guy could not find my shoes!  So I have to go back and see if he can find them in a couple days. \"',\n",
       " '\"0\",\"1467923247\",\"Mon Apr 06 22:49:55 PDT 2009\",\"NO_QUERY\",\"ScullyorSuz\",\"@B_Barnett I did not really see that coming \"',\n",
       " '\"0\",\"1467923370\",\"Mon Apr 06 22:49:57 PDT 2009\",\"NO_QUERY\",\"xmattxwalkerx\",\"just woke up from the most vivid, sketchy, not-cool dreams of my life. time to stare at the wall with the lights on. \"',\n",
       " '\"0\",\"1467923445\",\"Mon Apr 06 22:49:58 PDT 2009\",\"NO_QUERY\",\"bnycastro\",\"it\\'ll take 3 days for my sister to get her passport \"',\n",
       " '\"0\",\"1467923775\",\"Mon Apr 06 22:50:03 PDT 2009\",\"NO_QUERY\",\"chann16\",\"@nicolerichie OH MY YES!! i miss \"',\n",
       " '\"0\",\"1467924273\",\"Mon Apr 06 22:50:11 PDT 2009\",\"NO_QUERY\",\"xll00llx\",\"Uh oh... I think I am getting sick \"',\n",
       " '\"0\",\"1467924690\",\"Mon Apr 06 22:50:17 PDT 2009\",\"NO_QUERY\",\"FlyRice\",\"Good GOD they ruined my belly button!!!  \"',\n",
       " '\"0\",\"1467924823\",\"Mon Apr 06 22:50:19 PDT 2009\",\"NO_QUERY\",\"ashleyjanne\",\"Watching Who Framed Roger Rabbit. Makes me miss Toon Town. \"',\n",
       " '\"0\",\"1467925327\",\"Mon Apr 06 22:50:28 PDT 2009\",\"NO_QUERY\",\"br3nda\",\"@akianz renting.. but very cheap renting, and awesome house. We had 3 buying attempts fall through \"',\n",
       " '\"0\",\"1467925657\",\"Mon Apr 06 22:50:34 PDT 2009\",\"NO_QUERY\",\"aisyahsamsudin\",\"running nose + spinning head = not a good combination for a meeting! \"',\n",
       " '\"0\",\"1467926153\",\"Mon Apr 06 22:50:43 PDT 2009\",\"NO_QUERY\",\"IGetsBusy514\",\"@EazyDoesIt87 NEGATIVE.. you lost my vote of confidence \"',\n",
       " '\"0\",\"1467926444\",\"Mon Apr 06 22:50:48 PDT 2009\",\"NO_QUERY\",\"ElliotTucker\",\"Nasty budget due and my iphone is being sent to Apple today. \"',\n",
       " '\"0\",\"1467926546\",\"Mon Apr 06 22:50:49 PDT 2009\",\"NO_QUERY\",\"aragorn_elessar\",\"@Sofii_Noel thatï¿½s bad \"',\n",
       " '\"0\",\"1467926632\",\"Mon Apr 06 22:50:51 PDT 2009\",\"NO_QUERY\",\"kailashvasupati\",\"Dammit, episode 3 of Kings won\\'t play for some reason  stopped in the middle now won\\'t do anything\"',\n",
       " '\"0\",\"1467927016\",\"Mon Apr 06 22:50:58 PDT 2009\",\"NO_QUERY\",\"TK04\",\"I\\'m so upset that I missed my chat and quiz online because my free internet has ceased \"',\n",
       " '\"0\",\"1467927126\",\"Mon Apr 06 22:51:00 PDT 2009\",\"NO_QUERY\",\"missria\",\"can\\'t believe it! I\\'m in disbelief of it all in a way really. How much can I take from people and always get hurt by others!! \"',\n",
       " '\"0\",\"1467927987\",\"Mon Apr 06 22:51:13 PDT 2009\",\"NO_QUERY\",\"FuhQ\",\"Car show season has started without me \"',\n",
       " '\"0\",\"1467928014\",\"Mon Apr 06 22:51:14 PDT 2009\",\"NO_QUERY\",\"brivonboo\",\"my throat is raw. \"',\n",
       " '\"0\",\"1467928037\",\"Mon Apr 06 22:51:17 PDT 2009\",\"NO_QUERY\",\"leamonet\",\"@KevChoice I just don\\'t get it. What in a persons mind could even have them on some ish like this???  My prayers are with her fam for real\"',\n",
       " '\"0\",\"1467928300\",\"Mon Apr 06 22:51:19 PDT 2009\",\"NO_QUERY\",\"sonnyjohl\",\"@frago I hate you. I didn\\'t need to see that. I need to call my therapist now. \"',\n",
       " '\"0\",\"1467928490\",\"Mon Apr 06 22:51:24 PDT 2009\",\"NO_QUERY\",\"JRDM\",\"Twilight didn\\'t come yesterday  fingers crossed for today\"',\n",
       " '\"0\",\"1467928676\",\"Mon Apr 06 22:51:25 PDT 2009\",\"NO_QUERY\",\"latoyanlegania\",\"@NileLegania glad I was able help you feel better. I hate to see you sick  Love you!\"',\n",
       " '\"0\",\"1467928749\",\"Mon Apr 06 22:51:26 PDT 2009\",\"NO_QUERY\",\"calliott\",\"is tireddddddd. want to sleep but i have an assignment to finish and an exam tomorrow to study for \"',\n",
       " '\"0\",\"1467928764\",\"Mon Apr 06 22:51:27 PDT 2009\",\"NO_QUERY\",\"you_undaft_cow\",\"You know, I was thinking... I need money \"',\n",
       " '\"0\",\"1467929184\",\"Mon Apr 06 22:51:33 PDT 2009\",\"NO_QUERY\",\"diver\",\"omg..its jst teusday \"',\n",
       " '\"0\",\"1467929230\",\"Mon Apr 06 22:51:34 PDT 2009\",\"NO_QUERY\",\"toritor11\",\"@ddlovato @David_Henrie ummmmm i cant find it. \"',\n",
       " '\"0\",\"1467929248\",\"Mon Apr 06 22:51:34 PDT 2009\",\"NO_QUERY\",\"SHARisDOPE\",\"Just heard that they found Sandra Cantu... She was only 8 yrs old \"',\n",
       " '\"0\",\"1467929601\",\"Mon Apr 06 22:51:40 PDT 2009\",\"NO_QUERY\",\"auntynessanoo\",\"@corrosivecandy Ive forgotten how to snoo-snoo  I wonder if snoo-snoo and I will ever meet again...\"',\n",
       " '\"0\",\"1467929809\",\"Mon Apr 06 22:51:44 PDT 2009\",\"NO_QUERY\",\"linnix\",\"@AmaNorris wow that last tweet made me seem like a giant sexist...sorry about that \"',\n",
       " '\"0\",\"1467929915\",\"Mon Apr 06 22:51:46 PDT 2009\",\"NO_QUERY\",\"zeegirl602\",\"My bathtub drain is fired: it haz 1 job 2 do, &amp; it iz FAIL. I got all Drano on its ass, &amp; iz STILL NOT DRAINING. I wanna shower, dangit!! \"',\n",
       " '\"0\",\"1467930017\",\"Mon Apr 06 22:51:48 PDT 2009\",\"NO_QUERY\",\"Glycel\",\"stuck at home \"',\n",
       " '\"0\",\"1467930083\",\"Mon Apr 06 22:51:49 PDT 2009\",\"NO_QUERY\",\"sweisbrot\",\"@nomadicmatt mine is 1/10  how do you get it up?\"',\n",
       " '\"0\",\"1467930157\",\"Mon Apr 06 22:51:50 PDT 2009\",\"NO_QUERY\",\"sunshinegarma\",\"Duckling in famous children\\'s book stolen from Boston\\'s Public Garden - The Boston Globe http://tinyurl.com/dc2htx via @ShareThis OH NO!! \"',\n",
       " '\"0\",\"1467930220\",\"Mon Apr 06 22:51:51 PDT 2009\",\"NO_QUERY\",\"TradingGoddess\",\"@Appomattox_News Thank you! However, I hate to be on the same list that includes 2 convicts.  \"',\n",
       " '\"0\",\"1467930309\",\"Mon Apr 06 22:51:52 PDT 2009\",\"NO_QUERY\",\"robbiebrown\",\"Heading to Altrincham, again! Out of hours install \"',\n",
       " '\"0\",\"1467930341\",\"Mon Apr 06 22:51:53 PDT 2009\",\"NO_QUERY\",\"GemDoughnut\",\"MORNING!!! Good im bloody knackered!!! Work is not for me today  HELPPP!!!! xxx\"',\n",
       " '\"0\",\"1467930699\",\"Mon Apr 06 22:51:59 PDT 2009\",\"NO_QUERY\",\"glorysevenfold\",\"@jeffreecuntstar  I don\\'t have a garage.  But you can park in my driveway!\"',\n",
       " '\"0\",\"1467931027\",\"Mon Apr 06 22:52:07 PDT 2009\",\"NO_QUERY\",\"enfox\",\"@lauredhel  What happened?\"',\n",
       " '\"0\",\"1467931070\",\"Mon Apr 06 22:52:06 PDT 2009\",\"NO_QUERY\",\"calee01\",\"&quot;On popular music&quot; by T.W.Adorno is probably the most difficult reading ever prescribed, I\\'m actually struggling to continue \"',\n",
       " '\"0\",\"1467931396\",\"Mon Apr 06 22:52:11 PDT 2009\",\"NO_QUERY\",\"utehbaik\",\"http://twitpic.com/2y36e - cant see the flowers falling  i dont have a camera, just my cellphone\"',\n",
       " '\"0\",\"1467931501\",\"Mon Apr 06 22:52:13 PDT 2009\",\"NO_QUERY\",\"soulonfire68\",\"We\\'ve been good. I\\'m not liking the snow right now, was getting used to the nice Spring-like weather.  How about you?\"',\n",
       " '\"0\",\"1467931736\",\"Mon Apr 06 22:52:19 PDT 2009\",\"NO_QUERY\",\"Gordie_Rogers\",\"@brian_armstrong What a pity YouTube is currently blocked in China.  I can\\'t see the vids. \"',\n",
       " '\"0\",\"1467931839\",\"Mon Apr 06 22:52:18 PDT 2009\",\"NO_QUERY\",\"dmurda6\",\"@margaretcho what happened to your show it was the hightlight of my life \"',\n",
       " '\"0\",\"1467931983\",\"Mon Apr 06 22:52:21 PDT 2009\",\"NO_QUERY\",\"terrcin\",\"This is the best leather sofa in the world!  It\\'s in the office though which means I\\'m still here working \"',\n",
       " '\"0\",\"1467932117\",\"Mon Apr 06 22:52:23 PDT 2009\",\"NO_QUERY\",\"stewartizer\",\"Still 3 more days until my Internet gets uncapped \"',\n",
       " '\"0\",\"1467932208\",\"Mon Apr 06 22:52:25 PDT 2009\",\"NO_QUERY\",\"rachelgab\",\"If he doesn\\'t get better in a few days, he could have something lodged in his belly \"',\n",
       " '\"0\",\"1467932372\",\"Mon Apr 06 22:52:27 PDT 2009\",\"NO_QUERY\",\"baybiegela\",\"i Love my atekinzz so much. &amp;&amp; i soo miss her.. \"',\n",
       " '\"0\",\"1467932549\",\"Mon Apr 06 22:52:31 PDT 2009\",\"NO_QUERY\",\"erynfreakincody\",\"I wanna sneak into the zoo and play with the kitties \"',\n",
       " '\"0\",\"1467932979\",\"Mon Apr 06 22:52:38 PDT 2009\",\"NO_QUERY\",\"xkhaotik\",\"@lolitariot oh no  hope you\\'re not getting sick too!\"',\n",
       " '\"0\",\"1467933048\",\"Mon Apr 06 22:52:39 PDT 2009\",\"NO_QUERY\",\"stacymartinez\",\"@alejandralei i dont think i can cause its my cousins birthday party \"',\n",
       " '\"0\",\"1467933102\",\"Mon Apr 06 22:52:42 PDT 2009\",\"NO_QUERY\",\"chelseajohns\",\"Our sweet little man just fell asleep while waiting up for daddy and big brother to get home!  Poor baby, he missed them so much today!\"',\n",
       " '\"0\",\"1467933112\",\"Mon Apr 06 22:52:40 PDT 2009\",\"NO_QUERY\",\"elenasarmie\",\"the angel is going to miss the athlete this weekend \"',\n",
       " '\"0\",\"1467933295\",\"Mon Apr 06 22:52:44 PDT 2009\",\"NO_QUERY\",\"funkyfreshbabe\",\"trust is hard \"',\n",
       " '\"0\",\"1467933494\",\"Mon Apr 06 22:52:47 PDT 2009\",\"NO_QUERY\",\"AlexKayy\",\"have watched that considering today. yaknow. shawnna tomomorrow;i need my bestfriend \"',\n",
       " '\"0\",\"1467933623\",\"Mon Apr 06 22:52:50 PDT 2009\",\"NO_QUERY\",\"xemilyxmariex\",\"Grr i want to keep reading but if i do i wont have anything left to read \"',\n",
       " '\"0\",\"1467933662\",\"Mon Apr 06 22:52:50 PDT 2009\",\"NO_QUERY\",\"baybiegela\",\"atekinzz, where in the world are you?? \"',\n",
       " '\"0\",\"1467933685\",\"Mon Apr 06 22:52:51 PDT 2009\",\"NO_QUERY\",\"FAKELeah\",\"@RumLover No! u supposed to be my date \"',\n",
       " '\"0\",\"1467934004\",\"Mon Apr 06 22:52:56 PDT 2009\",\"NO_QUERY\",\"malice_sin\",\"pears &amp; Brie, bottle of Cabernet, and &quot;Win a Date With Tad Hamilton&quot;... oh gawwd my life flashed forward to when I\\'m 40 with my 75 cats \"',\n",
       " '\"0\",\"1467934184\",\"Mon Apr 06 22:52:59 PDT 2009\",\"NO_QUERY\",\"wx1901\",\"Crap. I need more dresses too. \"',\n",
       " '\"0\",\"1467934481\",\"Mon Apr 06 22:53:04 PDT 2009\",\"NO_QUERY\",\"missb2818\",\"@kaeeeep yeah! i know! it was horrible!!!! ugh. saddening. \"',\n",
       " '\"0\",\"1467934606\",\"Mon Apr 06 22:53:06 PDT 2009\",\"NO_QUERY\",\"fictillius\",\"@Brodhe geez ur no fun are you \"',\n",
       " '\"0\",\"1467935121\",\"Mon Apr 06 22:53:14 PDT 2009\",\"NO_QUERY\",\"SicklyInfected\",\"I wanna be in a punk rock band again \"',\n",
       " '\"0\",\"1467935189\",\"Mon Apr 06 22:53:15 PDT 2009\",\"NO_QUERY\",\"AshleighF\",\"@jyesmith That\\'s a lot of angst for a Tuesday afternoon \"',\n",
       " '\"0\",\"1467935271\",\"Mon Apr 06 22:53:19 PDT 2009\",\"NO_QUERY\",\"andreakuefler\",\"I\\'m very glad Britney isn\\'t crazy anymore! That was one hell of a show! Now I\\'m sad that it\\'s over.  Next up...AP at Cook County!\"',\n",
       " '\"0\",\"1467935345\",\"Mon Apr 06 22:53:18 PDT 2009\",\"NO_QUERY\",\"mmmelissa\",\"has a huuuge headache! omg I feel like crap! \"',\n",
       " '\"0\",\"1467936498\",\"Mon Apr 06 22:53:39 PDT 2009\",\"NO_QUERY\",\"jtmal0723\",\"@Anistorm Sorry \"',\n",
       " '\"0\",\"1467936541\",\"Mon Apr 06 22:53:40 PDT 2009\",\"NO_QUERY\",\"justynwarner\",\"@cleders sorry...i was rooting for them too... \"',\n",
       " '\"0\",\"1467936901\",\"Mon Apr 06 22:53:47 PDT 2009\",\"NO_QUERY\",\"Obstreperous\",\"Man, that took forever. \"',\n",
       " '\"0\",\"1467937038\",\"Mon Apr 06 22:53:49 PDT 2009\",\"NO_QUERY\",\"shockboard\",\"@shandasaurus  I see.\"',\n",
       " '\"0\",\"1467937128\",\"Mon Apr 06 22:53:50 PDT 2009\",\"NO_QUERY\",\"treywoodward\",\"I am listing more items on ebay to sell!  Takes forever..meanwhile Coleman is watching The Hills season premier without me.. \"',\n",
       " '\"0\",\"1467937189\",\"Mon Apr 06 22:53:52 PDT 2009\",\"NO_QUERY\",\"bitchville\",\"Just got my presentation done, 23 slides done...  I\\'m crying for this week will be the hardest of all weeks.\"',\n",
       " '\"0\",\"1467937250\",\"Mon Apr 06 22:53:53 PDT 2009\",\"NO_QUERY\",\"JMoze\",\"Just lost $160 \"',\n",
       " '\"0\",\"1467937393\",\"Mon Apr 06 22:53:55 PDT 2009\",\"NO_QUERY\",\"iwantyourjeep\",\"I don\\'t like the previously on skins thing that starts at season two. I like it when it went straight into the intro like before \"',\n",
       " '\"0\",\"1467937402\",\"Mon Apr 06 22:53:55 PDT 2009\",\"NO_QUERY\",\"haunter_\",\"@Houndour ...i wish i was there...i\\'m pretty good at scaring the shit out of people \"',\n",
       " '\"0\",\"1467942658\",\"Mon Apr 06 22:55:25 PDT 2009\",\"NO_QUERY\",\"katidink\",\"Going to sound vain... but running out of my fav lip gloss \"',\n",
       " '\"0\",\"1467943007\",\"Mon Apr 06 22:55:30 PDT 2009\",\"NO_QUERY\",\"vibratoria\",\"@stuiy never again will I click on a link that screams, &quot;I\\'m a spider, I\\'m a spider&quot;. I should have known better. yucky \"',\n",
       " '\"0\",\"1467943375\",\"Mon Apr 06 22:55:37 PDT 2009\",\"NO_QUERY\",\"dodginjohn\",\"Why is that when you have time off from work you get sick? \"',\n",
       " '\"0\",\"1467943526\",\"Mon Apr 06 22:55:40 PDT 2009\",\"NO_QUERY\",\"javajive\",\"@pratama Same iMac came out $320 more in Indonesia than the States. \"',\n",
       " '\"0\",\"1467943851\",\"Mon Apr 06 22:55:48 PDT 2009\",\"NO_QUERY\",\"EuniceKwon\",\"Dammit... I need to stop buying furniture \"',\n",
       " '\"0\",\"1467943966\",\"Mon Apr 06 22:55:48 PDT 2009\",\"NO_QUERY\",\"Lora_June\",\"@Miss_Sil no i was half asleep and turned off the laptop after that \"',\n",
       " '\"0\",\"1467944261\",\"Mon Apr 06 22:55:53 PDT 2009\",\"NO_QUERY\",\"theofficialyesi\",\"Death is peaceful,  life however, bites \"',\n",
       " '\"0\",\"1467944317\",\"Mon Apr 06 22:55:54 PDT 2009\",\"NO_QUERY\",\"veronica78\",\" i think @JonathanRKnight lost the net ? sure hope not\"',\n",
       " '\"0\",\"1467944552\",\"Mon Apr 06 22:56:00 PDT 2009\",\"NO_QUERY\",\"tjslater\",\"http://is.gd/r8Zf,  http://is.gd/r8Zy, and  http://is.gd/r8ZG - test footage with my girlfriend (in HD) The dark one is underxposed \"',\n",
       " '\"0\",\"1467944581\",\"Mon Apr 06 22:56:01 PDT 2009\",\"NO_QUERY\",\"JennaBennett01\",\"Such a tough game to watch tonight for State  Finally going to bed after also staying up to watch the season premiere of the Hills!\"',\n",
       " '\"0\",\"1467944654\",\"Mon Apr 06 22:56:00 PDT 2009\",\"NO_QUERY\",\"coryosborn\",\"Seems jRuby support for hpricot is now two versions behind \"',\n",
       " '\"0\",\"1467944871\",\"Mon Apr 06 22:56:03 PDT 2009\",\"NO_QUERY\",\"MrOtsKrad\",\"@JinxCat Unlike my sister...I still don\\'t have one \"',\n",
       " '\"0\",\"1467945151\",\"Mon Apr 06 22:56:08 PDT 2009\",\"NO_QUERY\",\"Caprica\",\"Fraking app store is pissing me off   http://tinyurl.com/c4ooho\"',\n",
       " '\"0\",\"1467945476\",\"Mon Apr 06 22:56:13 PDT 2009\",\"NO_QUERY\",\"anamrosado\",\"Logging out. I need to study.... \"',\n",
       " '\"0\",\"1467945704\",\"Mon Apr 06 22:56:17 PDT 2009\",\"NO_QUERY\",\"amfairie\",\"anyone else having problems accessing TTB??? I cant get on!!! \"',\n",
       " '\"0\",\"1467945787\",\"Mon Apr 06 22:56:18 PDT 2009\",\"NO_QUERY\",\"swimmermeg\",\"I strongly dislike people who make stupid comments and dont know the whole story \"',\n",
       " '\"0\",\"1467945885\",\"Mon Apr 06 22:56:20 PDT 2009\",\"NO_QUERY\",\"GillianMe\",\"@emmaketurah  i\\'m sorry Emma, is swarley a goldfish? i\\'m sad for u.\"',\n",
       " '\"0\",\"1467946026\",\"Mon Apr 06 22:56:23 PDT 2009\",\"NO_QUERY\",\"nissanicole\",\"All my tweets are already gone, aren\\'t they  Missed you guys tonight.\"',\n",
       " '\"0\",\"1467946137\",\"Mon Apr 06 22:56:25 PDT 2009\",\"NO_QUERY\",\"kelilyma\",\"Can\\'t sleep again. Face is kinda swollen. Don\\'t let me be allergic to the thing that\\'ll get me to Thursday. School tomorrow? Doubtful. \"',\n",
       " '\"0\",\"1467946559\",\"Mon Apr 06 22:56:32 PDT 2009\",\"NO_QUERY\",\"tollers\",\"@Snick_the_Dog If Izzy\\'s on the cat tree, she\\'ll stare him down, but if she\\'s on the floor, he chases and she runs. \"',\n",
       " '\"0\",\"1467946592\",\"Mon Apr 06 22:56:35 PDT 2009\",\"NO_QUERY\",\"Velvet_Rope\",\"I am officially banning godaddy.com from my comp. My head hurts from the small print AND I wasted $10 that could\\'ve happily gone to Boba \"',\n",
       " '\"0\",\"1467946749\",\"Mon Apr 06 22:56:36 PDT 2009\",\"NO_QUERY\",\"dreaaa\",\"@HumanOpium pretty much just scary for me \"',\n",
       " '\"0\",\"1467946810\",\"Mon Apr 06 22:56:37 PDT 2009\",\"NO_QUERY\",\"TheDarrenxshow\",\"@ilovepie mines too... I\\'m finding it well hard to get fit... \"',\n",
       " '\"0\",\"1467947005\",\"Mon Apr 06 22:56:40 PDT 2009\",\"NO_QUERY\",\"tamisara\",\"Good morning! Ready 2 go, but I want 2 go back 2 bed \"',\n",
       " '\"0\",\"1467947104\",\"Mon Apr 06 22:56:42 PDT 2009\",\"NO_QUERY\",\"maddyks\",\"hates waiting for mails \"',\n",
       " '\"0\",\"1467947557\",\"Mon Apr 06 22:56:50 PDT 2009\",\"NO_QUERY\",\"katprimeau\",\"wheat bread from the dollar store just doesn\\'t toast nicely  going over my taxes and calling it an early night\"',\n",
       " '\"0\",\"1467947713\",\"Mon Apr 06 22:56:56 PDT 2009\",\"NO_QUERY\",\"ScullyorSuz\",\"Why Kutner? I mean I knew something was going to happen to someone but it was so sad. I &lt;3 House and it was well done, but I\\'m still sad \"',\n",
       " '\"0\",\"1467947913\",\"Mon Apr 06 22:56:58 PDT 2009\",\"NO_QUERY\",\"jonsgrownwoman\",\"@JonathanRKnight aw ok goonite....  \"',\n",
       " '\"0\",\"1467948169\",\"Mon Apr 06 22:57:01 PDT 2009\",\"NO_QUERY\",\"BellaTanner\",\"ill so i cant go to the cinema!! \"',\n",
       " '\"0\",\"1467948434\",\"Mon Apr 06 22:57:05 PDT 2009\",\"NO_QUERY\",\"sftballlover45\",\"Fell asleep . . . Really didn\\'t mean too  *christina*\"',\n",
       " '\"0\",\"1467948521\",\"Mon Apr 06 22:57:07 PDT 2009\",\"NO_QUERY\",\"amomca\",\"@KelleyRowe hey, you remember that time we used to be friends?? ;)  ugh. vomit. sick.  i need sleep \"',\n",
       " '\"0\",\"1467948526\",\"Mon Apr 06 22:57:07 PDT 2009\",\"NO_QUERY\",\"omgwtfannie\",\"my lymph nodes are as massive as rahm emanuel\\'s balls right now \"',\n",
       " '\"0\",\"1467948979\",\"Mon Apr 06 22:57:14 PDT 2009\",\"NO_QUERY\",\"JoeJoeCastillo\",\"Oh no my computer sucks. I don\\'t think i\\'ll be able to listen to the Xbox 360 Fancast tonite \"',\n",
       " '\"0\",\"1467949047\",\"Mon Apr 06 22:57:15 PDT 2009\",\"NO_QUERY\",\"kortniewestfall\",\"is missing playing my trumpet \"',\n",
       " '\"0\",\"1467949516\",\"Mon Apr 06 22:57:24 PDT 2009\",\"NO_QUERY\",\"skitterrusty\",\"My throat is still really sore. I was meant to be going on a 5 day camp from Friday but not so sure now \"',\n",
       " '\"0\",\"1467949681\",\"Mon Apr 06 22:57:27 PDT 2009\",\"NO_QUERY\",\"harishanker\",\"@sasii I know exactly how you feel! \"',\n",
       " '\"0\",\"1467949746\",\"Mon Apr 06 22:57:28 PDT 2009\",\"NO_QUERY\",\"xShyGirlx\",\"At work \"',\n",
       " '\"0\",\"1467949969\",\"Mon Apr 06 22:57:32 PDT 2009\",\"NO_QUERY\",\"mortambo\",\"Well bed time now. 1 am. *sighs* Back to 6 am mornings for a week on Wednesday. \"',\n",
       " '\"0\",\"1467950027\",\"Mon Apr 06 22:57:33 PDT 2009\",\"NO_QUERY\",\"dcousineau\",\"@hert Jesus Camp? Yeah... \"',\n",
       " '\"0\",\"1467950029\",\"Mon Apr 06 22:57:33 PDT 2009\",\"NO_QUERY\",\"guardian_renata\",\"@MaryBethune oh no! with everything that happened today, i forgot we were going dress shopping for the opera tomorrow. \"',\n",
       " '\"0\",\"1467950217\",\"Mon Apr 06 22:57:37 PDT 2009\",\"NO_QUERY\",\"vera7\",\"Turtles are better than my Mac - lasts longer and moves faster \"',\n",
       " '\"0\",\"1467950510\",\"Mon Apr 06 22:57:41 PDT 2009\",\"NO_QUERY\",\"squone\",\"I am soaked. This is not pleasant \"',\n",
       " '\"0\",\"1467950588\",\"Mon Apr 06 22:57:43 PDT 2009\",\"NO_QUERY\",\"lanaveenker\",\"@ginayates Sorry to hear about Maggie.    Thoughts to your mum.\"',\n",
       " '\"0\",\"1467950600\",\"Mon Apr 06 22:57:43 PDT 2009\",\"NO_QUERY\",\"KellyOut\",\"@ewarden, you may have to email this one to me  I hope you feel better.\"',\n",
       " '\"0\",\"1467950649\",\"Mon Apr 06 22:57:44 PDT 2009\",\"NO_QUERY\",\"TymeekVasquez\",\"@miamiiboii dead @ yu gettin on wen im leavin \"',\n",
       " '\"0\",\"1467950687\",\"Mon Apr 06 22:57:44 PDT 2009\",\"NO_QUERY\",\"Hollywood_Trey\",\"@arlenecd PLEASE TELL ME THAT\\'S SOMEWHERE CLOSE TO CALIFORNIA!!! LOL! \"',\n",
       " '\"0\",\"1467950866\",\"Mon Apr 06 22:57:47 PDT 2009\",\"NO_QUERY\",\"melbrehl\",\"@phlaimeaux where are you? \"',\n",
       " '\"0\",\"1467950975\",\"Mon Apr 06 22:57:52 PDT 2009\",\"NO_QUERY\",\"sunsetphotograf\",\"stupid arranged marriages... i\\'ll convert so you can marry me...love you! \"',\n",
       " '\"0\",\"1467951016\",\"Mon Apr 06 22:57:50 PDT 2009\",\"NO_QUERY\",\"ccallas\",\"@emilyruppe Well he said that he is a looser, and that is what the show implies \"',\n",
       " '\"0\",\"1467951035\",\"Mon Apr 06 22:57:50 PDT 2009\",\"NO_QUERY\",\"3WildBoys\",\"Poor Sandra Cantu &amp; the Cantu family! My prayers go out to them! What a sick world we live in. She was only 8 \"',\n",
       " '\"0\",\"1467951238\",\"Mon Apr 06 22:57:54 PDT 2009\",\"NO_QUERY\",\"roniker\",\"fuck omg  austins always there though man &lt;3 love you\"',\n",
       " '\"0\",\"1467951252\",\"Mon Apr 06 22:57:54 PDT 2009\",\"NO_QUERY\",\"kirstenmaree\",\"@nicolerichie I cried so hard when Matthew died \"',\n",
       " '\"0\",\"1467951422\",\"Mon Apr 06 22:57:57 PDT 2009\",\"NO_QUERY\",\"felloff\",\"sad that the \\'feet\\' of my macbook just fell off : sad that the \\'feet\\' of my macbook just fell off \"',\n",
       " '\"0\",\"1467951568\",\"Mon Apr 06 22:57:59 PDT 2009\",\"NO_QUERY\",\"spcake\",\"@chordsy - why am I the last to find out about these things? Like that you\\'re on the twitter too. \"',\n",
       " '\"0\",\"1467951850\",\"Mon Apr 06 22:58:04 PDT 2009\",\"NO_QUERY\",\"MissT09\",\"@lovebscott absolutely not!! \"',\n",
       " '\"0\",\"1467951931\",\"Mon Apr 06 22:58:05 PDT 2009\",\"NO_QUERY\",\"mitrepeak\",\"http://twitpic.com/2y3cf - Filled with curry  the true indian in me is coming out\"',\n",
       " '\"0\",\"1467952069\",\"Mon Apr 06 22:58:07 PDT 2009\",\"NO_QUERY\",\"JAHNcookie\",\"im soooo cold right now \"',\n",
       " '\"0\",\"1467952100\",\"Mon Apr 06 22:58:08 PDT 2009\",\"NO_QUERY\",\"daneduh\",\"@heidimontag lol I kant believe cam got beat upp sooo embarasssiiiin \"',\n",
       " '\"0\",\"1467952123\",\"Mon Apr 06 22:58:08 PDT 2009\",\"NO_QUERY\",\"TurkishDelite\",\"@JonathanRKnight Good Knight hun! Looking forward to ur tweets again! Hate that i keep missing out on the fun cuz of the time difference \"',\n",
       " '\"0\",\"1467952699\",\"Mon Apr 06 22:58:18 PDT 2009\",\"NO_QUERY\",\"mumblr\",\"Tumblr: This is exactly how it feels wearing a ï¿½tieï¿½  http://tinyurl.com/c8bvqh\"',\n",
       " '\"0\",\"1467952985\",\"Mon Apr 06 22:58:24 PDT 2009\",\"NO_QUERY\",\"mickeyness\",\"@daniela_95616 hahaa!! i just realized &quot;impune&quot; definitely isnt the word i wanted... dang. i\\'m so unclever. \"',\n",
       " '\"0\",\"1467953090\",\"Mon Apr 06 22:58:27 PDT 2009\",\"NO_QUERY\",\"JoannaWooten\",\"watching old videos of dance team and such... makes me miss it  \"',\n",
       " '\"0\",\"1467953163\",\"Mon Apr 06 22:58:26 PDT 2009\",\"NO_QUERY\",\"Briana810\",\"Wahh  no CSI anywhere! DVR\\'ed I Love Money 2 though - gonna watch it then sleep - Goodnight Tweeters&lt;3\"',\n",
       " '\"0\",\"1467953277\",\"Mon Apr 06 22:58:29 PDT 2009\",\"NO_QUERY\",\"sudheeshu\",\"Struggling hard with Inventory \"',\n",
       " '\"0\",\"1467953367\",\"Mon Apr 06 22:58:30 PDT 2009\",\"NO_QUERY\",\"lovatolover\",\"@ddlovato Do you hate us?? Please don\\'t \"',\n",
       " '\"0\",\"1467953500\",\"Mon Apr 06 22:58:33 PDT 2009\",\"NO_QUERY\",\"candilaria\",\"@ballinbitch haha im not THAT ballin. I still got bills to paaaaay \"',\n",
       " '\"0\",\"1467953681\",\"Mon Apr 06 22:58:36 PDT 2009\",\"NO_QUERY\",\"erwinthegreat\",\"I\\'m in one of those days when I really just want to work from home.  Crap. \"',\n",
       " '\"0\",\"1467953733\",\"Mon Apr 06 22:58:37 PDT 2009\",\"NO_QUERY\",\"MonikkaB\",\"@paul_e_wog Wait...is it a game or just episodes? I\\'m so confused. \"',\n",
       " '\"0\",\"1467953738\",\"Mon Apr 06 22:58:37 PDT 2009\",\"NO_QUERY\",\"CaseLynn\",\"@carlyw66 HAHA. I cried...  I guess he did....\"',\n",
       " '\"0\",\"1467954059\",\"Mon Apr 06 22:58:42 PDT 2009\",\"NO_QUERY\",\"zeet75\",\"I don\\'t get statistics!  Its all a bunch of mumbo jumbo for me.\"',\n",
       " '\"0\",\"1467954070\",\"Mon Apr 06 22:58:42 PDT 2009\",\"NO_QUERY\",\"MickyFin\",\"@sloanb Got it, sadly, only works for UK &amp; US at the moment \"',\n",
       " '\"0\",\"1467959908\",\"Mon Apr 06 23:00:18 PDT 2009\",\"NO_QUERY\",\"makebelievetree\",\"Evicted \"',\n",
       " '\"0\",\"1467960066\",\"Mon Apr 06 23:00:20 PDT 2009\",\"NO_QUERY\",\"JennTheAmazing\",\"doesn\\'t enjoy learning CSS. \"',\n",
       " '\"0\",\"1467960196\",\"Mon Apr 06 23:00:22 PDT 2009\",\"NO_QUERY\",\"ilovedanah\",\"@nachojohnny Brian don\\'t make me fuck u up LOL I replied 2 ur message...did u get my # ? I miss u \"',\n",
       " '\"0\",\"1467960388\",\"Mon Apr 06 23:00:24 PDT 2009\",\"NO_QUERY\",\"lovebellaluna\",\"@heidimontag I  dvr\\'d it and went to watch it, apparently the dish network went down SO I MISSED IT    I will have to catch a rerun!\"',\n",
       " '\"0\",\"1467960481\",\"Mon Apr 06 23:00:26 PDT 2009\",\"NO_QUERY\",\"breedimetria\",\"@JessDubb lmao. U may have to wait for another season to come thru. its summe boo. Hot nd dry ass weather \"',\n",
       " '\"0\",\"1467960735\",\"Mon Apr 06 23:00:29 PDT 2009\",\"NO_QUERY\",\"DolfinFan\",\"@LizChavez I can\\'t set my feet on the ground. The missing eyelid people might get me!  \"',\n",
       " '\"0\",\"1467960840\",\"Mon Apr 06 23:00:31 PDT 2009\",\"NO_QUERY\",\"mickeyness\",\"@daniela_95616 my english professor would be ashamed. \"',\n",
       " '\"0\",\"1467961044\",\"Mon Apr 06 23:00:34 PDT 2009\",\"NO_QUERY\",\"twishes\",\"[-O] I wish the frogs weren\\'t becoming extinct    http://tinyurl.com/cxe8w7\"',\n",
       " '\"0\",\"1467961091\",\"Mon Apr 06 23:00:35 PDT 2009\",\"NO_QUERY\",\"Angelina1994\",\"Came home from Cross County, Tired as \"',\n",
       " '\"0\",\"1467961106\",\"Mon Apr 06 23:00:36 PDT 2009\",\"NO_QUERY\",\"la_discoteca\",\"I don\\'t want to walk home in this snow. Who wants to pick me up? \"',\n",
       " '\"0\",\"1467961146\",\"Mon Apr 06 23:00:36 PDT 2009\",\"NO_QUERY\",\"teefaKNEEx\",\"@heidimontag Lauren is being stubborn. she loves you, you love her.  I feel so bad for you, though. it made me cry  lol!\"',\n",
       " '\"0\",\"1467961817\",\"Mon Apr 06 23:00:47 PDT 2009\",\"NO_QUERY\",\"Capt_Planet\",\"is grouchy. and wants bmar \"',\n",
       " '\"0\",\"1467962336\",\"Mon Apr 06 23:00:55 PDT 2009\",\"NO_QUERY\",\"umfoo\",\"my heart is broken every morning dropping Foo at pre school, now i understand when moms say &quot;he has my heart broken&quot;. \"',\n",
       " '\"0\",\"1467962502\",\"Mon Apr 06 23:00:58 PDT 2009\",\"NO_QUERY\",\"hollywoodgiant\",\"Not feeling well and back hurts \"',\n",
       " '\"0\",\"1467962634\",\"Mon Apr 06 23:01:02 PDT 2009\",\"NO_QUERY\",\"MissMillions\",\"Im in the mood for some chocolate. I want..... Miniature Reeses cups. Now \"',\n",
       " '\"0\",\"1467962671\",\"Mon Apr 06 23:01:01 PDT 2009\",\"NO_QUERY\",\"Bi0hazard2886\",\"I can\\'t take this heat! It\\'s like an oven in here. I feel sick nwo \"',\n",
       " '\"0\",\"1467962897\",\"Mon Apr 06 23:01:04 PDT 2009\",\"NO_QUERY\",\"aleskywalker\",\"@nick_carter Come to the chat  just 15 minutes  please? http://fanclub.backstreetboys.com/chat.php\"',\n",
       " '\"0\",\"1467962938\",\"Mon Apr 06 23:01:04 PDT 2009\",\"NO_QUERY\",\"jess___x\",\"Boredd. Colddd  Internet keeps stuffing up\"',\n",
       " '\"0\",\"1467963418\",\"Mon Apr 06 23:01:14 PDT 2009\",\"NO_QUERY\",\"Zimily\",\"I had a horrible nightmare last night which affected my sleep, now I\\'m really tired \"',\n",
       " '\"0\",\"1467963477\",\"Mon Apr 06 23:01:15 PDT 2009\",\"NO_QUERY\",\"Augustina22\",\"im lonely  keep me company! 22 female, new york\"',\n",
       " '\"0\",\"1467963715\",\"Mon Apr 06 23:01:18 PDT 2009\",\"NO_QUERY\",\"missmadison\",\"@Born_4_Broadway Lost  and it was St. Ignacius Prepatory School. Haha.\"',\n",
       " '\"0\",\"1467963880\",\"Mon Apr 06 23:01:21 PDT 2009\",\"NO_QUERY\",\"JesseW84\",\"@birutagme yeah  it was really depressing... stuff like that gets to me\"',\n",
       " '\"0\",\"1467964211\",\"Mon Apr 06 23:01:26 PDT 2009\",\"NO_QUERY\",\"nzcjs\",\"@whoisariston No problem, tongue-in-cheek remark.  Lots of acronyms, but no NZ \"',\n",
       " '\"0\",\"1467964229\",\"Mon Apr 06 23:01:26 PDT 2009\",\"NO_QUERY\",\"farty_brando\",\"@greggrunberg hey you said matt was gonna go all ballistic... i was disappointed  good ep tho mostly\"',\n",
       " '\"0\",\"1467965065\",\"Mon Apr 06 23:01:40 PDT 2009\",\"NO_QUERY\",\"hoopdiva\",\"ugh horrible ending to the sandra kantu story  prayers go out.\"',\n",
       " '\"0\",\"1467965832\",\"Mon Apr 06 23:01:53 PDT 2009\",\"NO_QUERY\",\"lucy_g\",\"@danielledeleasa http://twitpic.com/2y1pe - I hate 2 B allergic  i want a puppy soo bad that i\\'ve already thought some cool names\"',\n",
       " '\"0\",\"1467965873\",\"Mon Apr 06 23:01:54 PDT 2009\",\"NO_QUERY\",\"Firefly2020\",\"Morning folks 7.00 am ..yawn! Up &amp; away to see to horses - hope Twitter is better behaved today!  Last night was a travesty \"',\n",
       " '\"0\",\"1467965949\",\"Mon Apr 06 23:01:55 PDT 2009\",\"NO_QUERY\",\"LadyLTattoos\",\"@QuanDotCom I miss mine too! \"',\n",
       " '\"0\",\"1467965994\",\"Mon Apr 06 23:01:56 PDT 2009\",\"NO_QUERY\",\"lanaveenker\",\"@AmandaEnglund Sorry to hear about your loss.     There have been many this year so far.\"',\n",
       " '\"0\",\"1467966187\",\"Mon Apr 06 23:01:59 PDT 2009\",\"NO_QUERY\",\"dyannnn\",\"@nicolerichie Gossip Girl was a repeat \"',\n",
       " '\"0\",\"1467966260\",\"Mon Apr 06 23:02:00 PDT 2009\",\"NO_QUERY\",\"bluntmag\",\"@InYourEyes2410 I reckon \"',\n",
       " '\"0\",\"1467966271\",\"Mon Apr 06 23:02:00 PDT 2009\",\"NO_QUERY\",\"leelaaa\",\"finding it really hard to use twitter \"',\n",
       " '\"0\",\"1467966560\",\"Mon Apr 06 23:02:04 PDT 2009\",\"NO_QUERY\",\"jjjarrett\",\"I\\'ve been stuck in this house for two days \"',\n",
       " '\"0\",\"1467966646\",\"Mon Apr 06 23:02:06 PDT 2009\",\"NO_QUERY\",\"vebitaa\",\"is really sad and doesn\\'t really know y!!??!!! \"',\n",
       " '\"0\",\"1467967089\",\"Mon Apr 06 23:02:13 PDT 2009\",\"NO_QUERY\",\"riblah\",\"@thousand_miles no \"',\n",
       " '\"0\",\"1467967410\",\"Mon Apr 06 23:02:18 PDT 2009\",\"NO_QUERY\",\"lindsaymccaul\",\"Maybe one of these years I\\'ll get a tax return.  A girl can dream, right?\"',\n",
       " '\"0\",\"1467967432\",\"Mon Apr 06 23:02:19 PDT 2009\",\"NO_QUERY\",\"EkoEko_Azarak\",\"Back at work, tired as hell and i feel a cold coming \"',\n",
       " '\"0\",\"1467967862\",\"Mon Apr 06 23:02:26 PDT 2009\",\"NO_QUERY\",\"atothebed\",\"@clarianne @Knot2serious APRIL 9TH ISN\\'T COMING SOON ENOUGH \"',\n",
       " '\"0\",\"1467968140\",\"Mon Apr 06 23:02:31 PDT 2009\",\"NO_QUERY\",\"Trampolinia\",\"@hannahsix cream for his eye and he may have herpes - not ocular herpes, but a different strain.    He\\'s doing okay though.\"',\n",
       " '\"0\",\"1467968155\",\"Mon Apr 06 23:02:31 PDT 2009\",\"NO_QUERY\",\"mia_19\",\"gotta repeat  whole art folio cuz old one with a whole terms work got wet \"',\n",
       " '\"0\",\"1467968402\",\"Mon Apr 06 23:02:36 PDT 2009\",\"NO_QUERY\",\"Themfc\",\"I\\'m ready for the weekend already. It\\'s only Monday. \"',\n",
       " '\"0\",\"1467968584\",\"Mon Apr 06 23:02:39 PDT 2009\",\"NO_QUERY\",\"zyree\",\"@lovebscott umm nope..think im an insomniac ..plus i got the flu...i\\'lll be sleepin like a phuckin fish outta water any minute now! \"',\n",
       " '\"0\",\"1467968722\",\"Mon Apr 06 23:02:41 PDT 2009\",\"NO_QUERY\",\"seaglopur\",\"has Finland sleeping for the night, not really enough time \"',\n",
       " '\"0\",\"1467968741\",\"Mon Apr 06 23:02:41 PDT 2009\",\"NO_QUERY\",\"davejohnson\",\"@lunafiko can\\'t wait to try em but prolly have to wait until next weekend at the earliest \"',\n",
       " '\"0\",\"1467968785\",\"Mon Apr 06 23:02:42 PDT 2009\",\"NO_QUERY\",\"JenniferRowden\",\"Shiner is taking up all my bed and blankets! \"',\n",
       " '\"0\",\"1467968979\",\"Mon Apr 06 23:02:45 PDT 2009\",\"NO_QUERY\",\"atothebed\",\"@clarianne APRIL 9TH ISN\\'T COMING SOON ENOUGH \"',\n",
       " '\"0\",\"1467969001\",\"Mon Apr 06 23:02:45 PDT 2009\",\"NO_QUERY\",\"Trissies\",\"wants to cry \"',\n",
       " '\"0\",\"1467969172\",\"Mon Apr 06 23:02:48 PDT 2009\",\"NO_QUERY\",\"fishliver\",\"I need to go to the bank tomorrow before I go broke... \"',\n",
       " '\"0\",\"1467969478\",\"Mon Apr 06 23:02:53 PDT 2009\",\"NO_QUERY\",\"michellepolus\",\"This earthquake in italy has me sadden.  it\\'s only three hours away from naples, where my family is \"',\n",
       " '\"0\",\"1467969551\",\"Mon Apr 06 23:02:54 PDT 2009\",\"NO_QUERY\",\"Liinaadee\",\"i should be sleeping, i have a stressed out week coming to me. \"',\n",
       " '\"0\",\"1467969625\",\"Mon Apr 06 23:02:55 PDT 2009\",\"NO_QUERY\",\"Pathia\",\"@dragoneer Yea   I am working tp hack my server to do the 12player thing for folks\"',\n",
       " '\"0\",\"1467969654\",\"Mon Apr 06 23:02:56 PDT 2009\",\"NO_QUERY\",\"SER99\",\"has hurt her ankle!! and is going to the dr \"',\n",
       " '\"0\",\"1467970550\",\"Mon Apr 06 23:03:10 PDT 2009\",\"NO_QUERY\",\"druck21\",\"@raymondroman oh noes. how did you manage to send something to the trash can AND empty it without noticing! i feel for ya \"',\n",
       " '\"0\",\"1467970648\",\"Mon Apr 06 23:03:12 PDT 2009\",\"NO_QUERY\",\"Fletcher_Girl\",\"Lost my free copy of radioactive so can\\'t put it on my ipod grr!And i can\\'t go out + buy \\'nother coz it came with that paper \"',\n",
       " '\"0\",\"1467970783\",\"Mon Apr 06 23:03:14 PDT 2009\",\"NO_QUERY\",\"broski12\",\"doing make up shit \"',\n",
       " '\"0\",\"1467970917\",\"Mon Apr 06 23:03:16 PDT 2009\",\"NO_QUERY\",\"lene\",\"Photoshop, I hate it when you crash \"',\n",
       " '\"0\",\"1467971318\",\"Mon Apr 06 23:03:23 PDT 2009\",\"NO_QUERY\",\"wiwiwinDra\",\"vacations makes me feel sick! \"',\n",
       " '\"0\",\"1467971407\",\"Mon Apr 06 23:03:24 PDT 2009\",\"NO_QUERY\",\"richarizard\",\"you shouldn\\'t have gone \"',\n",
       " '\"0\",\"1467971977\",\"Mon Apr 06 23:03:34 PDT 2009\",\"NO_QUERY\",\"LFTA\",\"listening to Murd and 9th wonder- just chillen out missing my crazy sex life  \"',\n",
       " '\"0\",\"1467972017\",\"Mon Apr 06 23:03:35 PDT 2009\",\"NO_QUERY\",\"_CheshireKat\",\"@louie094: shooting!?!! be careful, luisa \"',\n",
       " '\"0\",\"1467972262\",\"Mon Apr 06 23:03:39 PDT 2009\",\"NO_QUERY\",\"Smith_Cameron\",\"@hillary006 I\\'m sure everyone has ruined my gift to you  Whitney has my serious Cell #...We doing easter as well?\"',\n",
       " '\"0\",\"1467972493\",\"Mon Apr 06 23:03:43 PDT 2009\",\"NO_QUERY\",\"HeidiCortez\",\"is at Beso in Hollywood... so tired \"',\n",
       " '\"0\",\"1467972750\",\"Mon Apr 06 23:03:48 PDT 2009\",\"NO_QUERY\",\"rosalie_belle\",\"I don\\'t want to wake up early tomorrow.  Damn you, work!\"',\n",
       " '\"0\",\"1467972931\",\"Mon Apr 06 23:03:50 PDT 2009\",\"NO_QUERY\",\"cmsebest\",\"just finished watching the movie Prayers for Bobby. Broke my heart \"',\n",
       " '\"0\",\"1467978564\",\"Mon Apr 06 23:05:28 PDT 2009\",\"NO_QUERY\",\"saltypond\",\"@syekr is myki really horrible? \"',\n",
       " '\"0\",\"1467978585\",\"Mon Apr 06 23:05:29 PDT 2009\",\"NO_QUERY\",\"NahStarSeeYa\",\"@stephenkruiser i had 2 put my dog down today too  someone ran her over\"',\n",
       " '\"0\",\"1467978803\",\"Mon Apr 06 23:05:32 PDT 2009\",\"NO_QUERY\",\"CacheAdvance\",\"@NevadaWolf Sorry to hear about your DNF run tonight. Always a risk to get bad coords on an FTF!! \"',\n",
       " '\"0\",\"1467978846\",\"Mon Apr 06 23:05:33 PDT 2009\",\"NO_QUERY\",\"smeykunz\",\"@Honey3223 I did get some disgruntled people when I wrote my ESN, but the 1000 hits in one day made up for it. Bill pulls in 250 tops \"',\n",
       " '\"0\",\"1467979094\",\"Mon Apr 06 23:05:38 PDT 2009\",\"NO_QUERY\",\"widyatarina\",\"@moony394 OHH! OMG. LMAO. I\\'m crying right now, LOL! KUTNERRRR was the best! \"',\n",
       " '\"0\",\"1467979143\",\"Mon Apr 06 23:05:38 PDT 2009\",\"NO_QUERY\",\"dofumon\",\"came back from running and took a shower...why does my lower stomach still hurt after exercising? \"',\n",
       " '\"0\",\"1467979291\",\"Mon Apr 06 23:05:41 PDT 2009\",\"NO_QUERY\",\"MeghTW\",\"watching Fallon with mom and working on a project...school is hard \"',\n",
       " '\"0\",\"1467979353\",\"Mon Apr 06 23:05:41 PDT 2009\",\"NO_QUERY\",\"whatevershesaid\",\"56 min till home time and counting! I have a craving to visit the MAC store but they will have closed by the time I get there \"',\n",
       " '\"0\",\"1467979479\",\"Mon Apr 06 23:05:44 PDT 2009\",\"NO_QUERY\",\"ROSJewelry\",\"@stephenkruiser I am so sorry to hear that!  Take care!\"',\n",
       " '\"0\",\"1467979491\",\"Mon Apr 06 23:05:45 PDT 2009\",\"NO_QUERY\",\"TeresaUlring\",\"@PaulColes  hmmm...greed is good when it motivates the individual to do better-not so much when it takes away from others \"',\n",
       " '\"0\",\"1467979676\",\"Mon Apr 06 23:05:48 PDT 2009\",\"NO_QUERY\",\"danicag\",\"@GABBYiSACTiVE brat! You have to rub it in, don\\'t you.... I want a mocha \"',\n",
       " '\"0\",\"1467979782\",\"Mon Apr 06 23:05:52 PDT 2009\",\"NO_QUERY\",\"widyatarina\",\"KUTNERRRR!  WHY??? WHY??????  And to think that 13 is still on the show?? UGH. Kutner/Kal Penn - you\\'ve been the bright star in Ho ...\"',\n",
       " '\"0\",\"1467979881\",\"Mon Apr 06 23:05:51 PDT 2009\",\"NO_QUERY\",\"joshray\",\"@redvinylgirl my mom has it. I wish you the best of luck \"',\n",
       " '\"0\",\"1467980053\",\"Mon Apr 06 23:05:54 PDT 2009\",\"NO_QUERY\",\"xGabii\",\"I so hate homeworks -.- My head hurts so bad \"',\n",
       " '\"0\",\"1467980251\",\"Mon Apr 06 23:05:58 PDT 2009\",\"NO_QUERY\",\"_LadyT_\",\"got the ebay blues! item i want jumped from no bidders to over $100 in an hour.. still has 3 hours to go. i\\'d better not get my hopes up \"',\n",
       " '\"0\",\"1467980262\",\"Mon Apr 06 23:05:58 PDT 2009\",\"NO_QUERY\",\"ACTinglikeamama\",\"@gigdiary I know -  was a little depressed that we ate so much last night there were no leftovers today \"',\n",
       " '\"0\",\"1467980679\",\"Mon Apr 06 23:06:05 PDT 2009\",\"NO_QUERY\",\"Nasef\",\"well the pc in my living room suffered a fatal partion lost, all my itunes library is gone.. and some docs with pics.... \"',\n",
       " '\"0\",\"1467980858\",\"Mon Apr 06 23:06:08 PDT 2009\",\"NO_QUERY\",\"Casey_Szulc\",\"sad day: manu out for the season \"',\n",
       " '\"0\",\"1467981007\",\"Mon Apr 06 23:06:11 PDT 2009\",\"NO_QUERY\",\"fleurybanery\",\"@stephenkruiser You poor spunky...its so sad...my Rotti made it to 10 and I had to go down the same path....I know how you feel \"',\n",
       " '\"0\",\"1467981027\",\"Mon Apr 06 23:06:12 PDT 2009\",\"NO_QUERY\",\"maTERIALfemme\",\"im sooo sad right now  i need a hug\"',\n",
       " '\"0\",\"1467981326\",\"Mon Apr 06 23:06:17 PDT 2009\",\"NO_QUERY\",\"KatieJonas3000\",\"wants her step brother home  im so worried, you dont even know. i hope he knows how much i care for him...\"',\n",
       " '\"0\",\"1467981408\",\"Mon Apr 06 23:06:18 PDT 2009\",\"NO_QUERY\",\"deannathach\",\"@heidimontag just got done watching the hills! loved it! excited for the next episode! and im sad this is the last season! \"',\n",
       " '\"0\",\"1467981468\",\"Mon Apr 06 23:06:19 PDT 2009\",\"NO_QUERY\",\"Roses_Are_Red\",\"@ryanmwilson aww that stinks!  *hugs*\"',\n",
       " '\"0\",\"1467981584\",\"Mon Apr 06 23:06:21 PDT 2009\",\"NO_QUERY\",\"triner\",\"I\\'m tired. I feel like crap. And the world feels all crummy. Make me happy, USB disco mouse. \"',\n",
       " '\"0\",\"1467981695\",\"Mon Apr 06 23:06:23 PDT 2009\",\"NO_QUERY\",\"giselle88\",\"i dont want to believe what im reading...buu,so sad \"',\n",
       " '\"0\",\"1467981897\",\"Mon Apr 06 23:06:27 PDT 2009\",\"NO_QUERY\",\"YoungStew123\",\"Wondering why gamebattles is down \"',\n",
       " '\"0\",\"1467982038\",\"Mon Apr 06 23:06:29 PDT 2009\",\"NO_QUERY\",\"The_Book_Thief\",\"White trash vs us... We were outnumbered.  http://twitpic.com/2y3jp\"',\n",
       " '\"0\",\"1467982039\",\"Mon Apr 06 23:06:29 PDT 2009\",\"NO_QUERY\",\"TeresaUlring\",\"@emitstop So true, I have it and don\\'t use it \"',\n",
       " '\"0\",\"1467982077\",\"Mon Apr 06 23:06:29 PDT 2009\",\"NO_QUERY\",\"mcdoogie\",\"Spring break is here at last, but no one is here to celebrate \"',\n",
       " '\"0\",\"1467982235\",\"Mon Apr 06 23:06:32 PDT 2009\",\"NO_QUERY\",\"Superneej\",\"Morning! Bah Car won\\'t start.. waiting for the ANWB.... \"',\n",
       " '\"0\",\"1467982281\",\"Mon Apr 06 23:06:33 PDT 2009\",\"NO_QUERY\",\"A_Gael\",\"@katebornstein which is pretty anti memorial tattoos   but for all but the strictest, there\\'s no official BAN, just disapproving family\"',\n",
       " '\"0\",\"1467982442\",\"Mon Apr 06 23:06:36 PDT 2009\",\"NO_QUERY\",\"Flipdesign\",\"Balamurugan, a longterm member of the team is leaving this month. We\\'ll miss working with him  hope he does well in his next venture\"',\n",
       " '\"0\",\"1467982606\",\"Mon Apr 06 23:06:38 PDT 2009\",\"NO_QUERY\",\"shesaywat\",\"@JustGelo Its sad knowing how they found her body. What a crazy world we live in. No child deserves that ya know. \"',\n",
       " '\"0\",\"1467982607\",\"Mon Apr 06 23:06:39 PDT 2009\",\"NO_QUERY\",\"ValerieFlynt\",\"I wanna rock a Maxi dress @ Coachella, but lacking funding \"',\n",
       " '\"0\",\"1467982718\",\"Mon Apr 06 23:06:40 PDT 2009\",\"NO_QUERY\",\"alexleebehan\",\"Of course the baby is screaming in the crib the night before my first day back at work.  So I let him cry it out? Boooo\"',\n",
       " '\"0\",\"1467982795\",\"Mon Apr 06 23:06:42 PDT 2009\",\"NO_QUERY\",\"TiffinyB\",\"I am home missing my baby  Busy week ahead Fri is a chill day with my guy and kids, Egg hunt Sat, Spiral and DMB Sat night and Easter!\"',\n",
       " '\"0\",\"1467983247\",\"Mon Apr 06 23:06:50 PDT 2009\",\"NO_QUERY\",\"MichaelPe\",\"@FollowSavvy I never found her. everytime I click on her twitter thing through your myspace..... it goes to some dude\\'s page \"',\n",
       " '\"0\",\"1467983249\",\"Mon Apr 06 23:06:50 PDT 2009\",\"NO_QUERY\",\"jennygacy\",\"@stephenkruiser that\\'s horrible  sorryto hear that.\"',\n",
       " '\"0\",\"1467983568\",\"Mon Apr 06 23:06:55 PDT 2009\",\"NO_QUERY\",\"P_licious\",\"@David_Henrie i cant find it! it says dtmafiaofficial doesnt exist!there\\'s jus 1 dtmafia i found n u dun seem to b followin it  wht to do?\"',\n",
       " '\"0\",\"1467983745\",\"Mon Apr 06 23:06:59 PDT 2009\",\"NO_QUERY\",\"itsviolet\",\"i thought you would support me on this \"',\n",
       " '\"0\",\"1467983950\",\"Mon Apr 06 23:07:02 PDT 2009\",\"NO_QUERY\",\"Nessie\",\"augh, eff sarth  i stole some of MIL\\'s nail polish, its pretty! =o\"',\n",
       " '\"0\",\"1467984364\",\"Mon Apr 06 23:07:09 PDT 2009\",\"NO_QUERY\",\"suzi98babe\",\"Wishes I was on the Spring Fling Tour with Dawn &amp; neecee Sigh  G\\'knight\"',\n",
       " '\"0\",\"1467984605\",\"Mon Apr 06 23:07:13 PDT 2009\",\"NO_QUERY\",\"idiom\",\"The Hoyts Distribution NZ website isn\\'t working for me. Great. And it HAS to be like this when I need it most \"',\n",
       " '\"0\",\"1467984655\",\"Mon Apr 06 23:07:14 PDT 2009\",\"NO_QUERY\",\"dreaaa\",\"@crummyasshole i don\\'t like that they only had him in the first movie  cillian murphy is hot \"',\n",
       " '\"0\",\"1467985031\",\"Mon Apr 06 23:07:21 PDT 2009\",\"NO_QUERY\",\"Lydisquidie\",\"wishes for good old cartoons to come back. ie: Captain Planet! Where\\'s Wally! Daria! (sadness  )\"',\n",
       " '\"0\",\"1467985114\",\"Mon Apr 06 23:07:22 PDT 2009\",\"NO_QUERY\",\"gladyschock\",\"not feeling v good abt myself \"',\n",
       " '\"0\",\"1467985153\",\"Mon Apr 06 23:07:23 PDT 2009\",\"NO_QUERY\",\"Drama_Queen101\",\"i just got a text from sarah \"',\n",
       " '\"0\",\"1467985155\",\"Mon Apr 06 23:07:26 PDT 2009\",\"NO_QUERY\",\"hoosfoos\",\"Another day at centre point - this time an early start so guessing train will be rammed with commuters \"',\n",
       " '\"0\",\"1467985166\",\"Mon Apr 06 23:07:23 PDT 2009\",\"NO_QUERY\",\"rick93662\",\"Four games this fall: Modern Warfare 2, Halo 3 ODST, Brutal Legend, and Bioshock 2 I need more cash \"',\n",
       " '\"0\",\"1467985185\",\"Mon Apr 06 23:07:24 PDT 2009\",\"NO_QUERY\",\"niffyat\",\"@d_castillo ugh, that\\'s disconcerting \"',\n",
       " '\"0\",\"1467985226\",\"Mon Apr 06 23:07:25 PDT 2009\",\"NO_QUERY\",\"Southpaw217\",\"@Devinthedude007 actually the whole site has finally been taken over by those damn russians \"',\n",
       " '\"0\",\"1467985259\",\"Mon Apr 06 23:07:25 PDT 2009\",\"NO_QUERY\",\"ikimb0\",\"MY TWEETS ARENT GOING THROUGH \"',\n",
       " '\"0\",\"1467985560\",\"Mon Apr 06 23:07:30 PDT 2009\",\"NO_QUERY\",\"arielk\",\"Just finished a delicious breakfast, my last in Paris  I\\'ll miss milk, europe has the tastiest milk in the world, I don\\'t drink it in US.\"',\n",
       " '\"0\",\"1467986058\",\"Mon Apr 06 23:07:39 PDT 2009\",\"NO_QUERY\",\"robkellas\",\"iLearn is down and out, great considering finals are this week... \"',\n",
       " '\"0\",\"1467986061\",\"Mon Apr 06 23:07:39 PDT 2009\",\"NO_QUERY\",\"harmonicait\",\"@Carmonium i\\'m stressed outttt \"',\n",
       " '\"0\",\"1467986157\",\"Mon Apr 06 23:07:40 PDT 2009\",\"NO_QUERY\",\"UNCMN\",\"Also I shouldve Bern asleep an hour ago \"',\n",
       " '\"0\",\"1467986284\",\"Mon Apr 06 23:07:43 PDT 2009\",\"NO_QUERY\",\"Christiansegall\",\"trying to figure out this twitter thing...none of my friends are on  yet. Soo much to see.\"',\n",
       " '\"0\",\"1467986323\",\"Mon Apr 06 23:07:43 PDT 2009\",\"NO_QUERY\",\"beeryce\",\"Re-pinging @Kyle44: Custom icons I made! =] look cool but the edges could be less square  might look bad on a diff background\"',\n",
       " '\"0\",\"1467986374\",\"Mon Apr 06 23:07:46 PDT 2009\",\"NO_QUERY\",\"yo_its_shannon\",\"I want to be back in LA \"',\n",
       " '\"0\",\"1467986559\",\"Mon Apr 06 23:07:47 PDT 2009\",\"NO_QUERY\",\"The_B_Ho_Show\",\"@enterbelladonna i dunno how to use the forum and i get frustrated with it. i\\'ll miss talking to you on here. \"',\n",
       " '\"0\",\"1467986889\",\"Mon Apr 06 23:07:54 PDT 2009\",\"NO_QUERY\",\"BrianG2k\",\"@lilbucknuts41 not an option \"',\n",
       " '\"0\",\"1467986976\",\"Mon Apr 06 23:07:55 PDT 2009\",\"NO_QUERY\",\"zerhynn\",\"@georgeruiz Unfortunately one of those moments wasn\\'t a giant squid monster. \"',\n",
       " '\"0\",\"1467987098\",\"Mon Apr 06 23:07:57 PDT 2009\",\"NO_QUERY\",\"mynameissasha\",\"@thestar_rage I want one too    is the branch in MidV open too?\"',\n",
       " '\"0\",\"1467987619\",\"Mon Apr 06 23:08:06 PDT 2009\",\"NO_QUERY\",\"wildbill\",\"@daNanner aw, sorry to hear that. \"',\n",
       " '\"0\",\"1467987712\",\"Mon Apr 06 23:08:07 PDT 2009\",\"NO_QUERY\",\"aishaisha\",\"Change of plans, we ordered Macs instead. Time to hit the books! \"',\n",
       " '\"0\",\"1467987736\",\"Mon Apr 06 23:08:11 PDT 2009\",\"NO_QUERY\",\"roboppy\",\"@polhillian YUP. \"',\n",
       " '\"0\",\"1467987971\",\"Mon Apr 06 23:08:12 PDT 2009\",\"NO_QUERY\",\"txcranberry\",\"@NKDreamer did you see Donnie\\'s tweet stats? almost 700 @ replies...and no JRK \"',\n",
       " '\"0\",\"1467988366\",\"Mon Apr 06 23:08:18 PDT 2009\",\"NO_QUERY\",\"alanzeyes\",\"@tim_grainger nah, I haven\\'t received my stimulus yet \"',\n",
       " '\"0\",\"1467988612\",\"Mon Apr 06 23:08:23 PDT 2009\",\"NO_QUERY\",\"jackdanielzz\",\"@ikimb0 i just seen ur tweet . plz write bak if u get this. i havnt got one reply bak \"',\n",
       " '\"0\",\"1467988885\",\"Mon Apr 06 23:08:27 PDT 2009\",\"NO_QUERY\",\"Linda8286\",\"@McCainBlogette Awwwww and you were trying to go to sleep 3 hours ago \"',\n",
       " '\"0\",\"1467989188\",\"Mon Apr 06 23:08:33 PDT 2009\",\"NO_QUERY\",\"littlefoxy\",\"@stephenkruiser I\\'m so sorry to hear that.  It\\'s always sad when we lose those close to us, as we loved them.\"',\n",
       " '\"0\",\"1467989855\",\"Mon Apr 06 23:08:45 PDT 2009\",\"NO_QUERY\",\"ep0pe86\",\"cant sleep but im still feelin like a piece of shit \"',\n",
       " '\"0\",\"1467990115\",\"Mon Apr 06 23:08:50 PDT 2009\",\"NO_QUERY\",\"whiskey_kitten\",\"@stephenkruiser oh  my sympathies. it\\'s a hard decision. i always hope my old border collie will go in her sleep. she\\'s 14 too. *hug*\"',\n",
       " '\"0\",\"1467990374\",\"Mon Apr 06 23:08:55 PDT 2009\",\"NO_QUERY\",\"SammyBooker\",\"@josephheustess ...well there was this really cool part where... i wont spoil it \"',\n",
       " '\"0\",\"1467990530\",\"Mon Apr 06 23:08:57 PDT 2009\",\"NO_QUERY\",\"patrogersisgod\",\"@limbecky I\\'m doing the time warp without you and am sad. \"',\n",
       " '\"0\",\"1467990628\",\"Mon Apr 06 23:08:59 PDT 2009\",\"NO_QUERY\",\"joehnlein\",\"@theresawhite this is true, lol but it\\'s still a slap in the face after such a warm end of march \"',\n",
       " '\"0\",\"1467992207\",\"Mon Apr 06 23:09:26 PDT 2009\",\"NO_QUERY\",\"Huddy1124\",\"I hate converting movies just to put em on my itouch \"',\n",
       " '\"0\",\"1467992251\",\"Mon Apr 06 23:09:27 PDT 2009\",\"NO_QUERY\",\"peaceandlove7\",\"gross i have a pimple \"',\n",
       " '\"0\",\"1467992351\",\"Mon Apr 06 23:09:29 PDT 2009\",\"NO_QUERY\",\"angelistic\",\"@Torturedlady yea  ma\\'naaaaaaaaaaaaaaaaaaaam (marwan accent) lol\"',\n",
       " '\"0\",\"1467992521\",\"Mon Apr 06 23:09:32 PDT 2009\",\"NO_QUERY\",\"miketownsend\",\"one less follower tonight \"',\n",
       " '\"0\",\"1467992592\",\"Mon Apr 06 23:09:33 PDT 2009\",\"NO_QUERY\",\"koenn\",\"@Unholyknight so did your mom last night.  brb while I figure out whether I just burned you or myself the most.\"',\n",
       " '\"0\",\"1467992696\",\"Mon Apr 06 23:09:35 PDT 2009\",\"NO_QUERY\",\"pop_corn_\",\"I feel like I am the only &quot;twitterer&quot; not on TweetDeck. \"',\n",
       " '\"0\",\"1467992866\",\"Mon Apr 06 23:09:38 PDT 2009\",\"NO_QUERY\",\"TheBoss63\",\"@Wyldceltic1 He has Karate tournament in 8 weeks  \"',\n",
       " '\"0\",\"1467992993\",\"Mon Apr 06 23:09:40 PDT 2009\",\"NO_QUERY\",\"mf1077\",\"going to sleep can\\'t be up until 1am again...and no I didn\\'t finish my statistics homework! \"',\n",
       " '\"0\",\"1467993509\",\"Mon Apr 06 23:09:49 PDT 2009\",\"NO_QUERY\",\"tgoldmann8\",\"North carolina baby!! Aint nothin stopping them but the nba draft \"',\n",
       " '\"0\",\"1467993608\",\"Mon Apr 06 23:09:51 PDT 2009\",\"NO_QUERY\",\"mscproductions\",\"Can\\'t sleep again \"',\n",
       " '\"0\",\"1467993829\",\"Mon Apr 06 23:09:55 PDT 2009\",\"NO_QUERY\",\"jmbirney\",\"I reaaly miss john mayer\\'s twitters.  fuck rude people. Remove him if you don\\'t like his tweets, bitchfucks.\"',\n",
       " '\"0\",\"1467993866\",\"Mon Apr 06 23:09:56 PDT 2009\",\"NO_QUERY\",\"amanu\",\"is going to have a late one at MQU today \"',\n",
       " '\"0\",\"1467994306\",\"Mon Apr 06 23:10:03 PDT 2009\",\"NO_QUERY\",\"katiehufford\",\"im so tired of work...i need a life.... \"',\n",
       " '\"0\",\"1467994316\",\"Mon Apr 06 23:10:04 PDT 2009\",\"NO_QUERY\",\"kelseyblondie\",\"just leavin work, my feet hurt \"',\n",
       " '\"0\",\"1467994419\",\"Mon Apr 06 23:10:05 PDT 2009\",\"NO_QUERY\",\"caityisawinner\",\"@PlayRadioPlay that was so sad and unexpected.  i totally cried haha.\"',\n",
       " '\"0\",\"1467994519\",\"Mon Apr 06 23:10:06 PDT 2009\",\"NO_QUERY\",\"cartrouble\",\"Superneej: Morning! Bah Car won\\'t start.. waiting for the ANWB.... \"',\n",
       " '\"0\",\"1467995216\",\"Mon Apr 06 23:10:17 PDT 2009\",\"NO_QUERY\",\"Reynaga12345\",\"Still doing my homework!!! \"',\n",
       " '\"0\",\"1467995217\",\"Mon Apr 06 23:10:17 PDT 2009\",\"NO_QUERY\",\"ChrisVanPatten\",\"A little sad \"',\n",
       " '\"0\",\"1467995433\",\"Mon Apr 06 23:10:21 PDT 2009\",\"NO_QUERY\",\"PamsLove\",\"@deepbluesealove My Mom &amp; Dad both get up around 6...too early for me \"',\n",
       " '\"0\",\"1467995609\",\"Mon Apr 06 23:10:24 PDT 2009\",\"NO_QUERY\",\"stefanie_husen\",\"should\\'ve been asleep two hours ago \"',\n",
       " '\"0\",\"1467995759\",\"Mon Apr 06 23:10:27 PDT 2009\",\"NO_QUERY\",\"lawschoolninja\",\"@stephenkruiser So sorry to hear about your dog. \"',\n",
       " '\"0\",\"1467996032\",\"Mon Apr 06 23:10:32 PDT 2009\",\"NO_QUERY\",\"BkBap\",\"Funny how the little things make me homesick, criminals breakn n2 a brownstone on LawNOrd CI made me misty \"',\n",
       " '\"0\",\"1467996096\",\"Mon Apr 06 23:10:33 PDT 2009\",\"NO_QUERY\",\"Beatmixology\",\"@djsoulsister yeah, great vid. I had the 12&quot; single, but sold it a few years ago \"',\n",
       " '\"0\",\"1467996633\",\"Mon Apr 06 23:10:41 PDT 2009\",\"NO_QUERY\",\"mdzulkar9\",\"im on val\\'s mac in iitsc clubroom. still sweating \"',\n",
       " '\"0\",\"1467996852\",\"Mon Apr 06 23:10:47 PDT 2009\",\"NO_QUERY\",\"greatcorbinski\",\"@stephenkruiser awww so sad!!!  I\\'m so sorry!!\"',\n",
       " '\"0\",\"1467997236\",\"Mon Apr 06 23:10:55 PDT 2009\",\"NO_QUERY\",\"alyssaisrad916\",\"UpdatingFFE.  That gives me nothing to do for a good twenty minutes!\"',\n",
       " '\"0\",\"1467997817\",\"Mon Apr 06 23:11:03 PDT 2009\",\"NO_QUERY\",\"bellalucia\",\"Hot compress not rily workng for pulled muscle  gng to bed, good night\"',\n",
       " '\"0\",\"1467998037\",\"Mon Apr 06 23:11:06 PDT 2009\",\"NO_QUERY\",\"amitgupta\",\"Have an invite for &quot;Healthy Dining&quot; session at Ashok Hotel today with Exec Chef R.Chopra but damn workload - will have to skip it! \"',\n",
       " '\"0\",\"1467998248\",\"Mon Apr 06 23:11:09 PDT 2009\",\"NO_QUERY\",\"TheThreePeas\",\"@stephenkruiser I\\'m so sorry to hear about your dog   wishing you happier days to come!\"',\n",
       " '\"0\",\"1467998362\",\"Mon Apr 06 23:11:11 PDT 2009\",\"NO_QUERY\",\"KWelkeBrom\",\"@hellivina I miss \\'em too. \"',\n",
       " '\"0\",\"1467998485\",\"Mon Apr 06 23:11:14 PDT 2009\",\"NO_QUERY\",\"sexygrneyes\",\"@misstoriblack cool , i have no tweet apps  for my razr 2\"',\n",
       " '\"0\",\"1467998601\",\"Mon Apr 06 23:11:18 PDT 2009\",\"NO_QUERY\",\"Young_J\",\"I\\'m off too bed. I gotta wake up hella early tomorrow morning. \"',\n",
       " '\"0\",\"1467998657\",\"Mon Apr 06 23:11:16 PDT 2009\",\"NO_QUERY\",\"Kena_Howard\",\"still procrastinating... i hate organizing my clothes  there\\'s just so much....\"',\n",
       " '\"0\",\"1467998795\",\"Mon Apr 06 23:11:18 PDT 2009\",\"NO_QUERY\",\"gerrymoth\",\"Just been playing with the new Mobbler v0.4.0 and it adds some great new features, but won\\'t play music on my E71, like v0.3.5 did \"',\n",
       " '\"0\",\"1467998928\",\"Mon Apr 06 23:11:20 PDT 2009\",\"NO_QUERY\",\"still_b_here\",\"@latroneb oh but there\\'s one bestie missing \"',\n",
       " '\"0\",\"1467998954\",\"Mon Apr 06 23:11:21 PDT 2009\",\"NO_QUERY\",\"joyindiscovery\",\"@esuriospiritus time to come back to flawda for double dates! no, seriously, i\\'m sorry to hear that. \"',\n",
       " '\"0\",\"1467998983\",\"Mon Apr 06 23:11:21 PDT 2009\",\"NO_QUERY\",\"grantzobell\",\"I\\'m up way to late to be working for a client 12:10 AM  #fb\"',\n",
       " '\"0\",\"1467999423\",\"Mon Apr 06 23:11:28 PDT 2009\",\"NO_QUERY\",\"elenarr\",\"blegghhhh i have to go to work \"',\n",
       " '\"0\",\"1467999499\",\"Mon Apr 06 23:11:30 PDT 2009\",\"NO_QUERY\",\"jj_1983\",\"Back at work  @ John Muir Dr http://loopt.us/KoqAbg\"',\n",
       " '\"0\",\"1467999819\",\"Mon Apr 06 23:11:35 PDT 2009\",\"NO_QUERY\",\"jacob_hilton\",\"@DAChesterFrench I emailed you yesterday and u never responded \"',\n",
       " '\"0\",\"1467999887\",\"Mon Apr 06 23:11:36 PDT 2009\",\"NO_QUERY\",\"tmgeary\",\"It\\'s going to be a long year for A\\'s fans. \"',\n",
       " '\"0\",\"1468000014\",\"Mon Apr 06 23:11:39 PDT 2009\",\"NO_QUERY\",\"purrtygurl717\",\"Just got done watching the new House episode.Definitely one of the saddest episodes ever. \"',\n",
       " '\"0\",\"1468000208\",\"Mon Apr 06 23:11:44 PDT 2009\",\"NO_QUERY\",\"stevejabs\",\"Man... taxes suck.  I\\'m horrified that i did something wrong on them.  TurboTax decided to keep around a lot of the stuff I turned off.  \"',\n",
       " '\"0\",\"1468000700\",\"Mon Apr 06 23:11:50 PDT 2009\",\"NO_QUERY\",\"sirultimos\",\"Sleep time.  Tomorrow is gonna suck \"',\n",
       " '\"0\",\"1468000743\",\"Mon Apr 06 23:11:51 PDT 2009\",\"NO_QUERY\",\"Rayveniael\",\"WTF Not Kutner!  Oh I\\'m so pissed @ House.  I mean really WTF   \"',\n",
       " '\"0\",\"1468000812\",\"Mon Apr 06 23:11:52 PDT 2009\",\"NO_QUERY\",\"Fang04\",\"@AmberPacific i know i dont know why i said that \"',\n",
       " '\"0\",\"1468000880\",\"Mon Apr 06 23:11:53 PDT 2009\",\"NO_QUERY\",\"candicebunny\",\"CASH RULES EVERYTHING AROUND ME \"',\n",
       " '\"0\",\"1468000929\",\"Mon Apr 06 23:11:55 PDT 2009\",\"NO_QUERY\",\"RobKardashian\",\"Just picked up some oats from the market to eat for breakfast with my boy @adamgoldston now time to do work at USC... late night \"',\n",
       " '\"0\",\"1468000948\",\"Mon Apr 06 23:11:55 PDT 2009\",\"NO_QUERY\",\"Hanster7705\",\"i feel sick  too much icecream\"',\n",
       " '\"0\",\"1468000996\",\"Mon Apr 06 23:11:56 PDT 2009\",\"NO_QUERY\",\"sambg7777\",\"@faithgg45  this computer doesn\\'t have shockwave...blah  no account yet\"',\n",
       " '\"0\",\"1468001373\",\"Mon Apr 06 23:12:02 PDT 2009\",\"NO_QUERY\",\"seriouslyben\",\"@RubyRose1 awww wish i could go! but its in sydney \"',\n",
       " '\"0\",\"1468001543\",\"Mon Apr 06 23:12:05 PDT 2009\",\"NO_QUERY\",\"vanhall\",\"@luxuryprgal hahaha suriously! I feel like everyone knows this show is a joke except lc! \"',\n",
       " '\"0\",\"1468001960\",\"Mon Apr 06 23:12:12 PDT 2009\",\"NO_QUERY\",\"SoledadP\",\"I just can\\'t spell today, i totally suck \"',\n",
       " '\"0\",\"1468001978\",\"Mon Apr 06 23:12:12 PDT 2009\",\"NO_QUERY\",\"dianaroua\",\"are you vaccinated against chicken-pox?should I vaccinate my 3 yr old?I am SO confused about this damn thing \"',\n",
       " '\"0\",\"1468002902\",\"Mon Apr 06 23:12:29 PDT 2009\",\"NO_QUERY\",\"niko_the_best\",\"@ school  at least last day!!!!!!\"',\n",
       " '\"0\",\"1468002948\",\"Mon Apr 06 23:12:30 PDT 2009\",\"NO_QUERY\",\"NakitaRose\",\"Yawwwn! Gotta get up early tomorrow  who\\'s ready for the weekend???\"',\n",
       " '\"0\",\"1468003025\",\"Mon Apr 06 23:12:31 PDT 2009\",\"NO_QUERY\",\"pinkflamingo9\",\"i miss being at home for calving season...sad that black one died this morning  wish i had some bottle calves!\"',\n",
       " '\"0\",\"1468003264\",\"Mon Apr 06 23:12:35 PDT 2009\",\"NO_QUERY\",\"perrythebirman\",\"@stephenkruiser i so sorry for your loss. my brother dog sam is sick w/cushings disease. \"',\n",
       " '\"0\",\"1468003324\",\"Mon Apr 06 23:12:36 PDT 2009\",\"NO_QUERY\",\"jj_1983\",\"Back to work. I get to spend the next 8 hours alone in the dispatch room \"',\n",
       " '\"0\",\"1468003327\",\"Mon Apr 06 23:12:36 PDT 2009\",\"NO_QUERY\",\"SarahNicole26\",\"there\\'s a new kind of starburst: favereds. sounds fab, bc cherry and strawberry are MY fav red\\'s but they added watermellon and its yucky \"',\n",
       " '\"0\",\"1468003631\",\"Mon Apr 06 23:12:41 PDT 2009\",\"NO_QUERY\",\"Theatergirl62\",\"Well, so much for being productive on my 2 days off from Angels \"',\n",
       " '\"0\",\"1468004048\",\"Mon Apr 06 23:12:49 PDT 2009\",\"NO_QUERY\",\"squishymatter\",\"@andreabakes Oh gee - insomnia sucks   Have you tried melatonin?\"',\n",
       " '\"0\",\"1468004641\",\"Mon Apr 06 23:12:59 PDT 2009\",\"NO_QUERY\",\"kow_shik\",\"@vivekg86 Good to hear that we have support in NetBeans. But then its NetBeans you know \"',\n",
       " '\"0\",\"1468004743\",\"Mon Apr 06 23:13:00 PDT 2009\",\"NO_QUERY\",\"UmmUthman\",\"@heidimontag I wish we would get it the same time at the rest of world. unfornately I am in Cairo and have to wait for mtva to play it \"',\n",
       " '\"0\",\"1468004846\",\"Mon Apr 06 23:13:02 PDT 2009\",\"NO_QUERY\",\"elohveee\",\"heartbroken over little sandra. prayers are with the family. \"',\n",
       " '\"0\",\"1468005022\",\"Mon Apr 06 23:13:05 PDT 2009\",\"NO_QUERY\",\"stranger_danger\",\"@hadtobeyou I\\'m at 900 words, it\\'s all can do  I\\'ll finish tomorrow maybe\"',\n",
       " '\"0\",\"1468005297\",\"Mon Apr 06 23:13:10 PDT 2009\",\"NO_QUERY\",\"fuzzywuzzy1\",\"@shortiethug how come ur background covers the screen but mine is in the corner? \"',\n",
       " '\"0\",\"1468006137\",\"Mon Apr 06 23:13:25 PDT 2009\",\"NO_QUERY\",\"gamwyn\",\"Wrote exactly three lines of dialogue tonight, then gave up. \"',\n",
       " '\"0\",\"1468006169\",\"Mon Apr 06 23:13:25 PDT 2009\",\"NO_QUERY\",\"kryptonsite\",\"@ashman01 My only complaint about Facebook is they\\'ve changed it so much it\\'s confusing \"',\n",
       " '\"0\",\"1468006195\",\"Mon Apr 06 23:13:26 PDT 2009\",\"NO_QUERY\",\"kristie__\",\"Sliced my finger \"',\n",
       " '\"0\",\"1468006296\",\"Mon Apr 06 23:13:27 PDT 2009\",\"NO_QUERY\",\"shroedernz\",\"going thru town and traffic on bypass is stink \"',\n",
       " '\"0\",\"1468006362\",\"Mon Apr 06 23:13:30 PDT 2009\",\"NO_QUERY\",\"woflln\",\"Ugh can\\'t sleep.  Wish i had a good cuddle to  Make me ass out \"',\n",
       " '\"0\",\"1468006505\",\"Mon Apr 06 23:13:31 PDT 2009\",\"NO_QUERY\",\"Skooj\",\"I hate when software update downloads updates without telling me. I never know what\\'s downloading when it is \"',\n",
       " '\"0\",\"1468006591\",\"Mon Apr 06 23:13:35 PDT 2009\",\"NO_QUERY\",\"rchlrchfrt\",\"went to ihop again. Great for a diet   At least there were no kung foo pancakes this time. -Rachel-\"',\n",
       " '\"0\",\"1468006681\",\"Mon Apr 06 23:13:34 PDT 2009\",\"NO_QUERY\",\"TheCuriousCase\",\"The internet is hating me. Night i s\\'pose. \"',\n",
       " '\"0\",\"1468006748\",\"Mon Apr 06 23:13:35 PDT 2009\",\"NO_QUERY\",\"Migg\",\"@contactabe I\\'m so jealous.  I missed all of opening day this year \"',\n",
       " '\"0\",\"1468006784\",\"Mon Apr 06 23:13:36 PDT 2009\",\"NO_QUERY\",\"bonk_onthehead\",\"It\\'s so cruel having to wait for reviews to come in.  So far it looks like Star Trek will be the best film of the year!\"',\n",
       " '\"0\",\"1468006962\",\"Mon Apr 06 23:13:39 PDT 2009\",\"NO_QUERY\",\"sheilaelaine\",\"Debating if I should just shower now, so I can sleep a little later tomorrow \"',\n",
       " '\"0\",\"1468007450\",\"Mon Apr 06 23:13:48 PDT 2009\",\"NO_QUERY\",\"jlkmustang\",\"My stress always culminates with physical pain.  \"',\n",
       " '\"0\",\"1468007676\",\"Mon Apr 06 23:13:53 PDT 2009\",\"NO_QUERY\",\"caitd86\",\"need to sleep. but cant \"',\n",
       " '\"0\",\"1468007877\",\"Mon Apr 06 23:13:57 PDT 2009\",\"NO_QUERY\",\"John2x\",\"my little pinky finger hurts so much.. \"',\n",
       " '\"0\",\"1468010183\",\"Mon Apr 06 23:14:42 PDT 2009\",\"NO_QUERY\",\"marythedork\",\"@sarahsaturday I\\'m sorry your gift card ran out.... That suck. \"',\n",
       " '\"0\",\"1468010236\",\"Mon Apr 06 23:14:41 PDT 2009\",\"NO_QUERY\",\"LeahPaskalides\",\"home for spring break. no one is home tho \"',\n",
       " '\"0\",\"1468010250\",\"Mon Apr 06 23:14:42 PDT 2009\",\"NO_QUERY\",\"bgmahesh\",\"I accessed oneindia.mobi from a Google phone (Android). It doesn\\'t support Indic languages \"',\n",
       " '\"0\",\"1468010346\",\"Mon Apr 06 23:14:43 PDT 2009\",\"NO_QUERY\",\"Kelsey_Leigh\",\"Why does school take over your life so much you don\\'t get sleep anymore  .. I am still doing school work and have more to do as well\"',\n",
       " '\"0\",\"1468010664\",\"Mon Apr 06 23:14:49 PDT 2009\",\"NO_QUERY\",\"katdogs\",\"@MTsiaklides aw I wish I could! I can\\'t really speak to my yia yia because she doesn\\'t speak english \"',\n",
       " '\"0\",\"1468011003\",\"Mon Apr 06 23:14:56 PDT 2009\",\"NO_QUERY\",\"Syppress\",\"@winggato no free comp lol \"',\n",
       " '\"0\",\"1468011315\",\"Mon Apr 06 23:15:02 PDT 2009\",\"NO_QUERY\",\"carebearCC26\",\"getting ready to clean the house from top to bottom \"',\n",
       " '\"0\",\"1468012099\",\"Mon Apr 06 23:15:14 PDT 2009\",\"NO_QUERY\",\"MaddiganROSE\",\"crying  my friend is moving away tomorrow \"',\n",
       " '\"0\",\"1468012103\",\"Mon Apr 06 23:15:14 PDT 2009\",\"NO_QUERY\",\"xXRawrJanisXx\",\"@swiftkaratechop STOP NOMNOMS!!!! ..you didn\\'t share!  Night peoples!!\"',\n",
       " '\"0\",\"1468012152\",\"Mon Apr 06 23:15:14 PDT 2009\",\"NO_QUERY\",\"shuvra\",\"thinks she is getting a cold that she caught from Daddy.  Oh no, my trip would be ruined. \"',\n",
       " '\"0\",\"1468012289\",\"Mon Apr 06 23:15:17 PDT 2009\",\"NO_QUERY\",\"widyatarina\",\"@moony394 yeah  is it bcoz kal penn is a visiting lecturer somewhere n cant be on the show anymore? im gonna miss him \"',\n",
       " '\"0\",\"1468012316\",\"Mon Apr 06 23:15:17 PDT 2009\",\"NO_QUERY\",\"upsideumop\",\"So the procrastination starts early in the quarter. I don\\'t want to reaaaaad and write a paper \"',\n",
       " '\"0\",\"1468012486\",\"Mon Apr 06 23:15:22 PDT 2009\",\"NO_QUERY\",\"karenlikeslunch\",\"What? Apparently it\\'s 52 degress at 11pm in Washington State. I miss winter already \"',\n",
       " '\"0\",\"1468012742\",\"Mon Apr 06 23:15:25 PDT 2009\",\"NO_QUERY\",\"awesome_jordy\",\"being bored at homee \"',\n",
       " '\"0\",\"1468012912\",\"Mon Apr 06 23:15:28 PDT 2009\",\"NO_QUERY\",\"itsjordanbitch\",\"massage was great. i just spilled coke all over my desk  lame. watching the simpsons as i\\'ve finished all my hills dvds.\"',\n",
       " '\"0\",\"1468012988\",\"Mon Apr 06 23:15:29 PDT 2009\",\"NO_QUERY\",\"aleskywalker\",\"@nick_carter I will wait for you at fanclub chat.. even tough you\\'re not my favorite \"',\n",
       " '\"0\",\"1468013020\",\"Mon Apr 06 23:15:30 PDT 2009\",\"NO_QUERY\",\"melvinchia\",\"has a mild left inner ear infection.. and its got this irritating &quot;blocked&quot; feeling since sunday.. \"',\n",
       " '\"0\",\"1468013135\",\"Mon Apr 06 23:15:32 PDT 2009\",\"NO_QUERY\",\"JessicaHamby\",\"@JaneBodehouse Hey there! Nope. My cuteness @HoytFortenberry is away for awhile \"',\n",
       " '\"0\",\"1468013308\",\"Mon Apr 06 23:15:35 PDT 2009\",\"NO_QUERY\",\"sineadfitz\",\"It\\'s only tuesday \"',\n",
       " '\"0\",\"1468013368\",\"Mon Apr 06 23:15:36 PDT 2009\",\"NO_QUERY\",\"JaniceMyNig\",\"Haha not even yo. I just didn\\'t know how to do that @thang to you on twitter  Haha\"',\n",
       " '\"0\",\"1468013773\",\"Mon Apr 06 23:15:43 PDT 2009\",\"NO_QUERY\",\"Zwaapeh\",\"Someones alarm clock or a phone woke me up at 3am...Still got my headache from yesterday night \"',\n",
       " '\"0\",\"1468013866\",\"Mon Apr 06 23:15:45 PDT 2009\",\"NO_QUERY\",\"AndiVoci\",\"@kalichosich awww poor puppy is she ok? \"',\n",
       " '\"0\",\"1468013989\",\"Mon Apr 06 23:15:47 PDT 2009\",\"NO_QUERY\",\"NikNaki08\",\"i might break down and eat some buffalo wings tomorrow \"',\n",
       " '\"0\",\"1468014152\",\"Mon Apr 06 23:15:50 PDT 2009\",\"NO_QUERY\",\"lynea8472\",\"Sittin here w/Kayla, I really really reallly dis-like having a brother.  He doesn\\'t know when to stop. I\\'m waiting for the day when one of\"',\n",
       " '\"0\",\"1468014191\",\"Mon Apr 06 23:15:51 PDT 2009\",\"NO_QUERY\",\"alicebeneicke\",\"Fed bokkie too many birthday treats-sicko \"',\n",
       " '\"0\",\"1468014340\",\"Mon Apr 06 23:15:53 PDT 2009\",\"NO_QUERY\",\"TommieGreen\",\"\\'s Kinda Bummed. An Agency Just Told Me That I Didn\\'t Have The \\'LOOK\\' That They Were Going For. Ladies, Please Help Me Create The \\'LOOK\\' \"',\n",
       " '\"0\",\"1468014571\",\"Mon Apr 06 23:15:57 PDT 2009\",\"NO_QUERY\",\"Monika29\",\"Work laptop is officially dead .. Not happy at all.. \"',\n",
       " '\"0\",\"1468014803\",\"Mon Apr 06 23:16:01 PDT 2009\",\"NO_QUERY\",\"Danaye\",\"My goodness, it\\'s freezing down here !!!!! \"',\n",
       " '\"0\",\"1468015006\",\"Mon Apr 06 23:16:04 PDT 2009\",\"NO_QUERY\",\"TaraEn\",\"@heidimontag why do you put up with him!!!!!  You should listen to your mom \"',\n",
       " '\"0\",\"1468015014\",\"Mon Apr 06 23:16:04 PDT 2009\",\"NO_QUERY\",\"idrisjoel\",\"is stucked in Paris and can\\'t even travel into France (for work) \"',\n",
       " '\"0\",\"1468015635\",\"Mon Apr 06 23:16:16 PDT 2009\",\"NO_QUERY\",\"r_i_p_86\",\"@JoannaFBeckett, i don\\'t think there\\'s one close by. Last time I checked, the closest one was 70 miles away! \"',\n",
       " '\"0\",\"1468017259\",\"Mon Apr 06 23:16:45 PDT 2009\",\"NO_QUERY\",\"mishkia\",\"aaaaand back to my literature review  At least i have a friendly cup of coffee to keep me company.\"',\n",
       " '\"0\",\"1468018354\",\"Mon Apr 06 23:17:05 PDT 2009\",\"NO_QUERY\",\"courtneyjayne88\",\"I am worried that I won\\'t get my $900 even though I paid a buttload of tax last year ! \"',\n",
       " '\"0\",\"1468018399\",\"Mon Apr 06 23:17:06 PDT 2009\",\"NO_QUERY\",\"murielara\",\"Okay, so.. STILL NO SCHOOL!!!! \"',\n",
       " '\"0\",\"1468018434\",\"Mon Apr 06 23:17:07 PDT 2009\",\"NO_QUERY\",\"milah89\",\"IS PHONELESS  ...NOW OFF TOO SLEEP\"',\n",
       " '\"0\",\"1468018610\",\"Mon Apr 06 23:17:10 PDT 2009\",\"NO_QUERY\",\"CelesteChong\",\"Reeked of alcohol at the dentist this morning + was drunk when i put on my tshirt, realised it had a huge stain. Dentist looked disgusted \"',\n",
       " '\"0\",\"1468019147\",\"Mon Apr 06 23:17:20 PDT 2009\",\"NO_QUERY\",\"torriRAWR\",\"it is really cold \"',\n",
       " '\"0\",\"1468019183\",\"Mon Apr 06 23:17:20 PDT 2009\",\"NO_QUERY\",\"LittleOne1210\",\"cant sleep  she wants to dream!!\"',\n",
       " '\"0\",\"1468019369\",\"Mon Apr 06 23:17:23 PDT 2009\",\"NO_QUERY\",\"emily_fox\",\"Can\\'t sleep  I hate these nights when I try to go to bed early and stay awake for hours. Poo!\"',\n",
       " '\"0\",\"1468019453\",\"Mon Apr 06 23:17:25 PDT 2009\",\"NO_QUERY\",\"Pan_duh\",\"@rootbeersoup Yeah. Too bad people like a certain burrito-eating man exist. \"',\n",
       " '\"0\",\"1468019679\",\"Mon Apr 06 23:17:29 PDT 2009\",\"NO_QUERY\",\"gravitybomb\",\"@Cronotriggers  that\\'s sad.\"',\n",
       " '\"0\",\"1468020159\",\"Mon Apr 06 23:17:38 PDT 2009\",\"NO_QUERY\",\"SpazOfDrool\",\"just found out that my mum  and my adopted auntie are on twitter.. check them out my mum is TessM64 and my awesome as auntie is tania38\"',\n",
       " '\"0\",\"1468020340\",\"Mon Apr 06 23:17:42 PDT 2009\",\"NO_QUERY\",\"motof5\",\"Cannot sleep....WIDE AWAKE!!...and I gotta go to work later too. Boy, am I going to have a crappy day. \"',\n",
       " '\"0\",\"1468020550\",\"Mon Apr 06 23:17:46 PDT 2009\",\"NO_QUERY\",\"lahood19\",\"struggling with eam law \"',\n",
       " '\"0\",\"1468020636\",\"Mon Apr 06 23:17:48 PDT 2009\",\"NO_QUERY\",\"mfzbdale\",\"Why can\\'t I sleep like her  http://twitpic.com/2y3ty\"',\n",
       " '\"0\",\"1468020819\",\"Mon Apr 06 23:17:51 PDT 2009\",\"NO_QUERY\",\"policano\",\"Bouts to start 24. Poor linny couldn\\'t keep her eyes open.  she tired and has to work tomorrow morning. Night @ilovefatsusan.\"',\n",
       " '\"0\",\"1468020989\",\"Mon Apr 06 23:17:54 PDT 2009\",\"NO_QUERY\",\"MJPhotographer\",\"My 4 year old (18 year old) is driving me around the twist...i don\\'t want to be like this \"',\n",
       " '\"0\",\"1468021282\",\"Mon Apr 06 23:18:00 PDT 2009\",\"NO_QUERY\",\"sfpoetic\",\"Well, that sucked. \"',\n",
       " '\"0\",\"1468021321\",\"Mon Apr 06 23:18:01 PDT 2009\",\"NO_QUERY\",\"theresaxo\",\"i have to be out of my place in 3 days...any help i can get packing/painting/cleaning is much appreciated. oh. and RIP my wall  \"',\n",
       " '\"0\",\"1468021330\",\"Mon Apr 06 23:18:01 PDT 2009\",\"NO_QUERY\",\"EvilChick\",\"Opening a partially frozen beer= Beer on the toaster, under the oven and all over the counter. The kitchen smells like we run a speakeasy \"',\n",
       " '\"0\",\"1468021397\",\"Mon Apr 06 23:18:02 PDT 2009\",\"NO_QUERY\",\"allynrawr\",\"@stewiebrittany no  i dont even know how to ride it\"',\n",
       " '\"0\",\"1468021408\",\"Mon Apr 06 23:18:02 PDT 2009\",\"NO_QUERY\",\"Hanster7705\",\"@MonaSmith sadly, yes. i think i need counciling now \"',\n",
       " '\"0\",\"1468021699\",\"Mon Apr 06 23:18:07 PDT 2009\",\"NO_QUERY\",\"coletje1\",\"making myself ready for school...don\\'t feel like going, but have two tests \"',\n",
       " '\"0\",\"1468022265\",\"Mon Apr 06 23:18:18 PDT 2009\",\"NO_QUERY\",\"acecortinaboy\",\"Smugness gone. My train also failed to turn up so I\\'m heading for Victoria followed by an unpleasant tube ride to the City. \"',\n",
       " '\"0\",\"1468022377\",\"Mon Apr 06 23:18:20 PDT 2009\",\"NO_QUERY\",\"mandakaye\",\"Anybody know where my iPod went? \"',\n",
       " '\"0\",\"1468022707\",\"Mon Apr 06 23:18:26 PDT 2009\",\"NO_QUERY\",\"massacred_mind\",\"aww this earthquake in Italy has made me sad  just saw the pics on the news, it\\'s terrible.\"',\n",
       " '\"0\",\"1468022727\",\"Mon Apr 06 23:18:27 PDT 2009\",\"NO_QUERY\",\"DJNephilim\",\"@lilibat never been able to afford to get them out. I\\'d much rather go through the extraction than continue with what I deal with now. \"',\n",
       " '\"0\",\"1468023022\",\"Mon Apr 06 23:18:32 PDT 2009\",\"NO_QUERY\",\"SleepyShadow\",\" Why do other pet care people try to run others out of business? Or send suspicious e-mails fishing for info?\"',\n",
       " '\"0\",\"1468023065\",\"Mon Apr 06 23:18:32 PDT 2009\",\"NO_QUERY\",\"alice_wonder\",\"@kameelahwrites &lt;33 codez....they\\'ve been MIA tho \"',\n",
       " '\"0\",\"1468023146\",\"Mon Apr 06 23:18:33 PDT 2009\",\"NO_QUERY\",\"EikLovesYou\",\"@reannaremick doesnt work on my cell  go to sleep! =P\"',\n",
       " '\"0\",\"1468023365\",\"Mon Apr 06 23:18:38 PDT 2009\",\"NO_QUERY\",\"addictedtotext\",\"it\\'s going to be nice again tomorrow and then the rain comes back. no nice weather for my birthday \"',\n",
       " '\"0\",\"1468023488\",\"Mon Apr 06 23:18:42 PDT 2009\",\"NO_QUERY\",\"djbabyyu\",\"@taliasunset rock band is hard..on expert!!! \"',\n",
       " '\"0\",\"1468023501\",\"Mon Apr 06 23:18:40 PDT 2009\",\"NO_QUERY\",\"jennkitty\",\"@beachbassbone: roomie was home all day. All he had to do was scratch at the door. Comforter has to goto large laundromat machines. \"',\n",
       " '\"0\",\"1468023868\",\"Mon Apr 06 23:18:48 PDT 2009\",\"NO_QUERY\",\"ChrisMoody\",\"One of the hardest thing with this schedule, no one I can chat with at the end of my day usually \"',\n",
       " '\"0\",\"1468024089\",\"Mon Apr 06 23:18:52 PDT 2009\",\"NO_QUERY\",\"fats\",\"they killed off a character on one of my favorite shows and now i\\'m upset \"',\n",
       " '\"0\",\"1468024248\",\"Mon Apr 06 23:18:54 PDT 2009\",\"NO_QUERY\",\"Cheri_Howell\",\"jealous of my friends who got to see the new Star Trek film in Austin tonight. \"',\n",
       " '\"0\",\"1468024469\",\"Mon Apr 06 23:18:59 PDT 2009\",\"NO_QUERY\",\"jameseverton\",\"Listening to Q! I got a really bad headache and a drivin lesson in ten mins.... Lucky me  i just wana sleeep!  \"',\n",
       " '\"0\",\"1468024495\",\"Mon Apr 06 23:18:59 PDT 2009\",\"NO_QUERY\",\"Moonflowerchild\",\"@Steve_Buscemi SHUT UP you...I am hungry! And in Britain, home of the most boring suckassy breakfast in the world!  I MISS DENNYS!!\"',\n",
       " '\"0\",\"1468030831\",\"Mon Apr 06 23:20:55 PDT 2009\",\"NO_QUERY\",\"StrAbZ\",\"good morning everybody! pkoi y fais pas beau  bon coffee time!\"',\n",
       " '\"0\",\"1468031172\",\"Mon Apr 06 23:21:02 PDT 2009\",\"NO_QUERY\",\"flashbrother\",\"work again \"',\n",
       " '\"0\",\"1468031217\",\"Mon Apr 06 23:21:03 PDT 2009\",\"NO_QUERY\",\"Jallenwhit\",\"Essay time.... \"',\n",
       " '\"0\",\"1468031438\",\"Mon Apr 06 23:21:07 PDT 2009\",\"NO_QUERY\",\"sunshinegarma\",\"@chauncey78 hey did u talk to mom.. r they home yet? i hope they r ok.. wish i was coming home 4 easter.. \"',\n",
       " '\"0\",\"1468031439\",\"Mon Apr 06 23:21:06 PDT 2009\",\"NO_QUERY\",\"xmidnightdreams\",\"@endearingevania I sure wish I could go with you guys tmrw. But as per usual, school interferes. \"',\n",
       " '\"0\",\"1468031544\",\"Mon Apr 06 23:21:08 PDT 2009\",\"NO_QUERY\",\"sunshinebliss\",\"@widyatarina say what??? kal penn\\'s leaving house?! noooooo!!! awww... i totally missed it tonight \"',\n",
       " '\"0\",\"1468031563\",\"Mon Apr 06 23:21:09 PDT 2009\",\"NO_QUERY\",\"emilyalltimelow\",\"no! i lost a loyal \"',\n",
       " '\"0\",\"1468031616\",\"Mon Apr 06 23:21:10 PDT 2009\",\"NO_QUERY\",\"Breeze_81\",\"played another hand very bad and lost half my stack \"',\n",
       " '\"0\",\"1468031800\",\"Mon Apr 06 23:21:13 PDT 2009\",\"NO_QUERY\",\"Leggetron\",\"It\\'s 6.20pm - early days in a looooooong night at work \"',\n",
       " '\"0\",\"1468031805\",\"Mon Apr 06 23:21:13 PDT 2009\",\"NO_QUERY\",\"OhMyChristine\",\"@yaykimo It\\'s sad it\\'s the last season.  I wanna see when Spencer calls Lauren!\"',\n",
       " '\"0\",\"1468031882\",\"Mon Apr 06 23:21:15 PDT 2009\",\"NO_QUERY\",\"NesbyPhips\",\"So Im done editing &quot;The Phipstape&quot;. Back 2 crack a brew and see what we got............. no trees though \"',\n",
       " '\"0\",\"1468032209\",\"Mon Apr 06 23:21:21 PDT 2009\",\"NO_QUERY\",\"JamesDeen\",\"@rj i don\\'t know what half of that means \"',\n",
       " '\"0\",\"1468032348\",\"Mon Apr 06 23:21:25 PDT 2009\",\"NO_QUERY\",\"babyKxox\",\"homework homework homework \"',\n",
       " '\"0\",\"1468032456\",\"Mon Apr 06 23:21:27 PDT 2009\",\"NO_QUERY\",\"harvick29fan\",\"worked his heart out today, doubling my weight at each station. Result: Stiff and pulled muscles... OUCH! \"',\n",
       " '\"0\",\"1468032547\",\"Mon Apr 06 23:21:29 PDT 2009\",\"NO_QUERY\",\"janeetmb\",\"@MeLaMachinko now i feel bad for unfollowing. \"',\n",
       " '\"0\",\"1468032572\",\"Mon Apr 06 23:21:29 PDT 2009\",\"NO_QUERY\",\"Madrigal77\",\"So... Tired... God I hate the new job, and only two days in \"',\n",
       " '\"0\",\"1468032622\",\"Mon Apr 06 23:21:30 PDT 2009\",\"NO_QUERY\",\"BreThayer\",\"Sad about Kutner being killed off my fav show House! \"',\n",
       " '\"0\",\"1468032862\",\"Mon Apr 06 23:21:35 PDT 2009\",\"NO_QUERY\",\"lamarmcarter\",\"happy for Coach Stringer (HOF c/o 2009!)...now if I can only finish my term paper on her \"',\n",
       " '\"0\",\"1468032869\",\"Mon Apr 06 23:21:35 PDT 2009\",\"NO_QUERY\",\"urbanrocker\",\"I feel like shit. This is NOT the way I want to spend my birthday\\'s eve \"',\n",
       " '\"0\",\"1468033025\",\"Mon Apr 06 23:21:39 PDT 2009\",\"NO_QUERY\",\"strifethe3rd\",\"so far i have 311 on all my sites put together,  most of them were me checking out the updates i made......\"',\n",
       " '\"0\",\"1468033122\",\"Mon Apr 06 23:21:41 PDT 2009\",\"NO_QUERY\",\"Ember_X\",\"has a lot on her mind. I needs to make some moneys. And ideas. Nowhere is hiring! \"',\n",
       " '\"0\",\"1468033152\",\"Mon Apr 06 23:21:41 PDT 2009\",\"NO_QUERY\",\"xGabii\",\"@emiliexclarkex miss you \"',\n",
       " '\"0\",\"1468033194\",\"Mon Apr 06 23:21:44 PDT 2009\",\"NO_QUERY\",\"tygerbaby\",\"@stephenkruiser I\\'m so sorry to hear about your dog \"',\n",
       " '\"0\",\"1468033322\",\"Mon Apr 06 23:21:45 PDT 2009\",\"NO_QUERY\",\"nubblecakes\",\"Too much internet. How it plagues me \"',\n",
       " '\"0\",\"1468033365\",\"Mon Apr 06 23:21:45 PDT 2009\",\"NO_QUERY\",\"lcmroz\",\"i miss my ex soo much \"',\n",
       " '\"0\",\"1468033516\",\"Mon Apr 06 23:21:48 PDT 2009\",\"NO_QUERY\",\"schofs_travels\",\"Sodding M25   http://twitpic.com/2y3y0\"',\n",
       " '\"0\",\"1468033903\",\"Mon Apr 06 23:21:56 PDT 2009\",\"NO_QUERY\",\"nexusv2\",\"oh I thought the pirate bay trial verdict was today :-s apparently it\\'s in 10 days \"',\n",
       " '\"0\",\"1468033983\",\"Mon Apr 06 23:21:57 PDT 2009\",\"NO_QUERY\",\"patrick_ritchie\",\"@featherinair call me back. \"',\n",
       " '\"0\",\"1468034035\",\"Mon Apr 06 23:21:58 PDT 2009\",\"NO_QUERY\",\"divingkid2001\",\"is in study hall now, and i will log off immediately.  http://plurk.com/p/mzxbg\"',\n",
       " '\"0\",\"1468034417\",\"Mon Apr 06 23:22:05 PDT 2009\",\"NO_QUERY\",\"raciedo\",\"it so tired that im crying for no reason at all. im about to try to get an hour and a half in for tonight. half what i got last night. \"',\n",
       " '\"0\",\"1468034467\",\"Mon Apr 06 23:22:06 PDT 2009\",\"NO_QUERY\",\"gmthomas\",\"I totally have like...  four girl options, and none of them seem viable \"',\n",
       " '\"0\",\"1468034646\",\"Mon Apr 06 23:22:09 PDT 2009\",\"NO_QUERY\",\"strifethe3rd\",\"so far i have 311 veiws on all my sites put together,  most of them were me checking out the updates i made......\"',\n",
       " '\"0\",\"1468034673\",\"Mon Apr 06 23:22:10 PDT 2009\",\"NO_QUERY\",\"BOYTRONs\",\"Listening to Bjork\\'s All is full of Love... crying \"',\n",
       " '\"0\",\"1468034773\",\"Mon Apr 06 23:22:12 PDT 2009\",\"NO_QUERY\",\"sweetkarekare\",\"Omg the hills! Then I love money2, aww I think becky buckwild goes \"',\n",
       " '\"0\",\"1468034808\",\"Mon Apr 06 23:22:13 PDT 2009\",\"NO_QUERY\",\"Ninerwiner\",\"is craving for some tantan nabe  http://plurk.com/p/mzxcs\"',\n",
       " '\"0\",\"1468035296\",\"Mon Apr 06 23:22:21 PDT 2009\",\"NO_QUERY\",\"YoungFlame\",\"C\\'mon sean man \"',\n",
       " '\"0\",\"1468035396\",\"Mon Apr 06 23:22:24 PDT 2009\",\"NO_QUERY\",\"noslennai\",\"Watching &quot;a league of their own&quot;...makes me miss mint chocolate ice cream cones and my grand ma  fuck.\"',\n",
       " '\"0\",\"1468035417\",\"Mon Apr 06 23:22:24 PDT 2009\",\"NO_QUERY\",\"Setmefree2\",\"Lost my phone some where.maybe in the grass, its just so long, hope it doesn\\'t rain \"',\n",
       " '\"0\",\"1468035468\",\"Mon Apr 06 23:22:25 PDT 2009\",\"NO_QUERY\",\"NTHR47\",\"@tomatosalsa hope you aren\\'t referring to me  say hello to your new stalker LOL\"',\n",
       " '\"0\",\"1468035613\",\"Mon Apr 06 23:22:28 PDT 2009\",\"NO_QUERY\",\"hernameisXstine\",\"@brettyboo why were u sleeping?! Ur gonna be up all night now  how was ur bike ride?\"',\n",
       " '\"0\",\"1468035748\",\"Mon Apr 06 23:22:33 PDT 2009\",\"NO_QUERY\",\"TGaucho\",\"@SLessard But, but, but . . I wanna listen to the masters too!  \"',\n",
       " '\"0\",\"1468035840\",\"Mon Apr 06 23:22:31 PDT 2009\",\"NO_QUERY\",\"Catmoo\",\"@Sephystryx I\\'ve been looking about for good stuff to write, but also been doing loads of uni work \"',\n",
       " '\"0\",\"1468035969\",\"Mon Apr 06 23:22:34 PDT 2009\",\"NO_QUERY\",\"totallybiannca\",\"i feel unloved. dropped 2 tweeters \"',\n",
       " '\"0\",\"1468036076\",\"Mon Apr 06 23:22:36 PDT 2009\",\"NO_QUERY\",\"Podpodley\",\"Off to London for the day on Thursday, it\\'s gonna be raining, oh fab  won\\'t see much on the London Eye! Still Robbie won\\'t care bless him\"',\n",
       " '\"0\",\"1468036478\",\"Mon Apr 06 23:22:44 PDT 2009\",\"NO_QUERY\",\"kasperapd\",\"Completely wiped and reloaded the 8900.... Lost all BBM contacts    Going to bed sad.\"',\n",
       " '\"0\",\"1468036579\",\"Mon Apr 06 23:22:46 PDT 2009\",\"NO_QUERY\",\"ChelsiMarie\",\"@mykele sayyyy whaaaa? I wasn\\'t invited... \"',\n",
       " '\"0\",\"1468036634\",\"Mon Apr 06 23:22:48 PDT 2009\",\"NO_QUERY\",\"nathanryder\",\"Didn\\'t sleep too bad considering I have a workshop starting today. Beginnings of a sore throat though \"',\n",
       " '\"0\",\"1468036770\",\"Mon Apr 06 23:22:50 PDT 2009\",\"NO_QUERY\",\"imcute519\",\"@astewart87 oh my gosh that made me emotional haha idk why!!! i dont want to get old \"',\n",
       " '\"0\",\"1468036890\",\"Mon Apr 06 23:22:55 PDT 2009\",\"NO_QUERY\",\"thejakartaglobe\",\"We\\'re going to post some stories manually due to Twitterfeed problem. That\\'s why we\\'ve been so quiet lately .... \"',\n",
       " '\"0\",\"1468037361\",\"Mon Apr 06 23:23:03 PDT 2009\",\"NO_QUERY\",\"mandahs\",\"i don\\'t like lukewarm showers \"',\n",
       " '\"0\",\"1468037612\",\"Mon Apr 06 23:23:07 PDT 2009\",\"NO_QUERY\",\"ryanmcgrath\",\"@linuxfoundation - Who should I contact if I need a 1099 for freelance work I did on Linux.com throughout 2008? Never got one. \"',\n",
       " '\"0\",\"1468037671\",\"Mon Apr 06 23:23:08 PDT 2009\",\"NO_QUERY\",\"helmetcheek\",\"@skylineking722 connor, it\\'s me, febi  are you really really mad at me??\"',\n",
       " '\"0\",\"1468037803\",\"Mon Apr 06 23:23:11 PDT 2009\",\"NO_QUERY\",\"Kishya\",\"Need some help?! Want to buy a Macbook pro, but still inlove with my old powerbook! \"',\n",
       " '\"0\",\"1468037939\",\"Mon Apr 06 23:23:13 PDT 2009\",\"NO_QUERY\",\"williuscaesar\",\"@michaeltao man america is so .. borez anyway lol i just realized you sent me msgs on here. i had no idea. i have no flash \"',\n",
       " '\"0\",\"1468037989\",\"Mon Apr 06 23:23:14 PDT 2009\",\"NO_QUERY\",\"rockstarchick\",\"@hellivina @IHOPness g\\'knight lovely ladies. i\\'m sleepy now \"',\n",
       " '\"0\",\"1468038045\",\"Mon Apr 06 23:23:16 PDT 2009\",\"NO_QUERY\",\"Bennro\",\"Does anybody know how to get your electrolytes back in order? With a vitamin work? I feel sick. \"',\n",
       " '\"0\",\"1468038099\",\"Mon Apr 06 23:23:17 PDT 2009\",\"NO_QUERY\",\"TheEngTeacher\",\"@sudam08  yes, someone hasn\\'t been reading my posts properly  \"',\n",
       " '\"0\",\"1468038289\",\"Mon Apr 06 23:23:20 PDT 2009\",\"NO_QUERY\",\"teaogler\",\"Almost through with my Italian homework!  Weeeeee.... now if I only understood what I was doing.  \"',\n",
       " '\"0\",\"1468038583\",\"Mon Apr 06 23:23:27 PDT 2009\",\"NO_QUERY\",\"mark_cowley\",\"Who turned the lights on? It will be time to get ip then \"',\n",
       " '\"0\",\"1468038893\",\"Mon Apr 06 23:23:33 PDT 2009\",\"NO_QUERY\",\"DangeresqueBen\",\"@therealnph Twitter hates us both then.  \"',\n",
       " '\"0\",\"1468039375\",\"Mon Apr 06 23:23:43 PDT 2009\",\"NO_QUERY\",\"katellora\",\"I hate the fact that I\\'m genuinely excited about my last tweet \"',\n",
       " '\"0\",\"1468039428\",\"Mon Apr 06 23:23:44 PDT 2009\",\"NO_QUERY\",\"BerinaOhh\",\"@celesteclara i can\\'t sleep either \"',\n",
       " '\"0\",\"1468039579\",\"Mon Apr 06 23:23:46 PDT 2009\",\"NO_QUERY\",\"hermorrine\",\"@TheBlondeTheory Between that and the Italy earthquake, it\\'s been a very sad news day. \"',\n",
       " '\"0\",\"1468039686\",\"Mon Apr 06 23:23:48 PDT 2009\",\"NO_QUERY\",\"LeMonjat\",\"@champagnemanoir all rain today  . Garden really needs it so not quite so bad.\"',\n",
       " '\"0\",\"1468039856\",\"Mon Apr 06 23:23:51 PDT 2009\",\"NO_QUERY\",\"georgewoods007\",\"Yawn yawn yawn!! 10 more minutes in bed \"',\n",
       " '\"0\",\"1468039895\",\"Mon Apr 06 23:23:52 PDT 2009\",\"NO_QUERY\",\"squishymatter\",\"@MajesticFlame ouch - sounds very sucky \"',\n",
       " '\"0\",\"1468040012\",\"Mon Apr 06 23:23:56 PDT 2009\",\"NO_QUERY\",\"psculthorpe\",\"@bengottlieb Great idea with the iTunes promo codes - they don\\'t work in the UK iTunes store though \"',\n",
       " '\"0\",\"1468040050\",\"Mon Apr 06 23:23:55 PDT 2009\",\"NO_QUERY\",\"Nessie\",\"@mattycus  *cry* \"',\n",
       " '\"0\",\"1468041919\",\"Mon Apr 06 23:24:31 PDT 2009\",\"NO_QUERY\",\"gi_gi_bee\",\"@RumLover An empty rum barrel is a sad rum barrel. *shakes head* the horror, the horror.  \"',\n",
       " '\"0\",\"1468042132\",\"Mon Apr 06 23:24:35 PDT 2009\",\"NO_QUERY\",\"pcholody\",\"It was a sleepless night \"',\n",
       " '\"0\",\"1468042240\",\"Mon Apr 06 23:24:37 PDT 2009\",\"NO_QUERY\",\"HannahLins\",\"@BillyBush she admitted to being a fake  \"',\n",
       " '\"0\",\"1468042457\",\"Mon Apr 06 23:24:42 PDT 2009\",\"NO_QUERY\",\"tessthetraveler\",\"@BATMANNN  i love chutney......\"',\n",
       " '\"0\",\"1468042464\",\"Mon Apr 06 23:24:42 PDT 2009\",\"NO_QUERY\",\"eshaniprasad\",\"got highly bored today scanning 24 pages for daddy. Had to do it! \"',\n",
       " '\"0\",\"1468042752\",\"Mon Apr 06 23:24:47 PDT 2009\",\"NO_QUERY\",\"gayrath\",\"@misterphipps you cooked risotto without me!!??? \"',\n",
       " '\"0\",\"1468043104\",\"Mon Apr 06 23:24:53 PDT 2009\",\"NO_QUERY\",\"Geoffasaurus\",\"Keeeerrrrriiiiii!!!!  I really have nothing better to do then post on this thing at 224am.....wonderfullll. Says alot.\"',\n",
       " '\"0\",\"1468043300\",\"Mon Apr 06 23:24:57 PDT 2009\",\"NO_QUERY\",\"c8linodonnell\",\"YAY FOR BASEBALL SEASON! boo to yankees losing their first game \"',\n",
       " '\"0\",\"1468043306\",\"Mon Apr 06 23:24:57 PDT 2009\",\"NO_QUERY\",\"girlsandnylons\",\"LOST sucks  ... because i have to work today\"',\n",
       " '\"0\",\"1468043598\",\"Mon Apr 06 23:25:02 PDT 2009\",\"NO_QUERY\",\"tammy_x\",\"omg exams killed me  how could i not know the difference between haif a circle and a hemisphere &lt;/3 &gt;\"',\n",
       " '\"0\",\"1468043785\",\"Mon Apr 06 23:25:04 PDT 2009\",\"NO_QUERY\",\"Iam_S\",\"In bed... I suddenly feel  I wish MA was here w/me... Goodnight TwitterFam\"',\n",
       " '\"0\",\"1468043967\",\"Mon Apr 06 23:25:08 PDT 2009\",\"NO_QUERY\",\"WeirdMeta\",\"@RachelCmrn I don\\'t like goodnights \"',\n",
       " '\"0\",\"1468043970\",\"Mon Apr 06 23:25:08 PDT 2009\",\"NO_QUERY\",\"skeetonmytwitts\",\"Greaaat my lappy won\\'t turn on  wtffffff\"',\n",
       " '\"0\",\"1468044622\",\"Mon Apr 06 23:25:22 PDT 2009\",\"NO_QUERY\",\"pfspleen\",\"@M4RKM  You stuck in traffic then? My journey was traffic free this morning, if it\\'s any help.\"',\n",
       " '\"0\",\"1468044821\",\"Mon Apr 06 23:25:23 PDT 2009\",\"NO_QUERY\",\"ellaireyantis\",\"Lookin like an all-nighter. I hate it when I do this to myself \"',\n",
       " '\"0\",\"1468044846\",\"Mon Apr 06 23:25:23 PDT 2009\",\"NO_QUERY\",\"CristaltheGreat\",\"@vernonhamilton You\\'re a stranger   \"',\n",
       " '\"0\",\"1468045043\",\"Mon Apr 06 23:25:27 PDT 2009\",\"NO_QUERY\",\"TigerHasse\",\"Debbugging old VB6 code, the day could have started better . . .  \"',\n",
       " '\"0\",\"1468045201\",\"Mon Apr 06 23:25:31 PDT 2009\",\"NO_QUERY\",\"Chanabellarina\",\"@toddlington only a quarter of a percent babe  darn\"',\n",
       " '\"0\",\"1468045539\",\"Mon Apr 06 23:25:38 PDT 2009\",\"NO_QUERY\",\"Poe4\",\"Coming down with a cold or bad allergies. Either way, I\\'m miserable! \"',\n",
       " '\"0\",\"1468045613\",\"Mon Apr 06 23:25:38 PDT 2009\",\"NO_QUERY\",\"mechista\",\"Can\\'t believe Cutner is dead on House! Sad day.  in Santa Rosa, CA http://loopt.us/ORPL3A\"',\n",
       " '\"0\",\"1468045819\",\"Mon Apr 06 23:25:42 PDT 2009\",\"NO_QUERY\",\"browncoat24\",\"Damnit I was really digging this season of Reaper  http://www.tv.com/story/13720.html?ref_story_id=13720&amp;ref_type=1101&amp;ref_name=story\"',\n",
       " '\"0\",\"1468046392\",\"Mon Apr 06 23:25:54 PDT 2009\",\"NO_QUERY\",\"noelleee\",\"Gah, Comcast doubled our cable/internet bill w/out telling us, so we are quitting.  Can anyone suggest an affordable company in bay area?\"',\n",
       " '\"0\",\"1468046904\",\"Mon Apr 06 23:26:04 PDT 2009\",\"NO_QUERY\",\"liamkeaton\",\"Another early morn with the Duchess, although she hadn\\'t managed to cross her legs this time \"',\n",
       " '\"0\",\"1468047066\",\"Mon Apr 06 23:26:06 PDT 2009\",\"NO_QUERY\",\"dianapwns\",\"@alexbigman you left without saying hi! \"',\n",
       " '\"0\",\"1468048178\",\"Mon Apr 06 23:26:27 PDT 2009\",\"NO_QUERY\",\"kog_54\",\"l want, but I can\\'t sleep \"',\n",
       " '\"0\",\"1468048746\",\"Mon Apr 06 23:26:38 PDT 2009\",\"NO_QUERY\",\"NickCummings\",\"@TracyDowds When an Xbox shows those three red lights, it means it\\'s dead and needs to be fixed for a month at Microsoft HQ. \"',\n",
       " '\"0\",\"1468049681\",\"Mon Apr 06 23:26:57 PDT 2009\",\"NO_QUERY\",\"seatowngrrl\",\"A king sized bed is nice but sad and lonely with no hubby, puppy, or kitty   I am over this whole conferenceing thing.\"',\n",
       " '\"0\",\"1468049696\",\"Mon Apr 06 23:26:57 PDT 2009\",\"NO_QUERY\",\"imaginaryemily\",\"im boredd. gah  i wish i could just sleep and get it over with but ive had toooo muchh cooooffffeeeeeeeee  bahaha\"',\n",
       " '\"0\",\"1468049719\",\"Mon Apr 06 23:26:58 PDT 2009\",\"NO_QUERY\",\"JustinKoselke\",\"@whyinthehell If I may butt in again.  I\\'m done being nosey.  sorry your conversation was just so interesting!\"',\n",
       " '\"0\",\"1468050051\",\"Mon Apr 06 23:27:03 PDT 2009\",\"NO_QUERY\",\"yellows_rock\",\"@smokey_robinson  you fell off my list...did I offend you?  \"',\n",
       " '\"0\",\"1468050631\",\"Mon Apr 06 23:27:13 PDT 2009\",\"NO_QUERY\",\"kissbliss1\",\"18 weeks till sisters home.. i missed her call, again! its the worst feeling in the world. \"',\n",
       " '\"0\",\"1468050664\",\"Mon Apr 06 23:27:13 PDT 2009\",\"NO_QUERY\",\"joiette\",\"gonna try to get some sleep in this hotel room \"',\n",
       " '\"0\",\"1468050670\",\"Mon Apr 06 23:27:16 PDT 2009\",\"NO_QUERY\",\"cartimandua77\",\"@chimpytwit brilliant idea. just bring as much as you think you\\'ll spend &amp; I\\'ll swap you. bring a brolly \"',\n",
       " '\"0\",\"1468051061\",\"Mon Apr 06 23:27:21 PDT 2009\",\"NO_QUERY\",\"canu_diggit\",\"@SimoneKali Get me an autograph and shout out! You have to record it though. My computer is dead so I can\\'t listen. \"',\n",
       " '\"0\",\"1468051150\",\"Mon Apr 06 23:27:22 PDT 2009\",\"NO_QUERY\",\"RavenSu\",\"rt @KimKardashian Khloe just got fired from the Apprentice \"',\n",
       " '\"0\",\"1468051256\",\"Mon Apr 06 23:27:27 PDT 2009\",\"NO_QUERY\",\"exortabreedoll\",\"in biology class. my lip hurts \"',\n",
       " '\"0\",\"1468051421\",\"Mon Apr 06 23:27:27 PDT 2009\",\"NO_QUERY\",\"mariusw\",\"Sorry for the next tweet... \"',\n",
       " '\"0\",\"1468051743\",\"Mon Apr 06 23:27:33 PDT 2009\",\"NO_QUERY\",\"carlygirvan\",\"Grr not down to go to school today \"',\n",
       " '\"0\",\"1468051770\",\"Mon Apr 06 23:27:34 PDT 2009\",\"NO_QUERY\",\"Rosebud\",\"@jennlopez I had to get an HD tivo and just got it set up tonight in order to get channels 40 - 59. \"',\n",
       " '\"0\",\"1468051911\",\"Mon Apr 06 23:27:37 PDT 2009\",\"NO_QUERY\",\"evanhaldrich\",\"@mouthsex i asked everyone how they were doing yesterday and not a single tweet back \"',\n",
       " '\"0\",\"1468051981\",\"Mon Apr 06 23:27:38 PDT 2009\",\"NO_QUERY\",\"Celz29\",\"@adame ruddy money!! i like it!! still waiting here.... oh what a surprise... by state too?? hmmm....... seriously!! \"',\n",
       " '\"0\",\"1468052063\",\"Mon Apr 06 23:27:40 PDT 2009\",\"NO_QUERY\",\"CourtneyCuomo\",\"@Kal_Penn I am so sad  Kutner was my favorite of the new team!!\"',\n",
       " '\"0\",\"1468052239\",\"Mon Apr 06 23:27:43 PDT 2009\",\"NO_QUERY\",\"ConstanceClark\",\"@MarcusMims wow i didn\\'t get an &quot;hello&quot; u suck \"',\n",
       " '\"0\",\"1468052359\",\"Mon Apr 06 23:27:45 PDT 2009\",\"NO_QUERY\",\"sashasimply\",\"bedtime, school tomorrow, and i still have no books  being broke suckssss\"',\n",
       " '\"0\",\"1468052470\",\"Mon Apr 06 23:27:48 PDT 2009\",\"NO_QUERY\",\"Meg_Nutz\",\"Seating here helping my baby with his papers...well he is forcing me too seat with him  im sleepy\"',\n",
       " '\"0\",\"1468052484\",\"Mon Apr 06 23:27:48 PDT 2009\",\"NO_QUERY\",\"deck86\",\"Synching my contacts from my old mobile to iPhone. Import does not work well \"',\n",
       " '\"0\",\"1468052499\",\"Mon Apr 06 23:27:48 PDT 2009\",\"NO_QUERY\",\"ylizabeth\",\"i can\\'t concentrate \"',\n",
       " '\"0\",\"1468052623\",\"Mon Apr 06 23:27:50 PDT 2009\",\"NO_QUERY\",\"tomazstolfa\",\"I\\'ve just spent 1 hour to enter all the bureaucratic nonsense for March. What a waste of my time \"',\n",
       " '\"0\",\"1468052908\",\"Mon Apr 06 23:27:58 PDT 2009\",\"NO_QUERY\",\"Materialgirl21\",\"Nw more confused then ever! \"',\n",
       " '\"0\",\"1468053118\",\"Mon Apr 06 23:28:00 PDT 2009\",\"NO_QUERY\",\"earthtoryann\",\"Not feeling well again. Stupid migraine making my tummy upset.  and my whole body aches, shoot me now.\"',\n",
       " '\"0\",\"1468053198\",\"Mon Apr 06 23:28:02 PDT 2009\",\"NO_QUERY\",\"grinc\",\"Reading Buyology before bedtime... great premise but only turning out to be an &quot;OK&quot; book - lots of info I already knew \"',\n",
       " '\"0\",\"1468053610\",\"Mon Apr 06 23:28:09 PDT 2009\",\"NO_QUERY\",\"BW101\",\"Home! I really wana sleep, but due to wasting my free line in town I have an assignment to finish \"',\n",
       " '\"0\",\"1468053611\",\"Mon Apr 06 23:28:09 PDT 2009\",\"NO_QUERY\",\"mariejamora\",\"@hellobebe I also send some updates in plurk but i upload photos on twitter!  you didnt see any of my updates on plurk? Zero? \"',\n",
       " '\"0\",\"1468053804\",\"Mon Apr 06 23:28:13 PDT 2009\",\"NO_QUERY\",\"princeralph\",\"omg... &quot;The Reader&quot; is making me \"',\n",
       " '\"0\",\"1468053869\",\"Mon Apr 06 23:28:14 PDT 2009\",\"NO_QUERY\",\"vinternals\",\"@cloudpimps d\\'oh! At least you\\'re getting a decent exchange rate at the moment, sterling is still getting flogged \"',\n",
       " '\"0\",\"1468054357\",\"Mon Apr 06 23:28:22 PDT 2009\",\"NO_QUERY\",\"teejay0109\",\"tried to download tweetdeck but it wont download \"',\n",
       " '\"0\",\"1468054887\",\"Mon Apr 06 23:28:32 PDT 2009\",\"NO_QUERY\",\"mahlersoboes\",\"There\\'s an inch of snow on the ground (and counting). I\\'m worried about the poor flowers \"',\n",
       " '\"0\",\"1468055249\",\"Mon Apr 06 23:28:38 PDT 2009\",\"NO_QUERY\",\"livvy22\",\"@dweeman why aren\\'t you a happy camper? \"',\n",
       " '\"0\",\"1468055262\",\"Mon Apr 06 23:28:39 PDT 2009\",\"NO_QUERY\",\"LarryEisner\",\"@dkoenigs thanks man.  I\\'m so very grateful.  I feel unworthy of such attention, though, because I\\'m in this because of myself... \"',\n",
       " '\"0\",\"1468055266\",\"Mon Apr 06 23:28:41 PDT 2009\",\"NO_QUERY\",\"ohmigosh_dusti\",\"@t_wolfe  i miss u too. i\\'m totally comin back tho! Lastnight was sooooooo much fun!\"',\n",
       " '\"0\",\"1468055472\",\"Mon Apr 06 23:28:43 PDT 2009\",\"NO_QUERY\",\"tiphaniebrooke\",\"@sniffinglue ohhh. I love it. ps I\\'m sad we didn\\'t get to hang out \"',\n",
       " '\"0\",\"1468055604\",\"Mon Apr 06 23:28:45 PDT 2009\",\"NO_QUERY\",\"rinahannah\",\"And somehow I still end up in this place \"',\n",
       " ...]"
      ]
     },
     "execution_count": 2,
     "metadata": {},
     "output_type": "execute_result"
    }
   ],
   "source": [
    "generic_tweets = open('generic_tweets.txt', 'r')        \n",
    "data = generic_tweets.read()   #Read Every Charater till the End of the Line\n",
    "generic_data = [i for i in data.splitlines() if i.strip()!=''] #Strip any leading and trailing white spaces\n",
    "generic_data"
   ]
  },
  {
   "cell_type": "markdown",
   "metadata": {},
   "source": [
    "Reading the given file using pandas"
   ]
  },
  {
   "cell_type": "code",
   "execution_count": 5,
   "metadata": {},
   "outputs": [
    {
     "data": {
      "text/plain": [
       "\"@VirginAmerica plus you've added commercials to the experience... tacky.\""
      ]
     },
     "execution_count": 5,
     "metadata": {},
     "output_type": "execute_result"
    }
   ],
   "source": [
    "import pandas as pd\n",
    "airlines_tweets = pd.read_csv(\"US_airline_tweets.csv\")        \n",
    "airlines_tweets['text'][0]"
   ]
  },
  {
   "cell_type": "code",
   "execution_count": 9,
   "metadata": {},
   "outputs": [
    {
     "data": {
      "text/html": [
       "<div>\n",
       "<style scoped>\n",
       "    .dataframe tbody tr th:only-of-type {\n",
       "        vertical-align: middle;\n",
       "    }\n",
       "\n",
       "    .dataframe tbody tr th {\n",
       "        vertical-align: top;\n",
       "    }\n",
       "\n",
       "    .dataframe thead th {\n",
       "        text-align: right;\n",
       "    }\n",
       "</style>\n",
       "<table border=\"1\" class=\"dataframe\">\n",
       "  <thead>\n",
       "    <tr style=\"text-align: right;\">\n",
       "      <th></th>\n",
       "      <th>class</th>\n",
       "      <th>id</th>\n",
       "      <th>date</th>\n",
       "      <th>query</th>\n",
       "      <th>user</th>\n",
       "      <th>text</th>\n",
       "    </tr>\n",
       "  </thead>\n",
       "  <tbody>\n",
       "    <tr>\n",
       "      <th>0</th>\n",
       "      <td>0</td>\n",
       "      <td>1467810369</td>\n",
       "      <td>Mon Apr 06 22:19:45 PDT 2009</td>\n",
       "      <td>NO_QUERY</td>\n",
       "      <td>_TheSpecialOne_</td>\n",
       "      <td>@switchfoot http://twitpic.com/2y1zl - Awww, t...</td>\n",
       "    </tr>\n",
       "    <tr>\n",
       "      <th>1</th>\n",
       "      <td>0</td>\n",
       "      <td>1467810672</td>\n",
       "      <td>Mon Apr 06 22:19:49 PDT 2009</td>\n",
       "      <td>NO_QUERY</td>\n",
       "      <td>scotthamilton</td>\n",
       "      <td>is upset that he can't update his Facebook by ...</td>\n",
       "    </tr>\n",
       "    <tr>\n",
       "      <th>2</th>\n",
       "      <td>0</td>\n",
       "      <td>1467810917</td>\n",
       "      <td>Mon Apr 06 22:19:53 PDT 2009</td>\n",
       "      <td>NO_QUERY</td>\n",
       "      <td>mattycus</td>\n",
       "      <td>@Kenichan I dived many times for the ball. Man...</td>\n",
       "    </tr>\n",
       "    <tr>\n",
       "      <th>3</th>\n",
       "      <td>0</td>\n",
       "      <td>1467811184</td>\n",
       "      <td>Mon Apr 06 22:19:57 PDT 2009</td>\n",
       "      <td>NO_QUERY</td>\n",
       "      <td>ElleCTF</td>\n",
       "      <td>my whole body feels itchy and like its on fire</td>\n",
       "    </tr>\n",
       "    <tr>\n",
       "      <th>4</th>\n",
       "      <td>0</td>\n",
       "      <td>1467811193</td>\n",
       "      <td>Mon Apr 06 22:19:57 PDT 2009</td>\n",
       "      <td>NO_QUERY</td>\n",
       "      <td>Karoli</td>\n",
       "      <td>@nationwideclass no, it's not behaving at all....</td>\n",
       "    </tr>\n",
       "  </tbody>\n",
       "</table>\n",
       "</div>"
      ],
      "text/plain": [
       "   class          id                          date     query             user  \\\n",
       "0      0  1467810369  Mon Apr 06 22:19:45 PDT 2009  NO_QUERY  _TheSpecialOne_   \n",
       "1      0  1467810672  Mon Apr 06 22:19:49 PDT 2009  NO_QUERY    scotthamilton   \n",
       "2      0  1467810917  Mon Apr 06 22:19:53 PDT 2009  NO_QUERY         mattycus   \n",
       "3      0  1467811184  Mon Apr 06 22:19:57 PDT 2009  NO_QUERY          ElleCTF   \n",
       "4      0  1467811193  Mon Apr 06 22:19:57 PDT 2009  NO_QUERY           Karoli   \n",
       "\n",
       "                                                text  \n",
       "0  @switchfoot http://twitpic.com/2y1zl - Awww, t...  \n",
       "1  is upset that he can't update his Facebook by ...  \n",
       "2  @Kenichan I dived many times for the ball. Man...  \n",
       "3    my whole body feels itchy and like its on fire   \n",
       "4  @nationwideclass no, it's not behaving at all....  "
      ]
     },
     "execution_count": 9,
     "metadata": {},
     "output_type": "execute_result"
    }
   ],
   "source": [
    "tweets = pd.read_csv(\"generic_tweets.txt\")\n",
    "tweets[0:5]"
   ]
  },
  {
   "cell_type": "markdown",
   "metadata": {},
   "source": [
    "checking code for removal of html tags and attributes"
   ]
  },
  {
   "cell_type": "code",
   "execution_count": 10,
   "metadata": {},
   "outputs": [],
   "source": [
    "import re # removal of html characters \n",
    "a= '< asdas d> asdsa ( asds) <\\>'\n",
    "a= re.sub('<[^<]+?>', '', a)"
   ]
  },
  {
   "cell_type": "markdown",
   "metadata": {},
   "source": [
    "slicing dataframe by selcting only text column"
   ]
  },
  {
   "cell_type": "code",
   "execution_count": 11,
   "metadata": {},
   "outputs": [
    {
     "data": {
      "text/html": [
       "<div>\n",
       "<style scoped>\n",
       "    .dataframe tbody tr th:only-of-type {\n",
       "        vertical-align: middle;\n",
       "    }\n",
       "\n",
       "    .dataframe tbody tr th {\n",
       "        vertical-align: top;\n",
       "    }\n",
       "\n",
       "    .dataframe thead th {\n",
       "        text-align: right;\n",
       "    }\n",
       "</style>\n",
       "<table border=\"1\" class=\"dataframe\">\n",
       "  <thead>\n",
       "    <tr style=\"text-align: right;\">\n",
       "      <th></th>\n",
       "      <th>text</th>\n",
       "    </tr>\n",
       "  </thead>\n",
       "  <tbody>\n",
       "    <tr>\n",
       "      <th>0</th>\n",
       "      <td>@switchfoot http://twitpic.com/2y1zl - Awww, t...</td>\n",
       "    </tr>\n",
       "    <tr>\n",
       "      <th>1</th>\n",
       "      <td>is upset that he can't update his Facebook by ...</td>\n",
       "    </tr>\n",
       "    <tr>\n",
       "      <th>2</th>\n",
       "      <td>@Kenichan I dived many times for the ball. Man...</td>\n",
       "    </tr>\n",
       "    <tr>\n",
       "      <th>3</th>\n",
       "      <td>my whole body feels itchy and like its on fire</td>\n",
       "    </tr>\n",
       "    <tr>\n",
       "      <th>4</th>\n",
       "      <td>@nationwideclass no, it's not behaving at all....</td>\n",
       "    </tr>\n",
       "    <tr>\n",
       "      <th>5</th>\n",
       "      <td>@Kwesidei not the whole crew</td>\n",
       "    </tr>\n",
       "  </tbody>\n",
       "</table>\n",
       "</div>"
      ],
      "text/plain": [
       "                                                text\n",
       "0  @switchfoot http://twitpic.com/2y1zl - Awww, t...\n",
       "1  is upset that he can't update his Facebook by ...\n",
       "2  @Kenichan I dived many times for the ball. Man...\n",
       "3    my whole body feels itchy and like its on fire \n",
       "4  @nationwideclass no, it's not behaving at all....\n",
       "5                      @Kwesidei not the whole crew "
      ]
     },
     "execution_count": 11,
     "metadata": {},
     "output_type": "execute_result"
    }
   ],
   "source": [
    "df=tweets[['text']]\n",
    "df[0:6]"
   ]
  },
  {
   "cell_type": "markdown",
   "metadata": {},
   "source": [
    "selecting text column for checking operations "
   ]
  },
  {
   "cell_type": "code",
   "execution_count": 12,
   "metadata": {},
   "outputs": [
    {
     "data": {
      "text/plain": [
       "0    @switchfoot http://twitpic.com/2y1zl - Awww, t...\n",
       "1    is upset that he can't update his Facebook by ...\n",
       "2    @Kenichan I dived many times for the ball. Man...\n",
       "Name: text, dtype: object"
      ]
     },
     "execution_count": 12,
     "metadata": {},
     "output_type": "execute_result"
    }
   ],
   "source": [
    "d=df[\"text\"]#selecting text column\n",
    "d[0:3]"
   ]
  },
  {
   "cell_type": "markdown",
   "metadata": {},
   "source": [
    "checking code for replacing (, -)"
   ]
  },
  {
   "cell_type": "code",
   "execution_count": 13,
   "metadata": {},
   "outputs": [],
   "source": [
    "d=d.str.replace(\",\",\"\")"
   ]
  },
  {
   "cell_type": "code",
   "execution_count": 14,
   "metadata": {},
   "outputs": [
    {
     "data": {
      "text/plain": [
       "0    @switchfoot http://twitpic.com/2y1zl  Awww tha...\n",
       "1    is upset that he can't update his Facebook by ...\n",
       "2    @Kenichan I dived many times for the ball. Man...\n",
       "3      my whole body feels itchy and like its on fire \n",
       "4    @nationwideclass no it's not behaving at all. ...\n",
       "Name: text, dtype: object"
      ]
     },
     "execution_count": 14,
     "metadata": {},
     "output_type": "execute_result"
    }
   ],
   "source": [
    "d=d.str.replace(\"-\",\"\") \n",
    "d.head()"
   ]
  },
  {
   "cell_type": "markdown",
   "metadata": {},
   "source": [
    "Removal of all punctuation mark "
   ]
  },
  {
   "cell_type": "code",
   "execution_count": 15,
   "metadata": {},
   "outputs": [],
   "source": [
    "d=d.str.replace(r'[^\\w\\s]','') #removing punctuation mark"
   ]
  },
  {
   "cell_type": "code",
   "execution_count": 16,
   "metadata": {},
   "outputs": [
    {
     "data": {
      "text/plain": [
       "0    switchfoot httptwitpiccom2y1zl  Awww thats a b...\n",
       "1    is upset that he cant update his Facebook by t...\n",
       "2    Kenichan I dived many times for the ball Manag...\n",
       "3      my whole body feels itchy and like its on fire \n",
       "4    nationwideclass no its not behaving at all im ...\n",
       "Name: text, dtype: object"
      ]
     },
     "execution_count": 16,
     "metadata": {},
     "output_type": "execute_result"
    }
   ],
   "source": [
    "d[0:5]"
   ]
  },
  {
   "cell_type": "markdown",
   "metadata": {},
   "source": [
    "applying the all cleaning code to all cells using for loop also lowering the case "
   ]
  },
  {
   "cell_type": "code",
   "execution_count": 17,
   "metadata": {},
   "outputs": [],
   "source": [
    "import re # tried via for loop to remove punctuation mark and url and html tags    (tried via for loop)\n",
    "for i in range(len(df)):\n",
    "    p=df[\"text\"][i]\n",
    "    p.lower()\n",
    "    p=p.replace(r'[^\\w\\s]','')\n",
    "    p = re.sub(r'http\\S+', '', p)\n",
    "    p= re.sub('<[^<]+?>', '', p)"
   ]
  },
  {
   "cell_type": "code",
   "execution_count": 18,
   "metadata": {},
   "outputs": [
    {
     "data": {
      "text/html": [
       "<div>\n",
       "<style scoped>\n",
       "    .dataframe tbody tr th:only-of-type {\n",
       "        vertical-align: middle;\n",
       "    }\n",
       "\n",
       "    .dataframe tbody tr th {\n",
       "        vertical-align: top;\n",
       "    }\n",
       "\n",
       "    .dataframe thead th {\n",
       "        text-align: right;\n",
       "    }\n",
       "</style>\n",
       "<table border=\"1\" class=\"dataframe\">\n",
       "  <thead>\n",
       "    <tr style=\"text-align: right;\">\n",
       "      <th></th>\n",
       "      <th>text</th>\n",
       "    </tr>\n",
       "  </thead>\n",
       "  <tbody>\n",
       "    <tr>\n",
       "      <th>0</th>\n",
       "      <td>@switchfoot http://twitpic.com/2y1zl - Awww, t...</td>\n",
       "    </tr>\n",
       "    <tr>\n",
       "      <th>1</th>\n",
       "      <td>is upset that he can't update his Facebook by ...</td>\n",
       "    </tr>\n",
       "    <tr>\n",
       "      <th>2</th>\n",
       "      <td>@Kenichan I dived many times for the ball. Man...</td>\n",
       "    </tr>\n",
       "    <tr>\n",
       "      <th>3</th>\n",
       "      <td>my whole body feels itchy and like its on fire</td>\n",
       "    </tr>\n",
       "    <tr>\n",
       "      <th>4</th>\n",
       "      <td>@nationwideclass no, it's not behaving at all....</td>\n",
       "    </tr>\n",
       "    <tr>\n",
       "      <th>5</th>\n",
       "      <td>@Kwesidei not the whole crew</td>\n",
       "    </tr>\n",
       "    <tr>\n",
       "      <th>6</th>\n",
       "      <td>Need a hug</td>\n",
       "    </tr>\n",
       "    <tr>\n",
       "      <th>7</th>\n",
       "      <td>@LOLTrish hey  long time no see! Yes.. Rains a...</td>\n",
       "    </tr>\n",
       "    <tr>\n",
       "      <th>8</th>\n",
       "      <td>@Tatiana_K nope they didn't have it</td>\n",
       "    </tr>\n",
       "    <tr>\n",
       "      <th>9</th>\n",
       "      <td>@twittera que me muera ?</td>\n",
       "    </tr>\n",
       "    <tr>\n",
       "      <th>10</th>\n",
       "      <td>spring break in plain city... it's snowing</td>\n",
       "    </tr>\n",
       "    <tr>\n",
       "      <th>11</th>\n",
       "      <td>I just re-pierced my ears</td>\n",
       "    </tr>\n",
       "    <tr>\n",
       "      <th>12</th>\n",
       "      <td>@caregiving I couldn't bear to watch it.  And ...</td>\n",
       "    </tr>\n",
       "    <tr>\n",
       "      <th>13</th>\n",
       "      <td>@octolinz16 It it counts, idk why I did either...</td>\n",
       "    </tr>\n",
       "    <tr>\n",
       "      <th>14</th>\n",
       "      <td>@smarrison i would've been the first, but i di...</td>\n",
       "    </tr>\n",
       "  </tbody>\n",
       "</table>\n",
       "</div>"
      ],
      "text/plain": [
       "                                                 text\n",
       "0   @switchfoot http://twitpic.com/2y1zl - Awww, t...\n",
       "1   is upset that he can't update his Facebook by ...\n",
       "2   @Kenichan I dived many times for the ball. Man...\n",
       "3     my whole body feels itchy and like its on fire \n",
       "4   @nationwideclass no, it's not behaving at all....\n",
       "5                       @Kwesidei not the whole crew \n",
       "6                                         Need a hug \n",
       "7   @LOLTrish hey  long time no see! Yes.. Rains a...\n",
       "8                @Tatiana_K nope they didn't have it \n",
       "9                           @twittera que me muera ? \n",
       "10        spring break in plain city... it's snowing \n",
       "11                         I just re-pierced my ears \n",
       "12  @caregiving I couldn't bear to watch it.  And ...\n",
       "13  @octolinz16 It it counts, idk why I did either...\n",
       "14  @smarrison i would've been the first, but i di..."
      ]
     },
     "execution_count": 18,
     "metadata": {},
     "output_type": "execute_result"
    }
   ],
   "source": [
    "df[0:15]"
   ]
  },
  {
   "cell_type": "markdown",
   "metadata": {},
   "source": [
    "selcting column and applying data cleaing operation directly to the column also lowering the case."
   ]
  },
  {
   "cell_type": "code",
   "execution_count": 19,
   "metadata": {},
   "outputs": [
    {
     "name": "stderr",
     "output_type": "stream",
     "text": [
      "C:\\Users\\Revathy\\Anaconda3\\lib\\site-packages\\ipykernel_launcher.py:2: SettingWithCopyWarning: \n",
      "A value is trying to be set on a copy of a slice from a DataFrame.\n",
      "Try using .loc[row_indexer,col_indexer] = value instead\n",
      "\n",
      "See the caveats in the documentation: http://pandas.pydata.org/pandas-docs/stable/indexing.html#indexing-view-versus-copy\n",
      "  \n",
      "C:\\Users\\Revathy\\Anaconda3\\lib\\site-packages\\ipykernel_launcher.py:3: SettingWithCopyWarning: \n",
      "A value is trying to be set on a copy of a slice from a DataFrame.\n",
      "Try using .loc[row_indexer,col_indexer] = value instead\n",
      "\n",
      "See the caveats in the documentation: http://pandas.pydata.org/pandas-docs/stable/indexing.html#indexing-view-versus-copy\n",
      "  This is separate from the ipykernel package so we can avoid doing imports until\n",
      "C:\\Users\\Revathy\\Anaconda3\\lib\\site-packages\\ipykernel_launcher.py:4: SettingWithCopyWarning: \n",
      "A value is trying to be set on a copy of a slice from a DataFrame.\n",
      "Try using .loc[row_indexer,col_indexer] = value instead\n",
      "\n",
      "See the caveats in the documentation: http://pandas.pydata.org/pandas-docs/stable/indexing.html#indexing-view-versus-copy\n",
      "  after removing the cwd from sys.path.\n",
      "C:\\Users\\Revathy\\Anaconda3\\lib\\site-packages\\ipykernel_launcher.py:5: SettingWithCopyWarning: \n",
      "A value is trying to be set on a copy of a slice from a DataFrame.\n",
      "Try using .loc[row_indexer,col_indexer] = value instead\n",
      "\n",
      "See the caveats in the documentation: http://pandas.pydata.org/pandas-docs/stable/indexing.html#indexing-view-versus-copy\n",
      "  \"\"\"\n"
     ]
    },
    {
     "data": {
      "text/plain": [
       "0    switchfoot   awww thats a bummer  you shoulda ...\n",
       "1    is upset that he cant update his facebook by t...\n",
       "2    kenichan i dived many times for the ball manag...\n",
       "3      my whole body feels itchy and like its on fire \n",
       "4    nationwideclass no its not behaving at all im ...\n",
       "Name: text, dtype: object"
      ]
     },
     "execution_count": 19,
     "metadata": {},
     "output_type": "execute_result"
    }
   ],
   "source": [
    "import re #removal of url, punctuation mark and html tags \n",
    "df[\"text\"]=df[\"text\"].str.lower()#converting to lower case\n",
    "df[\"text\"]=df[\"text\"].str.replace(r'http\\S+', '')\n",
    "df[\"text\"]=df[\"text\"].str.replace(r'[^\\w\\s]','')\n",
    "df[\"text\"]=df[\"text\"].str.replace('<[^<]+?>', '')\n",
    "df[0:5][\"text\"]"
   ]
  },
  {
   "cell_type": "code",
   "execution_count": 20,
   "metadata": {},
   "outputs": [
    {
     "data": {
      "text/html": [
       "<div>\n",
       "<style scoped>\n",
       "    .dataframe tbody tr th:only-of-type {\n",
       "        vertical-align: middle;\n",
       "    }\n",
       "\n",
       "    .dataframe tbody tr th {\n",
       "        vertical-align: top;\n",
       "    }\n",
       "\n",
       "    .dataframe thead th {\n",
       "        text-align: right;\n",
       "    }\n",
       "</style>\n",
       "<table border=\"1\" class=\"dataframe\">\n",
       "  <thead>\n",
       "    <tr style=\"text-align: right;\">\n",
       "      <th></th>\n",
       "      <th>text</th>\n",
       "    </tr>\n",
       "  </thead>\n",
       "  <tbody>\n",
       "    <tr>\n",
       "      <th>0</th>\n",
       "      <td>switchfoot   awww thats a bummer  you shoulda ...</td>\n",
       "    </tr>\n",
       "    <tr>\n",
       "      <th>1</th>\n",
       "      <td>is upset that he cant update his facebook by t...</td>\n",
       "    </tr>\n",
       "    <tr>\n",
       "      <th>2</th>\n",
       "      <td>kenichan i dived many times for the ball manag...</td>\n",
       "    </tr>\n",
       "    <tr>\n",
       "      <th>3</th>\n",
       "      <td>my whole body feels itchy and like its on fire</td>\n",
       "    </tr>\n",
       "    <tr>\n",
       "      <th>4</th>\n",
       "      <td>nationwideclass no its not behaving at all im ...</td>\n",
       "    </tr>\n",
       "  </tbody>\n",
       "</table>\n",
       "</div>"
      ],
      "text/plain": [
       "                                                text\n",
       "0  switchfoot   awww thats a bummer  you shoulda ...\n",
       "1  is upset that he cant update his facebook by t...\n",
       "2  kenichan i dived many times for the ball manag...\n",
       "3    my whole body feels itchy and like its on fire \n",
       "4  nationwideclass no its not behaving at all im ..."
      ]
     },
     "execution_count": 20,
     "metadata": {},
     "output_type": "execute_result"
    }
   ],
   "source": [
    "df[0:5]"
   ]
  },
  {
   "cell_type": "markdown",
   "metadata": {},
   "source": [
    "attaching stopword file given and converting into list "
   ]
  },
  {
   "cell_type": "code",
   "execution_count": 21,
   "metadata": {},
   "outputs": [],
   "source": [
    "stopwordfile=pd.read_csv(\"stop_words.txt\")\n",
    "stopwordlist=stopwordfile[\"a\"].tolist()"
   ]
  },
  {
   "cell_type": "markdown",
   "metadata": {},
   "source": [
    "removal of stopwords using nltk stopword files "
   ]
  },
  {
   "cell_type": "code",
   "execution_count": 22,
   "metadata": {},
   "outputs": [
    {
     "name": "stdout",
     "output_type": "stream",
     "text": [
      "[nltk_data] Downloading package stopwords to\n",
      "[nltk_data]     C:\\Users\\Revathy\\AppData\\Roaming\\nltk_data...\n",
      "[nltk_data]   Unzipping corpora\\stopwords.zip.\n",
      "0    switchfoot awww bummer shoulda david carr thir...\n",
      "1    upset cant update facebook texting cry result ...\n",
      "2    kenichan dived times ball managed save 50 rest...\n",
      "3                                body feels itchy fire\n",
      "4                    nationwideclass behaving mad cant\n",
      "Name: text, dtype: object\n"
     ]
    },
    {
     "name": "stderr",
     "output_type": "stream",
     "text": [
      "C:\\Users\\Revathy\\Anaconda3\\lib\\site-packages\\ipykernel_launcher.py:6: SettingWithCopyWarning: \n",
      "A value is trying to be set on a copy of a slice from a DataFrame.\n",
      "Try using .loc[row_indexer,col_indexer] = value instead\n",
      "\n",
      "See the caveats in the documentation: http://pandas.pydata.org/pandas-docs/stable/indexing.html#indexing-view-versus-copy\n",
      "  \n"
     ]
    }
   ],
   "source": [
    "import nltk          #removing stopwords using nltk stopword(english)\n",
    "nltk.download('stopwords')\n",
    "from nltk.corpus import stopwords\n",
    "stop = stopwords.words('english')\n",
    "stopwords=stopwordlist + stop\n",
    "df['text']=df['text'].apply(lambda x: ' '.join([word for word in x.split() if word not in (stopwords)]))\n",
    "print(df[0:5]['text'])\n"
   ]
  },
  {
   "cell_type": "code",
   "execution_count": 23,
   "metadata": {},
   "outputs": [
    {
     "data": {
      "text/html": [
       "<div>\n",
       "<style scoped>\n",
       "    .dataframe tbody tr th:only-of-type {\n",
       "        vertical-align: middle;\n",
       "    }\n",
       "\n",
       "    .dataframe tbody tr th {\n",
       "        vertical-align: top;\n",
       "    }\n",
       "\n",
       "    .dataframe thead th {\n",
       "        text-align: right;\n",
       "    }\n",
       "</style>\n",
       "<table border=\"1\" class=\"dataframe\">\n",
       "  <thead>\n",
       "    <tr style=\"text-align: right;\">\n",
       "      <th></th>\n",
       "      <th>class</th>\n",
       "      <th>id</th>\n",
       "      <th>date</th>\n",
       "      <th>query</th>\n",
       "      <th>user</th>\n",
       "      <th>text</th>\n",
       "    </tr>\n",
       "  </thead>\n",
       "  <tbody>\n",
       "    <tr>\n",
       "      <th>0</th>\n",
       "      <td>0</td>\n",
       "      <td>1467810369</td>\n",
       "      <td>Mon Apr 06 22:19:45 PDT 2009</td>\n",
       "      <td>NO_QUERY</td>\n",
       "      <td>_TheSpecialOne_</td>\n",
       "      <td>@switchfoot http://twitpic.com/2y1zl - Awww, t...</td>\n",
       "    </tr>\n",
       "    <tr>\n",
       "      <th>1</th>\n",
       "      <td>0</td>\n",
       "      <td>1467810672</td>\n",
       "      <td>Mon Apr 06 22:19:49 PDT 2009</td>\n",
       "      <td>NO_QUERY</td>\n",
       "      <td>scotthamilton</td>\n",
       "      <td>is upset that he can't update his Facebook by ...</td>\n",
       "    </tr>\n",
       "    <tr>\n",
       "      <th>2</th>\n",
       "      <td>0</td>\n",
       "      <td>1467810917</td>\n",
       "      <td>Mon Apr 06 22:19:53 PDT 2009</td>\n",
       "      <td>NO_QUERY</td>\n",
       "      <td>mattycus</td>\n",
       "      <td>@Kenichan I dived many times for the ball. Man...</td>\n",
       "    </tr>\n",
       "    <tr>\n",
       "      <th>3</th>\n",
       "      <td>0</td>\n",
       "      <td>1467811184</td>\n",
       "      <td>Mon Apr 06 22:19:57 PDT 2009</td>\n",
       "      <td>NO_QUERY</td>\n",
       "      <td>ElleCTF</td>\n",
       "      <td>my whole body feels itchy and like its on fire</td>\n",
       "    </tr>\n",
       "    <tr>\n",
       "      <th>4</th>\n",
       "      <td>0</td>\n",
       "      <td>1467811193</td>\n",
       "      <td>Mon Apr 06 22:19:57 PDT 2009</td>\n",
       "      <td>NO_QUERY</td>\n",
       "      <td>Karoli</td>\n",
       "      <td>@nationwideclass no, it's not behaving at all....</td>\n",
       "    </tr>\n",
       "    <tr>\n",
       "      <th>5</th>\n",
       "      <td>0</td>\n",
       "      <td>1467811372</td>\n",
       "      <td>Mon Apr 06 22:20:00 PDT 2009</td>\n",
       "      <td>NO_QUERY</td>\n",
       "      <td>joy_wolf</td>\n",
       "      <td>@Kwesidei not the whole crew</td>\n",
       "    </tr>\n",
       "    <tr>\n",
       "      <th>6</th>\n",
       "      <td>0</td>\n",
       "      <td>1467811592</td>\n",
       "      <td>Mon Apr 06 22:20:03 PDT 2009</td>\n",
       "      <td>NO_QUERY</td>\n",
       "      <td>mybirch</td>\n",
       "      <td>Need a hug</td>\n",
       "    </tr>\n",
       "    <tr>\n",
       "      <th>7</th>\n",
       "      <td>0</td>\n",
       "      <td>1467811594</td>\n",
       "      <td>Mon Apr 06 22:20:03 PDT 2009</td>\n",
       "      <td>NO_QUERY</td>\n",
       "      <td>coZZ</td>\n",
       "      <td>@LOLTrish hey  long time no see! Yes.. Rains a...</td>\n",
       "    </tr>\n",
       "    <tr>\n",
       "      <th>8</th>\n",
       "      <td>0</td>\n",
       "      <td>1467811795</td>\n",
       "      <td>Mon Apr 06 22:20:05 PDT 2009</td>\n",
       "      <td>NO_QUERY</td>\n",
       "      <td>2Hood4Hollywood</td>\n",
       "      <td>@Tatiana_K nope they didn't have it</td>\n",
       "    </tr>\n",
       "    <tr>\n",
       "      <th>9</th>\n",
       "      <td>0</td>\n",
       "      <td>1467812025</td>\n",
       "      <td>Mon Apr 06 22:20:09 PDT 2009</td>\n",
       "      <td>NO_QUERY</td>\n",
       "      <td>mimismo</td>\n",
       "      <td>@twittera que me muera ?</td>\n",
       "    </tr>\n",
       "    <tr>\n",
       "      <th>10</th>\n",
       "      <td>0</td>\n",
       "      <td>1467812416</td>\n",
       "      <td>Mon Apr 06 22:20:16 PDT 2009</td>\n",
       "      <td>NO_QUERY</td>\n",
       "      <td>erinx3leannexo</td>\n",
       "      <td>spring break in plain city... it's snowing</td>\n",
       "    </tr>\n",
       "    <tr>\n",
       "      <th>11</th>\n",
       "      <td>0</td>\n",
       "      <td>1467812579</td>\n",
       "      <td>Mon Apr 06 22:20:17 PDT 2009</td>\n",
       "      <td>NO_QUERY</td>\n",
       "      <td>pardonlauren</td>\n",
       "      <td>I just re-pierced my ears</td>\n",
       "    </tr>\n",
       "    <tr>\n",
       "      <th>12</th>\n",
       "      <td>0</td>\n",
       "      <td>1467812723</td>\n",
       "      <td>Mon Apr 06 22:20:19 PDT 2009</td>\n",
       "      <td>NO_QUERY</td>\n",
       "      <td>TLeC</td>\n",
       "      <td>@caregiving I couldn't bear to watch it.  And ...</td>\n",
       "    </tr>\n",
       "    <tr>\n",
       "      <th>13</th>\n",
       "      <td>0</td>\n",
       "      <td>1467812771</td>\n",
       "      <td>Mon Apr 06 22:20:19 PDT 2009</td>\n",
       "      <td>NO_QUERY</td>\n",
       "      <td>robrobbierobert</td>\n",
       "      <td>@octolinz16 It it counts, idk why I did either...</td>\n",
       "    </tr>\n",
       "    <tr>\n",
       "      <th>14</th>\n",
       "      <td>0</td>\n",
       "      <td>1467812784</td>\n",
       "      <td>Mon Apr 06 22:20:20 PDT 2009</td>\n",
       "      <td>NO_QUERY</td>\n",
       "      <td>bayofwolves</td>\n",
       "      <td>@smarrison i would've been the first, but i di...</td>\n",
       "    </tr>\n",
       "  </tbody>\n",
       "</table>\n",
       "</div>"
      ],
      "text/plain": [
       "    class          id                          date     query  \\\n",
       "0       0  1467810369  Mon Apr 06 22:19:45 PDT 2009  NO_QUERY   \n",
       "1       0  1467810672  Mon Apr 06 22:19:49 PDT 2009  NO_QUERY   \n",
       "2       0  1467810917  Mon Apr 06 22:19:53 PDT 2009  NO_QUERY   \n",
       "3       0  1467811184  Mon Apr 06 22:19:57 PDT 2009  NO_QUERY   \n",
       "4       0  1467811193  Mon Apr 06 22:19:57 PDT 2009  NO_QUERY   \n",
       "5       0  1467811372  Mon Apr 06 22:20:00 PDT 2009  NO_QUERY   \n",
       "6       0  1467811592  Mon Apr 06 22:20:03 PDT 2009  NO_QUERY   \n",
       "7       0  1467811594  Mon Apr 06 22:20:03 PDT 2009  NO_QUERY   \n",
       "8       0  1467811795  Mon Apr 06 22:20:05 PDT 2009  NO_QUERY   \n",
       "9       0  1467812025  Mon Apr 06 22:20:09 PDT 2009  NO_QUERY   \n",
       "10      0  1467812416  Mon Apr 06 22:20:16 PDT 2009  NO_QUERY   \n",
       "11      0  1467812579  Mon Apr 06 22:20:17 PDT 2009  NO_QUERY   \n",
       "12      0  1467812723  Mon Apr 06 22:20:19 PDT 2009  NO_QUERY   \n",
       "13      0  1467812771  Mon Apr 06 22:20:19 PDT 2009  NO_QUERY   \n",
       "14      0  1467812784  Mon Apr 06 22:20:20 PDT 2009  NO_QUERY   \n",
       "\n",
       "               user                                               text  \n",
       "0   _TheSpecialOne_  @switchfoot http://twitpic.com/2y1zl - Awww, t...  \n",
       "1     scotthamilton  is upset that he can't update his Facebook by ...  \n",
       "2          mattycus  @Kenichan I dived many times for the ball. Man...  \n",
       "3           ElleCTF    my whole body feels itchy and like its on fire   \n",
       "4            Karoli  @nationwideclass no, it's not behaving at all....  \n",
       "5          joy_wolf                      @Kwesidei not the whole crew   \n",
       "6           mybirch                                        Need a hug   \n",
       "7              coZZ  @LOLTrish hey  long time no see! Yes.. Rains a...  \n",
       "8   2Hood4Hollywood               @Tatiana_K nope they didn't have it   \n",
       "9           mimismo                          @twittera que me muera ?   \n",
       "10   erinx3leannexo        spring break in plain city... it's snowing   \n",
       "11     pardonlauren                         I just re-pierced my ears   \n",
       "12             TLeC  @caregiving I couldn't bear to watch it.  And ...  \n",
       "13  robrobbierobert  @octolinz16 It it counts, idk why I did either...  \n",
       "14      bayofwolves  @smarrison i would've been the first, but i di...  "
      ]
     },
     "execution_count": 23,
     "metadata": {},
     "output_type": "execute_result"
    }
   ],
   "source": [
    "tweets[0:15]"
   ]
  },
  {
   "cell_type": "markdown",
   "metadata": {},
   "source": [
    "applying the same procedure to clean the us airlines file"
   ]
  },
  {
   "cell_type": "code",
   "execution_count": 24,
   "metadata": {},
   "outputs": [
    {
     "data": {
      "text/plain": [
       "\"@VirginAmerica  I flew from NYC to SFO last week and couldn't fully sit in my seat due to two large gentleman on either side of me. HELP!\""
      ]
     },
     "execution_count": 24,
     "metadata": {},
     "output_type": "execute_result"
    }
   ],
   "source": [
    "import pandas as pd\n",
    "us=pd.read_csv(\"US_airline_tweets.csv\")\n",
    "us[\"text\"][13]"
   ]
  },
  {
   "cell_type": "code",
   "execution_count": 25,
   "metadata": {},
   "outputs": [
    {
     "data": {
      "text/plain": [
       "'virginamerica  i flew from nyc to sfo last week and couldnt fully sit in my seat due to two large gentleman on either side of me help'"
      ]
     },
     "execution_count": 25,
     "metadata": {},
     "output_type": "execute_result"
    }
   ],
   "source": [
    "import re #removal of url, punctuation mark and html tags \n",
    "us[\"text\"]=us[\"text\"].str.lower()#converting to lower case\n",
    "us[\"text\"]=us[\"text\"].str.replace(r'http\\S+', '')\n",
    "us[\"text\"]=us[\"text\"].str.replace(r'[^\\w\\s]','')\n",
    "us[\"text\"]=us[\"text\"].str.replace('<[^<]+?>', '')\n",
    "us[\"text\"].head()\n",
    "us[\"text\"][13]"
   ]
  },
  {
   "cell_type": "markdown",
   "metadata": {},
   "source": [
    "removing stop words from usairlines file"
   ]
  },
  {
   "cell_type": "code",
   "execution_count": 26,
   "metadata": {},
   "outputs": [
    {
     "name": "stdout",
     "output_type": "stream",
     "text": [
      "[nltk_data] Downloading package stopwords to\n",
      "[nltk_data]     C:\\Users\\Revathy\\AppData\\Roaming\\nltk_data...\n",
      "[nltk_data]   Package stopwords is already up-to-date!\n",
      "0     virginamerica youve commercials experience tacky\n",
      "1    virginamerica aggressive blast obnoxious enter...\n",
      "2                          virginamerica big bad thing\n",
      "3    virginamerica seriously pay 30 flight seats di...\n",
      "4          virginamerica time fly vx âœear wormâ wonât\n",
      "Name: text, dtype: object\n"
     ]
    }
   ],
   "source": [
    "import nltk          #removing stopwords using nltk stopword and given stopword\n",
    "nltk.download('stopwords')\n",
    "from nltk.corpus import stopwords\n",
    "stop = stopwords.words('english')\n",
    "stopwords=stopwordlist + stop\n",
    "us['text']=us['text'].apply(lambda x: ' '.join([word for word in x.split() if word not in (stopwords)]))\n",
    "print(us[0:5]['text'])"
   ]
  },
  {
   "cell_type": "markdown",
   "metadata": {},
   "source": [
    "# Exploratory analysis"
   ]
  },
  {
   "cell_type": "markdown",
   "metadata": {},
   "source": [
    "importing the pandas numpy and sklearn"
   ]
  },
  {
   "cell_type": "code",
   "execution_count": 456,
   "metadata": {},
   "outputs": [],
   "source": [
    "import numpy as np\n",
    "import pandas as pd\n",
    "import sklearn"
   ]
  },
  {
   "cell_type": "markdown",
   "metadata": {},
   "source": [
    "importing the usairline files "
   ]
  },
  {
   "cell_type": "code",
   "execution_count": 457,
   "metadata": {},
   "outputs": [
    {
     "data": {
      "text/plain": [
       "11541"
      ]
     },
     "execution_count": 457,
     "metadata": {},
     "output_type": "execute_result"
    }
   ],
   "source": [
    "us=pd.read_csv(\"US_airline_tweets.csv\")\n",
    "us[\"text\"]=us[\"text\"].str.lower()                              #lowering the case\n",
    "len(us['text'])"
   ]
  },
  {
   "cell_type": "markdown",
   "metadata": {},
   "source": [
    "creating a new column airline and asigning a value nan"
   ]
  },
  {
   "cell_type": "code",
   "execution_count": 458,
   "metadata": {},
   "outputs": [],
   "source": [
    "us[\"airline\"]=\"nan\""
   ]
  },
  {
   "cell_type": "markdown",
   "metadata": {},
   "source": [
    "checking if the word can be found in cell"
   ]
  },
  {
   "cell_type": "code",
   "execution_count": 459,
   "metadata": {},
   "outputs": [
    {
     "data": {
      "text/plain": [
       "True"
      ]
     },
     "execution_count": 459,
     "metadata": {},
     "output_type": "execute_result"
    }
   ],
   "source": [
    " \"@virginamerica\" in us[\"text\"][0]       #checking value whether it identifies or not!"
   ]
  },
  {
   "cell_type": "markdown",
   "metadata": {},
   "source": [
    "Found diffrent airline accessing the given excel file"
   ]
  },
  {
   "cell_type": "markdown",
   "metadata": {},
   "source": [
    "finding particular airline and storing into airline column"
   ]
  },
  {
   "cell_type": "code",
   "execution_count": 460,
   "metadata": {},
   "outputs": [],
   "source": [
    "for i in range(len(us[\"text\"])):  #we process each text cell and find word equavalance and store the airline name in us airline column\n",
    "    #it takes time to load\n",
    "    if \"@virginamerica\" in us[\"text\"][i]:\n",
    "        us[\"airline\"][i]= \"va\"\n",
    "    elif \"@americanair\" in us[\"text\"][i]:\n",
    "        us[\"airline\"][i]=\"aa\"\n",
    "    elif \"@southwestair\" in us[\"text\"][i]:\n",
    "        us[\"airline\"][i]=\"sa\"\n",
    "    elif \"@jetblue\" in us[\"text\"][i]:\n",
    "        us[\"airline\"][i]=\"jb\"\n",
    "    elif \"@usairways\" in us[\"text\"][i]:\n",
    "        us[\"airline\"][i]=\"ua\"\n",
    "    elif \"@united\" in us[\"text\"][i]:\n",
    "        us[\"airline\"][i]=\"un\"\n",
    "    else:\n",
    "        us[\"airline\"][i]=\"others\""
   ]
  },
  {
   "cell_type": "markdown",
   "metadata": {},
   "source": [
    "the assumption included is, file is taking word by word and if the word in order given found than it breaks the statement and it follows to next "
   ]
  },
  {
   "cell_type": "code",
   "execution_count": 461,
   "metadata": {},
   "outputs": [
    {
     "data": {
      "text/html": [
       "<div>\n",
       "<style scoped>\n",
       "    .dataframe tbody tr th:only-of-type {\n",
       "        vertical-align: middle;\n",
       "    }\n",
       "\n",
       "    .dataframe tbody tr th {\n",
       "        vertical-align: top;\n",
       "    }\n",
       "\n",
       "    .dataframe thead th {\n",
       "        text-align: right;\n",
       "    }\n",
       "</style>\n",
       "<table border=\"1\" class=\"dataframe\">\n",
       "  <thead>\n",
       "    <tr style=\"text-align: right;\">\n",
       "      <th></th>\n",
       "      <th>id</th>\n",
       "      <th>sentiment</th>\n",
       "      <th>negative_reason</th>\n",
       "      <th>user</th>\n",
       "      <th>retweet_count</th>\n",
       "      <th>text</th>\n",
       "      <th>airline</th>\n",
       "    </tr>\n",
       "  </thead>\n",
       "  <tbody>\n",
       "    <tr>\n",
       "      <th>5000</th>\n",
       "      <td>5.678310e+17</td>\n",
       "      <td>negative</td>\n",
       "      <td>Customer Service Issue</td>\n",
       "      <td>JoyHaynes</td>\n",
       "      <td>0</td>\n",
       "      <td>@southwestair thanks! i expected a wait... jus...</td>\n",
       "      <td>sa</td>\n",
       "    </tr>\n",
       "    <tr>\n",
       "      <th>5001</th>\n",
       "      <td>5.678310e+17</td>\n",
       "      <td>negative</td>\n",
       "      <td>Cancelled Flight</td>\n",
       "      <td>TravelWithSuze</td>\n",
       "      <td>0</td>\n",
       "      <td>@southwestair understand weather is an issue b...</td>\n",
       "      <td>sa</td>\n",
       "    </tr>\n",
       "    <tr>\n",
       "      <th>5002</th>\n",
       "      <td>5.678310e+17</td>\n",
       "      <td>positive</td>\n",
       "      <td>NaN</td>\n",
       "      <td>nmillerche</td>\n",
       "      <td>0</td>\n",
       "      <td>despite mother nature's best efforts, @southwe...</td>\n",
       "      <td>sa</td>\n",
       "    </tr>\n",
       "    <tr>\n",
       "      <th>5003</th>\n",
       "      <td>5.678310e+17</td>\n",
       "      <td>negative</td>\n",
       "      <td>Can't Tell</td>\n",
       "      <td>TravelWithSuze</td>\n",
       "      <td>0</td>\n",
       "      <td>@southwestair sadly didn't get much help ... a...</td>\n",
       "      <td>sa</td>\n",
       "    </tr>\n",
       "    <tr>\n",
       "      <th>5004</th>\n",
       "      <td>5.678310e+17</td>\n",
       "      <td>negative</td>\n",
       "      <td>Flight Booking Problems</td>\n",
       "      <td>ursonate</td>\n",
       "      <td>0</td>\n",
       "      <td>@southwestair bos to msp, msp to aus, aus to b...</td>\n",
       "      <td>sa</td>\n",
       "    </tr>\n",
       "  </tbody>\n",
       "</table>\n",
       "</div>"
      ],
      "text/plain": [
       "                id sentiment          negative_reason            user  \\\n",
       "5000  5.678310e+17  negative   Customer Service Issue       JoyHaynes   \n",
       "5001  5.678310e+17  negative         Cancelled Flight  TravelWithSuze   \n",
       "5002  5.678310e+17  positive                      NaN      nmillerche   \n",
       "5003  5.678310e+17  negative               Can't Tell  TravelWithSuze   \n",
       "5004  5.678310e+17  negative  Flight Booking Problems        ursonate   \n",
       "\n",
       "      retweet_count                                               text airline  \n",
       "5000              0  @southwestair thanks! i expected a wait... jus...      sa  \n",
       "5001              0  @southwestair understand weather is an issue b...      sa  \n",
       "5002              0  despite mother nature's best efforts, @southwe...      sa  \n",
       "5003              0  @southwestair sadly didn't get much help ... a...      sa  \n",
       "5004              0  @southwestair bos to msp, msp to aus, aus to b...      sa  "
      ]
     },
     "execution_count": 461,
     "metadata": {},
     "output_type": "execute_result"
    }
   ],
   "source": [
    "us[5000:5005] #printing the values"
   ]
  },
  {
   "cell_type": "markdown",
   "metadata": {},
   "source": [
    "finding the count of individual airline"
   ]
  },
  {
   "cell_type": "code",
   "execution_count": 462,
   "metadata": {},
   "outputs": [
    {
     "name": "stdout",
     "output_type": "stream",
     "text": [
      "1765\n",
      "2453\n",
      "1488\n",
      "342\n",
      "2399\n",
      "3091\n",
      "3\n"
     ]
    }
   ],
   "source": [
    "a=0\n",
    "b=0\n",
    "c=0\n",
    "d=0\n",
    "e=0\n",
    "f=0\n",
    "g=0\n",
    "air=us[\"airline\"]\n",
    "for i in range(len(us[\"airline\"])):\n",
    "    if air[i]==\"sa\":\n",
    "        a+=1\n",
    "    elif air[i]==\"aa\":\n",
    "        b+=1\n",
    "    elif air[i]==\"jb\":\n",
    "        c+=1\n",
    "    elif air[i]==\"va\":\n",
    "        d+=1\n",
    "    elif air[i]==\"ua\":\n",
    "        e+=1\n",
    "    elif air[i]==\"un\":\n",
    "        f+=1\n",
    "    elif air[i]==\"others\":\n",
    "        g+=1\n",
    "\n",
    "print(a)\n",
    "print(b)\n",
    "print(c)\n",
    "print(d)\n",
    "print(e)\n",
    "print(f)\n",
    "print(g)"
   ]
  },
  {
   "cell_type": "code",
   "execution_count": 463,
   "metadata": {},
   "outputs": [],
   "source": [
    "airlinevalues=[a,c,e,f,d,b,g]"
   ]
  },
  {
   "cell_type": "code",
   "execution_count": 464,
   "metadata": {},
   "outputs": [],
   "source": [
    "airlinelist=[\"southwestair\",\"jetblue\",\" usairways\",\"united\",\"virginamerica\",\"americanair\",\"others\"]"
   ]
  },
  {
   "cell_type": "code",
   "execution_count": 465,
   "metadata": {},
   "outputs": [
    {
     "data": {
      "text/plain": [
       "9178"
      ]
     },
     "execution_count": 465,
     "metadata": {},
     "output_type": "execute_result"
    }
   ],
   "source": [
    "len(us[us.sentiment==\"negative\"])   #finding the length of total negative tweets"
   ]
  },
  {
   "cell_type": "markdown",
   "metadata": {},
   "source": [
    "filter the dataframe usairlines for negative sentiment"
   ]
  },
  {
   "cell_type": "code",
   "execution_count": 466,
   "metadata": {},
   "outputs": [],
   "source": [
    " us_f = us[us['sentiment'] == \"negative\" ]"
   ]
  },
  {
   "cell_type": "markdown",
   "metadata": {},
   "source": [
    "finding the specific airline length where sentiment is negative"
   ]
  },
  {
   "cell_type": "code",
   "execution_count": 467,
   "metadata": {},
   "outputs": [],
   "source": [
    "va_n=len(us_f[us_f.airline==\"va\"])\n",
    "aa_n=len(us_f[us_f.airline==\"aa\"])\n",
    "jb_n=len(us_f[us_f.airline==\"jb\"])\n",
    "un_n=len(us_f[us_f.airline==\"un\"])\n",
    "ua_n=len(us_f[us_f.airline==\"ua\"])\n",
    "sa_n=len(us_f[us_f.airline==\"sa\"])\n",
    "ot_n=len(us_f[us_f.airline==\"others\"])\n",
    "\n",
    "neg=[sa_n,jb_n,ua_n,un_n,va_n,aa_n,ot_n]\n",
    "\n",
    "#airlinevalues=[a,c,e,f,d,b,g]\n",
    "\n",
    "pos=[a-sa_n,c-jb_n,e-ua_n,f-un_n,d-va_n,b-aa_n,g-ot_n]\n",
    "\n",
    "#\"southwestair\",\"jetblue\",\" usairways\",\"united\",\"virginamerica\",\"americanair\",\"others\"\n"
   ]
  },
  {
   "cell_type": "code",
   "execution_count": 468,
   "metadata": {},
   "outputs": [
    {
     "name": "stdout",
     "output_type": "stream",
     "text": [
      "[1194, 947, 2138, 2606, 190, 2101, 2]\n"
     ]
    },
    {
     "data": {
      "text/plain": [
       "[1765, 1488, 2399, 3091, 342, 2453, 3]"
      ]
     },
     "execution_count": 468,
     "metadata": {},
     "output_type": "execute_result"
    }
   ],
   "source": [
    "print(neg)\n",
    "airlinevalues"
   ]
  },
  {
   "cell_type": "markdown",
   "metadata": {},
   "source": [
    "ploting a pie chart for every airline "
   ]
  },
  {
   "cell_type": "code",
   "execution_count": 469,
   "metadata": {},
   "outputs": [
    {
     "data": {
      "image/png": "[encoded data removed]",
      "text/plain": [
       "<Figure size 432x288 with 1 Axes>"
      ]
     },
     "metadata": {},
     "output_type": "display_data"
    }
   ],
   "source": [
    "import matplotlib.pyplot as plt        \n",
    " \n",
    "# Data to plot\n",
    "labels = airlinelist\n",
    "sizes = airlinevalues\n",
    "colors = ['gold', 'yellowgreen', 'lightcoral', 'lightskyblue',\"red\",'blue','orange']\n",
    "\n",
    "plt.pie(sizes, labels=labels, colors=colors,\n",
    "        autopct='%1.2f%%', shadow=True, startangle=170)\n",
    "plt.title('Airline distribution') \n",
    "plt.axis('equal')\n",
    "plt.show()"
   ]
  },
  {
   "cell_type": "markdown",
   "metadata": {},
   "source": [
    "Ploting a graph for poitive negative and total tweets, to visualize the patern of tweets, reference stackoverflow"
   ]
  },
  {
   "cell_type": "code",
   "execution_count": 470,
   "metadata": {},
   "outputs": [
    {
     "data": {
      "image/png": "[encoded data removed]",
      "text/plain": [
       "<Figure size 432x288 with 1 Axes>"
      ]
     },
     "metadata": {},
     "output_type": "display_data"
    }
   ],
   "source": [
    "import numpy as np         \n",
    "import matplotlib.pyplot as plt\n",
    "\n",
    "N = 7\n",
    "ind = np.arange(N)  # the x locations for the groups\n",
    "width = 0.27       # the width of the bars\n",
    "\n",
    "fig = plt.figure()\n",
    "ax = fig.add_subplot(111)\n",
    "\n",
    "yvals = airlinevalues\n",
    "rects1 = ax.bar(ind, yvals, width, color='r')\n",
    "zvals = neg\n",
    "rects2 = ax.bar(ind+width, zvals, width, color='g')\n",
    "kvals = pos\n",
    "rects3 = ax.bar(ind+width*2, kvals, width, color='b')\n",
    "\n",
    "ax.set_xlabel('airline tweets')\n",
    "ax.set_xticks(ind+width)\n",
    "ax.set_xticklabels( (\"Southwestair\",\"Jetblue\",\" Usairways\",\"United\",\"virginA.\",\"AmericanAir\",\"others\") )\n",
    "ax.legend( (rects1[0], rects2[0], rects3[0]), ('total', 'negative', 'positive') )\n",
    "\n",
    "plt.show()"
   ]
  },
  {
   "cell_type": "code",
   "execution_count": 471,
   "metadata": {},
   "outputs": [
    {
     "data": {
      "text/html": [
       "<div>\n",
       "<style scoped>\n",
       "    .dataframe tbody tr th:only-of-type {\n",
       "        vertical-align: middle;\n",
       "    }\n",
       "\n",
       "    .dataframe tbody tr th {\n",
       "        vertical-align: top;\n",
       "    }\n",
       "\n",
       "    .dataframe thead th {\n",
       "        text-align: right;\n",
       "    }\n",
       "</style>\n",
       "<table border=\"1\" class=\"dataframe\">\n",
       "  <thead>\n",
       "    <tr style=\"text-align: right;\">\n",
       "      <th></th>\n",
       "      <th>class</th>\n",
       "      <th>id</th>\n",
       "      <th>date</th>\n",
       "      <th>query</th>\n",
       "      <th>user</th>\n",
       "      <th>text</th>\n",
       "    </tr>\n",
       "  </thead>\n",
       "  <tbody>\n",
       "    <tr>\n",
       "      <th>0</th>\n",
       "      <td>0</td>\n",
       "      <td>1467810369</td>\n",
       "      <td>Mon Apr 06 22:19:45 PDT 2009</td>\n",
       "      <td>NO_QUERY</td>\n",
       "      <td>_TheSpecialOne_</td>\n",
       "      <td>@switchfoot http://twitpic.com/2y1zl - Awww, t...</td>\n",
       "    </tr>\n",
       "    <tr>\n",
       "      <th>1</th>\n",
       "      <td>0</td>\n",
       "      <td>1467810672</td>\n",
       "      <td>Mon Apr 06 22:19:49 PDT 2009</td>\n",
       "      <td>NO_QUERY</td>\n",
       "      <td>scotthamilton</td>\n",
       "      <td>is upset that he can't update his Facebook by ...</td>\n",
       "    </tr>\n",
       "    <tr>\n",
       "      <th>2</th>\n",
       "      <td>0</td>\n",
       "      <td>1467810917</td>\n",
       "      <td>Mon Apr 06 22:19:53 PDT 2009</td>\n",
       "      <td>NO_QUERY</td>\n",
       "      <td>mattycus</td>\n",
       "      <td>@Kenichan I dived many times for the ball. Man...</td>\n",
       "    </tr>\n",
       "    <tr>\n",
       "      <th>3</th>\n",
       "      <td>0</td>\n",
       "      <td>1467811184</td>\n",
       "      <td>Mon Apr 06 22:19:57 PDT 2009</td>\n",
       "      <td>NO_QUERY</td>\n",
       "      <td>ElleCTF</td>\n",
       "      <td>my whole body feels itchy and like its on fire</td>\n",
       "    </tr>\n",
       "    <tr>\n",
       "      <th>4</th>\n",
       "      <td>0</td>\n",
       "      <td>1467811193</td>\n",
       "      <td>Mon Apr 06 22:19:57 PDT 2009</td>\n",
       "      <td>NO_QUERY</td>\n",
       "      <td>Karoli</td>\n",
       "      <td>@nationwideclass no, it's not behaving at all....</td>\n",
       "    </tr>\n",
       "  </tbody>\n",
       "</table>\n",
       "</div>"
      ],
      "text/plain": [
       "   class          id                          date     query             user  \\\n",
       "0      0  1467810369  Mon Apr 06 22:19:45 PDT 2009  NO_QUERY  _TheSpecialOne_   \n",
       "1      0  1467810672  Mon Apr 06 22:19:49 PDT 2009  NO_QUERY    scotthamilton   \n",
       "2      0  1467810917  Mon Apr 06 22:19:53 PDT 2009  NO_QUERY         mattycus   \n",
       "3      0  1467811184  Mon Apr 06 22:19:57 PDT 2009  NO_QUERY          ElleCTF   \n",
       "4      0  1467811193  Mon Apr 06 22:19:57 PDT 2009  NO_QUERY           Karoli   \n",
       "\n",
       "                                                text  \n",
       "0  @switchfoot http://twitpic.com/2y1zl - Awww, t...  \n",
       "1  is upset that he can't update his Facebook by ...  \n",
       "2  @Kenichan I dived many times for the ball. Man...  \n",
       "3    my whole body feels itchy and like its on fire   \n",
       "4  @nationwideclass no, it's not behaving at all....  "
      ]
     },
     "execution_count": 471,
     "metadata": {},
     "output_type": "execute_result"
    }
   ],
   "source": [
    "tweets[0:5]"
   ]
  },
  {
   "cell_type": "code",
   "execution_count": 472,
   "metadata": {},
   "outputs": [
    {
     "data": {
      "text/plain": [
       "'Mon'"
      ]
     },
     "execution_count": 472,
     "metadata": {},
     "output_type": "execute_result"
    }
   ],
   "source": [
    "tweets[\"date\"][0][0:3]   #selecting day initial 3 words"
   ]
  },
  {
   "cell_type": "code",
   "execution_count": 473,
   "metadata": {},
   "outputs": [],
   "source": [
    "a=[]      #defining empty list and appending all days in the list for getting a list of days \n",
    "for i in range(len(tweets)):\n",
    "    b=tweets[\"date\"][i][0:3]\n",
    "    a.append(b)\n"
   ]
  },
  {
   "cell_type": "markdown",
   "metadata": {},
   "source": [
    "ploting a graph of number of tweets per day to visualize everyday tweet counts to see the frequency distribution of tweets "
   ]
  },
  {
   "cell_type": "code",
   "execution_count": 474,
   "metadata": {},
   "outputs": [
    {
     "data": {
      "text/plain": [
       "<matplotlib.axes._subplots.AxesSubplot at 0x4083a940>"
      ]
     },
     "execution_count": 474,
     "metadata": {},
     "output_type": "execute_result"
    },
    {
     "data": {
      "image/png": "[encoded data removed]",
      "text/plain": [
       "<Figure size 432x288 with 1 Axes>"
      ]
     },
     "metadata": {},
     "output_type": "display_data"
    }
   ],
   "source": [
    "pd.Series(a).value_counts().plot('bar')#ploting a bar graph day wise for tweets"
   ]
  },
  {
   "cell_type": "code",
   "execution_count": 3,
   "metadata": {},
   "outputs": [
    {
     "data": {
      "text/html": [
       "<div>\n",
       "<style scoped>\n",
       "    .dataframe tbody tr th:only-of-type {\n",
       "        vertical-align: middle;\n",
       "    }\n",
       "\n",
       "    .dataframe tbody tr th {\n",
       "        vertical-align: top;\n",
       "    }\n",
       "\n",
       "    .dataframe thead th {\n",
       "        text-align: right;\n",
       "    }\n",
       "</style>\n",
       "<table border=\"1\" class=\"dataframe\">\n",
       "  <thead>\n",
       "    <tr style=\"text-align: right;\">\n",
       "      <th></th>\n",
       "      <th>class</th>\n",
       "      <th>id</th>\n",
       "      <th>date</th>\n",
       "      <th>query</th>\n",
       "      <th>user</th>\n",
       "      <th>text</th>\n",
       "    </tr>\n",
       "  </thead>\n",
       "  <tbody>\n",
       "    <tr>\n",
       "      <th>0</th>\n",
       "      <td>0</td>\n",
       "      <td>1467810369</td>\n",
       "      <td>Mon Apr 06 22:19:45 PDT 2009</td>\n",
       "      <td>NO_QUERY</td>\n",
       "      <td>_TheSpecialOne_</td>\n",
       "      <td>@switchfoot http://twitpic.com/2y1zl - Awww, t...</td>\n",
       "    </tr>\n",
       "    <tr>\n",
       "      <th>1</th>\n",
       "      <td>0</td>\n",
       "      <td>1467810672</td>\n",
       "      <td>Mon Apr 06 22:19:49 PDT 2009</td>\n",
       "      <td>NO_QUERY</td>\n",
       "      <td>scotthamilton</td>\n",
       "      <td>is upset that he can't update his Facebook by ...</td>\n",
       "    </tr>\n",
       "    <tr>\n",
       "      <th>2</th>\n",
       "      <td>0</td>\n",
       "      <td>1467810917</td>\n",
       "      <td>Mon Apr 06 22:19:53 PDT 2009</td>\n",
       "      <td>NO_QUERY</td>\n",
       "      <td>mattycus</td>\n",
       "      <td>@Kenichan I dived many times for the ball. Man...</td>\n",
       "    </tr>\n",
       "    <tr>\n",
       "      <th>3</th>\n",
       "      <td>0</td>\n",
       "      <td>1467811184</td>\n",
       "      <td>Mon Apr 06 22:19:57 PDT 2009</td>\n",
       "      <td>NO_QUERY</td>\n",
       "      <td>ElleCTF</td>\n",
       "      <td>my whole body feels itchy and like its on fire</td>\n",
       "    </tr>\n",
       "    <tr>\n",
       "      <th>4</th>\n",
       "      <td>0</td>\n",
       "      <td>1467811193</td>\n",
       "      <td>Mon Apr 06 22:19:57 PDT 2009</td>\n",
       "      <td>NO_QUERY</td>\n",
       "      <td>Karoli</td>\n",
       "      <td>@nationwideclass no, it's not behaving at all....</td>\n",
       "    </tr>\n",
       "  </tbody>\n",
       "</table>\n",
       "</div>"
      ],
      "text/plain": [
       "   class          id                          date     query             user  \\\n",
       "0      0  1467810369  Mon Apr 06 22:19:45 PDT 2009  NO_QUERY  _TheSpecialOne_   \n",
       "1      0  1467810672  Mon Apr 06 22:19:49 PDT 2009  NO_QUERY    scotthamilton   \n",
       "2      0  1467810917  Mon Apr 06 22:19:53 PDT 2009  NO_QUERY         mattycus   \n",
       "3      0  1467811184  Mon Apr 06 22:19:57 PDT 2009  NO_QUERY          ElleCTF   \n",
       "4      0  1467811193  Mon Apr 06 22:19:57 PDT 2009  NO_QUERY           Karoli   \n",
       "\n",
       "                                                text  \n",
       "0  @switchfoot http://twitpic.com/2y1zl - Awww, t...  \n",
       "1  is upset that he can't update his Facebook by ...  \n",
       "2  @Kenichan I dived many times for the ball. Man...  \n",
       "3    my whole body feels itchy and like its on fire   \n",
       "4  @nationwideclass no, it's not behaving at all....  "
      ]
     },
     "execution_count": 3,
     "metadata": {},
     "output_type": "execute_result"
    }
   ],
   "source": [
    "import pandas as pd\n",
    "generic_df = pd.read_csv('generic_tweets.txt', header=0, names=[\"class\",\"id\",\"date\",\"query\",\"user\",\"text\"])\n",
    "generic_df.head()"
   ]
  },
  {
   "cell_type": "markdown",
   "metadata": {},
   "source": [
    "From above graph we can see that maximum twets are on weekends and minimum tweets are on wednesday\n"
   ]
  },
  {
   "cell_type": "markdown",
   "metadata": {},
   "source": [
    "# Model Preparation\n"
   ]
  },
  {
   "cell_type": "markdown",
   "metadata": {},
   "source": [
    "importing files for  model preparation (logistic regression form sklearn)"
   ]
  },
  {
   "cell_type": "code",
   "execution_count": 475,
   "metadata": {},
   "outputs": [],
   "source": [
    "from sklearn.feature_extraction.text import TfidfVectorizer \n",
    "from sklearn.model_selection import train_test_split\n",
    "from sklearn.metrics import accuracy_score\n",
    "from sklearn.metrics import classification_report"
   ]
  },
  {
   "cell_type": "code",
   "execution_count": 476,
   "metadata": {},
   "outputs": [],
   "source": [
    "x=tweets[\"text\"]\n",
    "y=tweets[\"class\"]"
   ]
  },
  {
   "cell_type": "markdown",
   "metadata": {},
   "source": [
    "spliting the tweets file into training and test data set for preparing logistic regression model"
   ]
  },
  {
   "cell_type": "code",
   "execution_count": 477,
   "metadata": {},
   "outputs": [],
   "source": [
    "x_train, x_test, y_train, y_test = train_test_split(x,y,test_size=0.3)"
   ]
  },
  {
   "cell_type": "markdown",
   "metadata": {},
   "source": [
    "vectorize the text data (converting text data into numerical array)"
   ]
  },
  {
   "cell_type": "code",
   "execution_count": 478,
   "metadata": {},
   "outputs": [
    {
     "name": "stdout",
     "output_type": "stream",
     "text": [
      "  (0, 114726)\t0.2312588803268828\n",
      "  (0, 112747)\t0.2262531515339607\n",
      "  (0, 108025)\t0.4007474375411282\n",
      "  (0, 62969)\t0.66222970343744\n",
      "  (0, 50814)\t0.15282201764597378\n",
      "  (0, 50638)\t0.1598063669378966\n",
      "  (0, 37043)\t0.3737325698492044\n",
      "  (0, 31404)\t0.3280449285127277\n",
      "  (1, 111301)\t0.2033391133606479\n",
      "  (1, 104102)\t0.1044030001208999\n",
      "  (1, 95308)\t0.21436374376831305\n",
      "  (1, 91442)\t0.38699137798615113\n",
      "  (1, 71734)\t0.13107983340843576\n",
      "  (1, 59066)\t0.3546296371214137\n",
      "  (1, 47554)\t0.2766170033104849\n",
      "  (1, 47044)\t0.22275373668588044\n",
      "  (1, 45412)\t0.4558059133154022\n",
      "  (1, 39093)\t0.14499146225861512\n",
      "  (1, 24827)\t0.5041599215973542\n",
      "  (2, 112864)\t0.3303344685225114\n",
      "  (2, 107897)\t0.20980547538244682\n",
      "  (2, 104102)\t0.07467240135142895\n",
      "  (2, 102986)\t0.13001700943865455\n",
      "  (2, 102931)\t0.1581500988343668\n",
      "  (2, 102571)\t0.15598618490604726\n",
      "  :\t:\n",
      "  (59996, 31402)\t0.38745807022461054\n",
      "  (59996, 15466)\t0.4494014406769677\n",
      "  (59996, 11783)\t0.4384426556186514\n",
      "  (59997, 111144)\t0.2792722636987888\n",
      "  (59997, 110134)\t0.14777313513860268\n",
      "  (59997, 103864)\t0.15194594764608452\n",
      "  (59997, 101935)\t0.06379414255333195\n",
      "  (59997, 97988)\t0.2774950041976893\n",
      "  (59997, 95022)\t0.09549393926189945\n",
      "  (59997, 81604)\t0.647185815449593\n",
      "  (59997, 76303)\t0.09051535655239963\n",
      "  (59997, 75785)\t0.12923276519352433\n",
      "  (59997, 75673)\t0.3235929077247965\n",
      "  (59997, 64463)\t0.1432945971751507\n",
      "  (59997, 55320)\t0.09803449437160164\n",
      "  (59997, 48779)\t0.12712716934773746\n",
      "  (59997, 36719)\t0.3701297740993888\n",
      "  (59997, 34885)\t0.2222391209986193\n",
      "  (59997, 8652)\t0.07577984817336159\n",
      "  (59999, 106904)\t0.3099640029157597\n",
      "  (59999, 72968)\t0.17112052833825847\n",
      "  (59999, 63164)\t0.2019218001961167\n",
      "  (59999, 62391)\t0.2619753972197545\n",
      "  (59999, 58940)\t0.7729664954432682\n",
      "  (59999, 3681)\t0.40958437037677325\n"
     ]
    }
   ],
   "source": [
    "tfidf = TfidfVectorizer()\n",
    "tfidf_matrix = tfidf.fit_transform(x_train)#converting text to numerical array\n",
    "tfidf_matrix_test = tfidf.transform(x_test)\n",
    "print(tfidf_matrix_test)"
   ]
  },
  {
   "cell_type": "markdown",
   "metadata": {},
   "source": [
    "# Model Implementation"
   ]
  },
  {
   "cell_type": "code",
   "execution_count": 482,
   "metadata": {},
   "outputs": [
    {
     "data": {
      "text/html": [
       "<div>\n",
       "<style scoped>\n",
       "    .dataframe tbody tr th:only-of-type {\n",
       "        vertical-align: middle;\n",
       "    }\n",
       "\n",
       "    .dataframe tbody tr th {\n",
       "        vertical-align: top;\n",
       "    }\n",
       "\n",
       "    .dataframe thead th {\n",
       "        text-align: right;\n",
       "    }\n",
       "</style>\n",
       "<table border=\"1\" class=\"dataframe\">\n",
       "  <thead>\n",
       "    <tr style=\"text-align: right;\">\n",
       "      <th></th>\n",
       "      <th>id</th>\n",
       "      <th>sentiment</th>\n",
       "      <th>negative_reason</th>\n",
       "      <th>user</th>\n",
       "      <th>retweet_count</th>\n",
       "      <th>text</th>\n",
       "    </tr>\n",
       "  </thead>\n",
       "  <tbody>\n",
       "    <tr>\n",
       "      <th>0</th>\n",
       "      <td>5.703010e+17</td>\n",
       "      <td>positive</td>\n",
       "      <td>NaN</td>\n",
       "      <td>jnardino</td>\n",
       "      <td>0</td>\n",
       "      <td>@VirginAmerica plus you've added commercials t...</td>\n",
       "    </tr>\n",
       "    <tr>\n",
       "      <th>1</th>\n",
       "      <td>5.703010e+17</td>\n",
       "      <td>negative</td>\n",
       "      <td>Bad Flight</td>\n",
       "      <td>jnardino</td>\n",
       "      <td>0</td>\n",
       "      <td>@VirginAmerica it's really aggressive to blast...</td>\n",
       "    </tr>\n",
       "    <tr>\n",
       "      <th>2</th>\n",
       "      <td>5.703010e+17</td>\n",
       "      <td>negative</td>\n",
       "      <td>Can't Tell</td>\n",
       "      <td>jnardino</td>\n",
       "      <td>0</td>\n",
       "      <td>@VirginAmerica and it's a really big bad thing...</td>\n",
       "    </tr>\n",
       "    <tr>\n",
       "      <th>3</th>\n",
       "      <td>5.703010e+17</td>\n",
       "      <td>negative</td>\n",
       "      <td>Can't Tell</td>\n",
       "      <td>jnardino</td>\n",
       "      <td>0</td>\n",
       "      <td>@VirginAmerica seriously would pay $30 a fligh...</td>\n",
       "    </tr>\n",
       "    <tr>\n",
       "      <th>4</th>\n",
       "      <td>5.703010e+17</td>\n",
       "      <td>positive</td>\n",
       "      <td>NaN</td>\n",
       "      <td>cjmcginnis</td>\n",
       "      <td>0</td>\n",
       "      <td>@VirginAmerica yes, nearly every time I fly VX...</td>\n",
       "    </tr>\n",
       "  </tbody>\n",
       "</table>\n",
       "</div>"
      ],
      "text/plain": [
       "             id sentiment negative_reason        user  retweet_count  \\\n",
       "0  5.703010e+17  positive             NaN    jnardino              0   \n",
       "1  5.703010e+17  negative      Bad Flight    jnardino              0   \n",
       "2  5.703010e+17  negative      Can't Tell    jnardino              0   \n",
       "3  5.703010e+17  negative      Can't Tell    jnardino              0   \n",
       "4  5.703010e+17  positive             NaN  cjmcginnis              0   \n",
       "\n",
       "                                                text  \n",
       "0  @VirginAmerica plus you've added commercials t...  \n",
       "1  @VirginAmerica it's really aggressive to blast...  \n",
       "2  @VirginAmerica and it's a really big bad thing...  \n",
       "3  @VirginAmerica seriously would pay $30 a fligh...  \n",
       "4  @VirginAmerica yes, nearly every time I fly VX...  "
      ]
     },
     "execution_count": 482,
     "metadata": {},
     "output_type": "execute_result"
    }
   ],
   "source": [
    "import pandas as pd\n",
    "us=pd.read_csv(\"US_airline_tweets.csv\")\n",
    "us[0:5]"
   ]
  },
  {
   "cell_type": "markdown",
   "metadata": {},
   "source": [
    "cleaning the usairline file for regression"
   ]
  },
  {
   "cell_type": "code",
   "execution_count": 483,
   "metadata": {},
   "outputs": [
    {
     "data": {
      "text/plain": [
       "0    virginamerica plus youve added commercials to ...\n",
       "1    virginamerica its really aggressive to blast o...\n",
       "2    virginamerica and its a really big bad thing a...\n",
       "3    virginamerica seriously would pay 30 a flight ...\n",
       "4    virginamerica yes nearly every time i fly vx t...\n",
       "Name: text, dtype: object"
      ]
     },
     "execution_count": 483,
     "metadata": {},
     "output_type": "execute_result"
    }
   ],
   "source": [
    "import re #removal of url, punctuation mark and html tags \n",
    "us[\"text\"]=us[\"text\"].str.lower()#converting to lower case\n",
    "us[\"text\"]=us[\"text\"].str.replace(r'http\\S+', '')\n",
    "us[\"text\"]=us[\"text\"].str.replace(r'[^\\w\\s]','')\n",
    "us[\"text\"]=us[\"text\"].str.replace('<[^<]+?>', '')\n",
    "us[\"text\"].head()"
   ]
  },
  {
   "cell_type": "code",
   "execution_count": 484,
   "metadata": {},
   "outputs": [
    {
     "data": {
      "text/html": [
       "<div>\n",
       "<style scoped>\n",
       "    .dataframe tbody tr th:only-of-type {\n",
       "        vertical-align: middle;\n",
       "    }\n",
       "\n",
       "    .dataframe tbody tr th {\n",
       "        vertical-align: top;\n",
       "    }\n",
       "\n",
       "    .dataframe thead th {\n",
       "        text-align: right;\n",
       "    }\n",
       "</style>\n",
       "<table border=\"1\" class=\"dataframe\">\n",
       "  <thead>\n",
       "    <tr style=\"text-align: right;\">\n",
       "      <th></th>\n",
       "      <th>id</th>\n",
       "      <th>sentiment</th>\n",
       "      <th>negative_reason</th>\n",
       "      <th>user</th>\n",
       "      <th>retweet_count</th>\n",
       "      <th>text</th>\n",
       "    </tr>\n",
       "  </thead>\n",
       "  <tbody>\n",
       "    <tr>\n",
       "      <th>0</th>\n",
       "      <td>5.703010e+17</td>\n",
       "      <td>positive</td>\n",
       "      <td>NaN</td>\n",
       "      <td>jnardino</td>\n",
       "      <td>0</td>\n",
       "      <td>virginamerica plus youve added commercials to ...</td>\n",
       "    </tr>\n",
       "    <tr>\n",
       "      <th>1</th>\n",
       "      <td>5.703010e+17</td>\n",
       "      <td>negative</td>\n",
       "      <td>Bad Flight</td>\n",
       "      <td>jnardino</td>\n",
       "      <td>0</td>\n",
       "      <td>virginamerica its really aggressive to blast o...</td>\n",
       "    </tr>\n",
       "    <tr>\n",
       "      <th>2</th>\n",
       "      <td>5.703010e+17</td>\n",
       "      <td>negative</td>\n",
       "      <td>Can't Tell</td>\n",
       "      <td>jnardino</td>\n",
       "      <td>0</td>\n",
       "      <td>virginamerica and its a really big bad thing a...</td>\n",
       "    </tr>\n",
       "    <tr>\n",
       "      <th>3</th>\n",
       "      <td>5.703010e+17</td>\n",
       "      <td>negative</td>\n",
       "      <td>Can't Tell</td>\n",
       "      <td>jnardino</td>\n",
       "      <td>0</td>\n",
       "      <td>virginamerica seriously would pay 30 a flight ...</td>\n",
       "    </tr>\n",
       "    <tr>\n",
       "      <th>4</th>\n",
       "      <td>5.703010e+17</td>\n",
       "      <td>positive</td>\n",
       "      <td>NaN</td>\n",
       "      <td>cjmcginnis</td>\n",
       "      <td>0</td>\n",
       "      <td>virginamerica yes nearly every time i fly vx t...</td>\n",
       "    </tr>\n",
       "  </tbody>\n",
       "</table>\n",
       "</div>"
      ],
      "text/plain": [
       "             id sentiment negative_reason        user  retweet_count  \\\n",
       "0  5.703010e+17  positive             NaN    jnardino              0   \n",
       "1  5.703010e+17  negative      Bad Flight    jnardino              0   \n",
       "2  5.703010e+17  negative      Can't Tell    jnardino              0   \n",
       "3  5.703010e+17  negative      Can't Tell    jnardino              0   \n",
       "4  5.703010e+17  positive             NaN  cjmcginnis              0   \n",
       "\n",
       "                                                text  \n",
       "0  virginamerica plus youve added commercials to ...  \n",
       "1  virginamerica its really aggressive to blast o...  \n",
       "2  virginamerica and its a really big bad thing a...  \n",
       "3  virginamerica seriously would pay 30 a flight ...  \n",
       "4  virginamerica yes nearly every time i fly vx t...  "
      ]
     },
     "execution_count": 484,
     "metadata": {},
     "output_type": "execute_result"
    }
   ],
   "source": [
    "us.head()"
   ]
  },
  {
   "cell_type": "markdown",
   "metadata": {},
   "source": [
    "removing stopwords using nltk library stopwords and given stopwords because N"
   ]
  },
  {
   "cell_type": "code",
   "execution_count": 485,
   "metadata": {},
   "outputs": [
    {
     "name": "stdout",
     "output_type": "stream",
     "text": [
      "[nltk_data] Downloading package stopwords to\n",
      "[nltk_data]     C:\\Users\\goldy\\AppData\\Roaming\\nltk_data...\n",
      "[nltk_data]   Package stopwords is already up-to-date!\n",
      "0     virginamerica youve commercials experience tacky\n",
      "1    virginamerica aggressive blast obnoxious enter...\n",
      "2                          virginamerica big bad thing\n",
      "3    virginamerica seriously pay 30 flight seats di...\n",
      "4          virginamerica time fly vx âœear wormâ wonât\n",
      "Name: text, dtype: object\n"
     ]
    }
   ],
   "source": [
    "import nltk          #removing stopwords using nltk stopwods and given stopwords\n",
    "nltk.download('stopwords')\n",
    "from nltk.corpus import stopwords\n",
    "stop = stopwords.words('english')\n",
    "stopwords=stopwordlist + stop\n",
    "us['text']=us['text'].apply(lambda x: ' '.join([word for word in x.split() if word not in (stopwords)]))\n",
    "print(us[0:5]['text'])\n"
   ]
  },
  {
   "cell_type": "markdown",
   "metadata": {},
   "source": [
    "converting the sentiment to sentiment score 0 and 4 as to prepare model for applying trained logistic regression model"
   ]
  },
  {
   "cell_type": "code",
   "execution_count": 486,
   "metadata": {},
   "outputs": [
    {
     "data": {
      "text/html": [
       "<div>\n",
       "<style scoped>\n",
       "    .dataframe tbody tr th:only-of-type {\n",
       "        vertical-align: middle;\n",
       "    }\n",
       "\n",
       "    .dataframe tbody tr th {\n",
       "        vertical-align: top;\n",
       "    }\n",
       "\n",
       "    .dataframe thead th {\n",
       "        text-align: right;\n",
       "    }\n",
       "</style>\n",
       "<table border=\"1\" class=\"dataframe\">\n",
       "  <thead>\n",
       "    <tr style=\"text-align: right;\">\n",
       "      <th></th>\n",
       "      <th>id</th>\n",
       "      <th>sentiment</th>\n",
       "      <th>negative_reason</th>\n",
       "      <th>user</th>\n",
       "      <th>retweet_count</th>\n",
       "      <th>text</th>\n",
       "      <th>sentiment_score</th>\n",
       "    </tr>\n",
       "  </thead>\n",
       "  <tbody>\n",
       "    <tr>\n",
       "      <th>0</th>\n",
       "      <td>5.703010e+17</td>\n",
       "      <td>positive</td>\n",
       "      <td>NaN</td>\n",
       "      <td>jnardino</td>\n",
       "      <td>0</td>\n",
       "      <td>virginamerica youve commercials experience tacky</td>\n",
       "      <td>4</td>\n",
       "    </tr>\n",
       "    <tr>\n",
       "      <th>1</th>\n",
       "      <td>5.703010e+17</td>\n",
       "      <td>negative</td>\n",
       "      <td>Bad Flight</td>\n",
       "      <td>jnardino</td>\n",
       "      <td>0</td>\n",
       "      <td>virginamerica aggressive blast obnoxious enter...</td>\n",
       "      <td>0</td>\n",
       "    </tr>\n",
       "    <tr>\n",
       "      <th>2</th>\n",
       "      <td>5.703010e+17</td>\n",
       "      <td>negative</td>\n",
       "      <td>Can't Tell</td>\n",
       "      <td>jnardino</td>\n",
       "      <td>0</td>\n",
       "      <td>virginamerica big bad thing</td>\n",
       "      <td>0</td>\n",
       "    </tr>\n",
       "    <tr>\n",
       "      <th>3</th>\n",
       "      <td>5.703010e+17</td>\n",
       "      <td>negative</td>\n",
       "      <td>Can't Tell</td>\n",
       "      <td>jnardino</td>\n",
       "      <td>0</td>\n",
       "      <td>virginamerica seriously pay 30 flight seats di...</td>\n",
       "      <td>0</td>\n",
       "    </tr>\n",
       "    <tr>\n",
       "      <th>4</th>\n",
       "      <td>5.703010e+17</td>\n",
       "      <td>positive</td>\n",
       "      <td>NaN</td>\n",
       "      <td>cjmcginnis</td>\n",
       "      <td>0</td>\n",
       "      <td>virginamerica time fly vx âœear wormâ wonât</td>\n",
       "      <td>4</td>\n",
       "    </tr>\n",
       "  </tbody>\n",
       "</table>\n",
       "</div>"
      ],
      "text/plain": [
       "             id sentiment negative_reason        user  retweet_count  \\\n",
       "0  5.703010e+17  positive             NaN    jnardino              0   \n",
       "1  5.703010e+17  negative      Bad Flight    jnardino              0   \n",
       "2  5.703010e+17  negative      Can't Tell    jnardino              0   \n",
       "3  5.703010e+17  negative      Can't Tell    jnardino              0   \n",
       "4  5.703010e+17  positive             NaN  cjmcginnis              0   \n",
       "\n",
       "                                                text  sentiment_score  \n",
       "0   virginamerica youve commercials experience tacky                4  \n",
       "1  virginamerica aggressive blast obnoxious enter...                0  \n",
       "2                        virginamerica big bad thing                0  \n",
       "3  virginamerica seriously pay 30 flight seats di...                0  \n",
       "4        virginamerica time fly vx âœear wormâ wonât                4  "
      ]
     },
     "execution_count": 486,
     "metadata": {},
     "output_type": "execute_result"
    }
   ],
   "source": [
    "us[\"sentiment_score\"]=us[\"sentiment\"].apply(lambda x: int(4) if x== \"positive\" else int(0)) # applying lambda for sentiment score\n",
    "us[0:5]"
   ]
  },
  {
   "cell_type": "markdown",
   "metadata": {},
   "source": [
    "applying the trained logistic model for the us airline model"
   ]
  },
  {
   "cell_type": "code",
   "execution_count": 487,
   "metadata": {},
   "outputs": [],
   "source": [
    "p=us[\"text\"]         # assigning values \n",
    "q=us[\"sentiment_score\"]"
   ]
  },
  {
   "cell_type": "code",
   "execution_count": 488,
   "metadata": {},
   "outputs": [
    {
     "name": "stdout",
     "output_type": "stream",
     "text": [
      "  (0, 114791)\t0.4598092411998679\n",
      "  (0, 109432)\t0.5072316533408034\n",
      "  (0, 100112)\t0.48518148740669603\n",
      "  (0, 36395)\t0.34872393454345185\n",
      "  (0, 24074)\t0.4174710209232697\n",
      "  (1, 109432)\t0.4013051055518706\n",
      "  (1, 85168)\t0.4151522751989305\n",
      "  (1, 75430)\t0.3601878420967368\n",
      "  (1, 43838)\t0.3275558626380441\n",
      "  (1, 36739)\t0.30661753409223846\n",
      "  (1, 35041)\t0.30661753409223846\n",
      "  (1, 15326)\t0.2776811916554866\n",
      "  (1, 8410)\t0.16056373047357853\n",
      "  (1, 6480)\t0.3723687631151187\n",
      "  (2, 109432)\t0.7700021843559848\n",
      "  (2, 102908)\t0.37189884856305744\n",
      "  (2, 14641)\t0.393957137226133\n",
      "  (2, 12297)\t0.3370247120806926\n",
      "  (3, 109432)\t0.436296821470997\n",
      "  (3, 108373)\t0.3484075574937546\n",
      "  (3, 102908)\t0.21072444836308535\n",
      "  (3, 91391)\t0.25864465049557334\n",
      "  (3, 90874)\t0.3484075574937546\n",
      "  (3, 80700)\t0.23735304665499699\n",
      "  (3, 78752)\t0.27566362241355524\n",
      "  (3, 38782)\t0.30879582992679855\n",
      "  (3, 38557)\t0.27501506199383946\n",
      "  (3, 30182)\t0.2392054071766429\n",
      "  (3, 12297)\t0.19096414740818943\n",
      "  (3, 1489)\t0.24200413254480763\n",
      "  (4, 109893)\t0.6349801572105277\n",
      "  (4, 109432)\t0.6138007527252753\n",
      "  (4, 103600)\t0.22570026801449888\n",
      "  (4, 38765)\t0.4112277044667133\n"
     ]
    }
   ],
   "source": [
    "#vectorizing text data for application of model\n",
    "tfidf_matrix_test = tfidf.transform(p)\n",
    "print(tfidf_matrix_test[0:5])"
   ]
  },
  {
   "cell_type": "code",
   "execution_count": 489,
   "metadata": {},
   "outputs": [
    {
     "data": {
      "text/html": [
       "<div>\n",
       "<style scoped>\n",
       "    .dataframe tbody tr th:only-of-type {\n",
       "        vertical-align: middle;\n",
       "    }\n",
       "\n",
       "    .dataframe tbody tr th {\n",
       "        vertical-align: top;\n",
       "    }\n",
       "\n",
       "    .dataframe thead th {\n",
       "        text-align: right;\n",
       "    }\n",
       "</style>\n",
       "<table border=\"1\" class=\"dataframe\">\n",
       "  <thead>\n",
       "    <tr style=\"text-align: right;\">\n",
       "      <th></th>\n",
       "      <th>id</th>\n",
       "      <th>sentiment</th>\n",
       "      <th>negative_reason</th>\n",
       "      <th>user</th>\n",
       "      <th>retweet_count</th>\n",
       "      <th>text</th>\n",
       "      <th>sentiment_score</th>\n",
       "    </tr>\n",
       "  </thead>\n",
       "  <tbody>\n",
       "    <tr>\n",
       "      <th>1</th>\n",
       "      <td>5.703010e+17</td>\n",
       "      <td>negative</td>\n",
       "      <td>Bad Flight</td>\n",
       "      <td>jnardino</td>\n",
       "      <td>0</td>\n",
       "      <td>virginamerica aggressive blast obnoxious enter...</td>\n",
       "      <td>0</td>\n",
       "    </tr>\n",
       "    <tr>\n",
       "      <th>2</th>\n",
       "      <td>5.703010e+17</td>\n",
       "      <td>negative</td>\n",
       "      <td>Can't Tell</td>\n",
       "      <td>jnardino</td>\n",
       "      <td>0</td>\n",
       "      <td>virginamerica big bad thing</td>\n",
       "      <td>0</td>\n",
       "    </tr>\n",
       "    <tr>\n",
       "      <th>3</th>\n",
       "      <td>5.703010e+17</td>\n",
       "      <td>negative</td>\n",
       "      <td>Can't Tell</td>\n",
       "      <td>jnardino</td>\n",
       "      <td>0</td>\n",
       "      <td>virginamerica seriously pay 30 flight seats di...</td>\n",
       "      <td>0</td>\n",
       "    </tr>\n",
       "    <tr>\n",
       "      <th>11</th>\n",
       "      <td>5.702820e+17</td>\n",
       "      <td>negative</td>\n",
       "      <td>Late Flight</td>\n",
       "      <td>smartwatermelon</td>\n",
       "      <td>0</td>\n",
       "      <td>virginamerica sfopdx schedule mia</td>\n",
       "      <td>0</td>\n",
       "    </tr>\n",
       "    <tr>\n",
       "      <th>13</th>\n",
       "      <td>5.702770e+17</td>\n",
       "      <td>negative</td>\n",
       "      <td>Bad Flight</td>\n",
       "      <td>heatherovieda</td>\n",
       "      <td>0</td>\n",
       "      <td>virginamerica flew nyc sfo week fully sit seat...</td>\n",
       "      <td>0</td>\n",
       "    </tr>\n",
       "    <tr>\n",
       "      <th>16</th>\n",
       "      <td>5.702660e+17</td>\n",
       "      <td>negative</td>\n",
       "      <td>Can't Tell</td>\n",
       "      <td>MISSGJ</td>\n",
       "      <td>0</td>\n",
       "      <td>virginamerica fares three times carriers seats...</td>\n",
       "      <td>0</td>\n",
       "    </tr>\n",
       "    <tr>\n",
       "      <th>19</th>\n",
       "      <td>5.702570e+17</td>\n",
       "      <td>negative</td>\n",
       "      <td>Customer Service Issue</td>\n",
       "      <td>ayeevickiee</td>\n",
       "      <td>0</td>\n",
       "      <td>virginamerica guys messed seating reserved sea...</td>\n",
       "      <td>0</td>\n",
       "    </tr>\n",
       "    <tr>\n",
       "      <th>20</th>\n",
       "      <td>5.702490e+17</td>\n",
       "      <td>negative</td>\n",
       "      <td>Customer Service Issue</td>\n",
       "      <td>Leora13</td>\n",
       "      <td>0</td>\n",
       "      <td>virginamerica status match program applied thr...</td>\n",
       "      <td>0</td>\n",
       "    </tr>\n",
       "    <tr>\n",
       "      <th>21</th>\n",
       "      <td>5.702400e+17</td>\n",
       "      <td>negative</td>\n",
       "      <td>Can't Tell</td>\n",
       "      <td>meredithjlynn</td>\n",
       "      <td>0</td>\n",
       "      <td>virginamerica happened 2 ur vegan food options...</td>\n",
       "      <td>0</td>\n",
       "    </tr>\n",
       "    <tr>\n",
       "      <th>22</th>\n",
       "      <td>5.702080e+17</td>\n",
       "      <td>negative</td>\n",
       "      <td>Bad Flight</td>\n",
       "      <td>blackjackpro911</td>\n",
       "      <td>0</td>\n",
       "      <td>virginamerica amazing cant cold air vents vx35...</td>\n",
       "      <td>0</td>\n",
       "    </tr>\n",
       "  </tbody>\n",
       "</table>\n",
       "</div>"
      ],
      "text/plain": [
       "              id sentiment         negative_reason             user  \\\n",
       "1   5.703010e+17  negative              Bad Flight         jnardino   \n",
       "2   5.703010e+17  negative              Can't Tell         jnardino   \n",
       "3   5.703010e+17  negative              Can't Tell         jnardino   \n",
       "11  5.702820e+17  negative             Late Flight  smartwatermelon   \n",
       "13  5.702770e+17  negative              Bad Flight    heatherovieda   \n",
       "16  5.702660e+17  negative              Can't Tell           MISSGJ   \n",
       "19  5.702570e+17  negative  Customer Service Issue      ayeevickiee   \n",
       "20  5.702490e+17  negative  Customer Service Issue          Leora13   \n",
       "21  5.702400e+17  negative              Can't Tell    meredithjlynn   \n",
       "22  5.702080e+17  negative              Bad Flight  blackjackpro911   \n",
       "\n",
       "    retweet_count                                               text  \\\n",
       "1               0  virginamerica aggressive blast obnoxious enter...   \n",
       "2               0                        virginamerica big bad thing   \n",
       "3               0  virginamerica seriously pay 30 flight seats di...   \n",
       "11              0                  virginamerica sfopdx schedule mia   \n",
       "13              0  virginamerica flew nyc sfo week fully sit seat...   \n",
       "16              0  virginamerica fares three times carriers seats...   \n",
       "19              0  virginamerica guys messed seating reserved sea...   \n",
       "20              0  virginamerica status match program applied thr...   \n",
       "21              0  virginamerica happened 2 ur vegan food options...   \n",
       "22              0  virginamerica amazing cant cold air vents vx35...   \n",
       "\n",
       "    sentiment_score  \n",
       "1                 0  \n",
       "2                 0  \n",
       "3                 0  \n",
       "11                0  \n",
       "13                0  \n",
       "16                0  \n",
       "19                0  \n",
       "20                0  \n",
       "21                0  \n",
       "22                0  "
      ]
     },
     "execution_count": 489,
     "metadata": {},
     "output_type": "execute_result"
    }
   ],
   "source": [
    "us_n=us[us[\"sentiment\"]==\"negative\"]  # sentment negative filtered dataframe\n",
    "us_n[0:10]\n"
   ]
  },
  {
   "cell_type": "code",
   "execution_count": 490,
   "metadata": {
    "scrolled": true
   },
   "outputs": [
    {
     "data": {
      "text/html": [
       "<div>\n",
       "<style scoped>\n",
       "    .dataframe tbody tr th:only-of-type {\n",
       "        vertical-align: middle;\n",
       "    }\n",
       "\n",
       "    .dataframe tbody tr th {\n",
       "        vertical-align: top;\n",
       "    }\n",
       "\n",
       "    .dataframe thead th {\n",
       "        text-align: right;\n",
       "    }\n",
       "</style>\n",
       "<table border=\"1\" class=\"dataframe\">\n",
       "  <thead>\n",
       "    <tr style=\"text-align: right;\">\n",
       "      <th></th>\n",
       "      <th>id</th>\n",
       "      <th>sentiment</th>\n",
       "      <th>negative_reason</th>\n",
       "      <th>user</th>\n",
       "      <th>retweet_count</th>\n",
       "      <th>text</th>\n",
       "      <th>sentiment_score</th>\n",
       "    </tr>\n",
       "  </thead>\n",
       "  <tbody>\n",
       "    <tr>\n",
       "      <th>1</th>\n",
       "      <td>5.703010e+17</td>\n",
       "      <td>negative</td>\n",
       "      <td>Bad Flight</td>\n",
       "      <td>jnardino</td>\n",
       "      <td>0</td>\n",
       "      <td>virginamerica aggressive blast obnoxious enter...</td>\n",
       "      <td>0</td>\n",
       "    </tr>\n",
       "    <tr>\n",
       "      <th>2</th>\n",
       "      <td>5.703010e+17</td>\n",
       "      <td>negative</td>\n",
       "      <td>Can't Tell</td>\n",
       "      <td>jnardino</td>\n",
       "      <td>0</td>\n",
       "      <td>virginamerica big bad thing</td>\n",
       "      <td>0</td>\n",
       "    </tr>\n",
       "    <tr>\n",
       "      <th>3</th>\n",
       "      <td>5.703010e+17</td>\n",
       "      <td>negative</td>\n",
       "      <td>Can't Tell</td>\n",
       "      <td>jnardino</td>\n",
       "      <td>0</td>\n",
       "      <td>virginamerica seriously pay 30 flight seats di...</td>\n",
       "      <td>0</td>\n",
       "    </tr>\n",
       "    <tr>\n",
       "      <th>11</th>\n",
       "      <td>5.702820e+17</td>\n",
       "      <td>negative</td>\n",
       "      <td>Late Flight</td>\n",
       "      <td>smartwatermelon</td>\n",
       "      <td>0</td>\n",
       "      <td>virginamerica sfopdx schedule mia</td>\n",
       "      <td>0</td>\n",
       "    </tr>\n",
       "    <tr>\n",
       "      <th>13</th>\n",
       "      <td>5.702770e+17</td>\n",
       "      <td>negative</td>\n",
       "      <td>Bad Flight</td>\n",
       "      <td>heatherovieda</td>\n",
       "      <td>0</td>\n",
       "      <td>virginamerica flew nyc sfo week fully sit seat...</td>\n",
       "      <td>0</td>\n",
       "    </tr>\n",
       "    <tr>\n",
       "      <th>16</th>\n",
       "      <td>5.702660e+17</td>\n",
       "      <td>negative</td>\n",
       "      <td>Can't Tell</td>\n",
       "      <td>MISSGJ</td>\n",
       "      <td>0</td>\n",
       "      <td>virginamerica fares three times carriers seats...</td>\n",
       "      <td>0</td>\n",
       "    </tr>\n",
       "    <tr>\n",
       "      <th>19</th>\n",
       "      <td>5.702570e+17</td>\n",
       "      <td>negative</td>\n",
       "      <td>Customer Service Issue</td>\n",
       "      <td>ayeevickiee</td>\n",
       "      <td>0</td>\n",
       "      <td>virginamerica guys messed seating reserved sea...</td>\n",
       "      <td>0</td>\n",
       "    </tr>\n",
       "    <tr>\n",
       "      <th>20</th>\n",
       "      <td>5.702490e+17</td>\n",
       "      <td>negative</td>\n",
       "      <td>Customer Service Issue</td>\n",
       "      <td>Leora13</td>\n",
       "      <td>0</td>\n",
       "      <td>virginamerica status match program applied thr...</td>\n",
       "      <td>0</td>\n",
       "    </tr>\n",
       "    <tr>\n",
       "      <th>21</th>\n",
       "      <td>5.702400e+17</td>\n",
       "      <td>negative</td>\n",
       "      <td>Can't Tell</td>\n",
       "      <td>meredithjlynn</td>\n",
       "      <td>0</td>\n",
       "      <td>virginamerica happened 2 ur vegan food options...</td>\n",
       "      <td>0</td>\n",
       "    </tr>\n",
       "    <tr>\n",
       "      <th>22</th>\n",
       "      <td>5.702080e+17</td>\n",
       "      <td>negative</td>\n",
       "      <td>Bad Flight</td>\n",
       "      <td>blackjackpro911</td>\n",
       "      <td>0</td>\n",
       "      <td>virginamerica amazing cant cold air vents vx35...</td>\n",
       "      <td>0</td>\n",
       "    </tr>\n",
       "  </tbody>\n",
       "</table>\n",
       "</div>"
      ],
      "text/plain": [
       "              id sentiment         negative_reason             user  \\\n",
       "1   5.703010e+17  negative              Bad Flight         jnardino   \n",
       "2   5.703010e+17  negative              Can't Tell         jnardino   \n",
       "3   5.703010e+17  negative              Can't Tell         jnardino   \n",
       "11  5.702820e+17  negative             Late Flight  smartwatermelon   \n",
       "13  5.702770e+17  negative              Bad Flight    heatherovieda   \n",
       "16  5.702660e+17  negative              Can't Tell           MISSGJ   \n",
       "19  5.702570e+17  negative  Customer Service Issue      ayeevickiee   \n",
       "20  5.702490e+17  negative  Customer Service Issue          Leora13   \n",
       "21  5.702400e+17  negative              Can't Tell    meredithjlynn   \n",
       "22  5.702080e+17  negative              Bad Flight  blackjackpro911   \n",
       "\n",
       "    retweet_count                                               text  \\\n",
       "1               0  virginamerica aggressive blast obnoxious enter...   \n",
       "2               0                        virginamerica big bad thing   \n",
       "3               0  virginamerica seriously pay 30 flight seats di...   \n",
       "11              0                  virginamerica sfopdx schedule mia   \n",
       "13              0  virginamerica flew nyc sfo week fully sit seat...   \n",
       "16              0  virginamerica fares three times carriers seats...   \n",
       "19              0  virginamerica guys messed seating reserved sea...   \n",
       "20              0  virginamerica status match program applied thr...   \n",
       "21              0  virginamerica happened 2 ur vegan food options...   \n",
       "22              0  virginamerica amazing cant cold air vents vx35...   \n",
       "\n",
       "    sentiment_score  \n",
       "1                 0  \n",
       "2                 0  \n",
       "3                 0  \n",
       "11                0  \n",
       "13                0  \n",
       "16                0  \n",
       "19                0  \n",
       "20                0  \n",
       "21                0  \n",
       "22                0  "
      ]
     },
     "execution_count": 490,
     "metadata": {},
     "output_type": "execute_result"
    }
   ],
   "source": [
    "prediction=model.predict(tfidf_matrix_test)\n",
    "len(prediction)\n",
    "us[\"predicted\"]=prediction\n",
    "us_n[0:10]"
   ]
  },
  {
   "cell_type": "markdown",
   "metadata": {},
   "source": [
    "taking out number of given posiive/negative tweets and number of predicted positive/negative tweets"
   ]
  },
  {
   "cell_type": "markdown",
   "metadata": {},
   "source": [
    "*for discussion question"
   ]
  },
  {
   "cell_type": "code",
   "execution_count": 491,
   "metadata": {},
   "outputs": [
    {
     "name": "stdout",
     "output_type": "stream",
     "text": [
      "[5908, 2363, 5633, 9178]\n"
     ]
    },
    {
     "data": {
      "text/plain": [
       "'virginamerica youve commercials experience tacky'"
      ]
     },
     "execution_count": 491,
     "metadata": {},
     "output_type": "execute_result"
    }
   ],
   "source": [
    "pre_p=len(us[us[\"predicted\"]==4])       #41.70% of total positve tweets are predicted (after finding the length predicted/given)\n",
    "act_p=len(us[us[\"sentiment_score\"]==4])\n",
    "\n",
    "pre_n=len(us[us[\"predicted\"]==0])       #64.5% of total negative tweets ae predicted(after finding the length predicted/given) \n",
    "act_n=len(us[us[\"sentiment_score\"]==0]) # for a perticular prediction\n",
    "\n",
    "values_p=[pre_p,act_p,pre_n,act_n]\n",
    "names_p=[\"pre-pos\",\"act-pos\",\"pre-neg\",\"act-neg\"]\n",
    "print(values_p)\n",
    "pd.Series(us[\"predicted\"]).value_counts()#found direct command to find the diffrent value count in column\n",
    "us[\"text\"][0] #checking the text value of first cell"
   ]
  },
  {
   "cell_type": "code",
   "execution_count": 492,
   "metadata": {},
   "outputs": [
    {
     "data": {
      "image/png": "[encoded data removed]",
      "text/plain": [
       "<Figure size 432x288 with 1 Axes>"
      ]
     },
     "metadata": {},
     "output_type": "display_data"
    }
   ],
   "source": [
    "import matplotlib.pyplot as plt\n",
    "\n",
    "plt.bar(names_p,values_p, width=float(0.45),color=\"blue\")\n",
    "\n",
    "plt.show()"
   ]
  },
  {
   "cell_type": "markdown",
   "metadata": {},
   "source": [
    "Drawing a graph for actual "
   ]
  },
  {
   "cell_type": "markdown",
   "metadata": {},
   "source": [
    "finding the accuracy of a model"
   ]
  },
  {
   "cell_type": "code",
   "execution_count": 493,
   "metadata": {},
   "outputs": [
    {
     "name": "stdout",
     "output_type": "stream",
     "text": [
      "accuracy of model implemented is 64.36184039511308\n"
     ]
    }
   ],
   "source": [
    "accuracy_1= accuracy_score(q,prediction)\n",
    "print(\"accuracy of model implemented is \" + str(accuracy_1*100) )"
   ]
  },
  {
   "cell_type": "markdown",
   "metadata": {},
   "source": [
    "filtering the usairline file consisting only negative sentiment"
   ]
  },
  {
   "cell_type": "code",
   "execution_count": 494,
   "metadata": {},
   "outputs": [],
   "source": [
    "a=us_n[\"text\"]                #assigning the values of column \n",
    "b=us_n[\"negative_reason\"]   # b has multiple classes"
   ]
  },
  {
   "cell_type": "markdown",
   "metadata": {},
   "source": [
    "splitting the train and test data doing multiclass regression"
   ]
  },
  {
   "cell_type": "code",
   "execution_count": 495,
   "metadata": {},
   "outputs": [],
   "source": [
    "a_train, a_test, b_train, b_test = train_test_split(a,b,test_size=0.3)"
   ]
  },
  {
   "cell_type": "markdown",
   "metadata": {},
   "source": [
    "vectorize the textdata into numerical arrays for performing logistic regression"
   ]
  },
  {
   "cell_type": "code",
   "execution_count": 496,
   "metadata": {},
   "outputs": [],
   "source": [
    "tfidf = TfidfVectorizer()\n",
    "tfidf_matrix = tfidf.fit_transform(a_train) #textdata transformation \n",
    "tfidf_matrix_test = tfidf.transform(a_test)\n",
    "#print(tfidf_matrix_test)"
   ]
  },
  {
   "cell_type": "markdown",
   "metadata": {},
   "source": [
    "applying multiclass logistic regression"
   ]
  },
  {
   "cell_type": "code",
   "execution_count": 497,
   "metadata": {},
   "outputs": [
    {
     "data": {
      "text/plain": [
       "LogisticRegression(C=1.0, class_weight=None, dual=False, fit_intercept=True,\n",
       "          intercept_scaling=1, max_iter=100, multi_class='ovr', n_jobs=1,\n",
       "          penalty='l2', random_state=None, solver='liblinear', tol=0.0001,\n",
       "          verbose=0, warm_start=False)"
      ]
     },
     "execution_count": 497,
     "metadata": {},
     "output_type": "execute_result"
    }
   ],
   "source": [
    "model = LogisticRegression()\n",
    "model.fit(tfidf_matrix,b_train)"
   ]
  },
  {
   "cell_type": "markdown",
   "metadata": {},
   "source": [
    "predicting the output for testdata input"
   ]
  },
  {
   "cell_type": "code",
   "execution_count": 498,
   "metadata": {},
   "outputs": [],
   "source": [
    "prediction1 = model.predict(tfidf_matrix_test)"
   ]
  },
  {
   "cell_type": "code",
   "execution_count": 499,
   "metadata": {},
   "outputs": [
    {
     "name": "stdout",
     "output_type": "stream",
     "text": [
      "Accuracy of implemented model is 59.00508351488744\n"
     ]
    }
   ],
   "source": [
    "accuracy_t=accuracy_score(prediction1,b_test)   # finding accuracy of implemented model\n",
    "print(\"Accuracy of implemented model is \"+ str(accuracy_t*100))"
   ]
  },
  {
   "cell_type": "markdown",
   "metadata": {},
   "source": [
    "# Result"
   ]
  },
  {
   "cell_type": "markdown",
   "metadata": {},
   "source": [
    "The answer for research question :\n",
    "\n",
    "(9178/11541)  \"79.52%\"  which indicates most of the customers (who are tweeting) are unsatisfied.least tweets are for VIrginamerica(excluding others) which is 2.96% \n",
    "\n",
    "model accuracy is (~79%) \n",
    "improving first model we can remove twitter handles which will improve the first model accuracy.\n"
   ]
  }
 ],
 "metadata": {
  "kernelspec": {
   "display_name": "Python 3",
   "language": "python",
   "name": "python3"
  },
  "language_info": {
   "codemirror_mode": {
    "name": "ipython",
    "version": 3
   },
   "file_extension": ".py",
   "mimetype": "text/x-python",
   "name": "python",
   "nbconvert_exporter": "python",
   "pygments_lexer": "ipython3",
   "version": "3.6.5"
  }
 },
 "nbformat": 4,
 "nbformat_minor": 2
}
